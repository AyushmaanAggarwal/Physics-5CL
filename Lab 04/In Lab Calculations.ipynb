{
 "cells": [
  {
   "cell_type": "code",
   "execution_count": 34,
   "id": "6f416546-43c3-41e5-9328-f9392e70a43d",
   "metadata": {},
   "outputs": [],
   "source": [
    "import numpy as np\n",
    "import matplotlib.pyplot as plt\n",
    "import scipy.optimize as opt"
   ]
  },
  {
   "cell_type": "code",
   "execution_count": 74,
   "id": "07ade6bf-cbe0-48bf-b03a-cc49c39062a6",
   "metadata": {},
   "outputs": [],
   "source": [
    "def non_ohmic(V, V_0, a, b, c):\n",
    "    V = V - V_0\n",
    "    \n",
    "    if V < 0:\n",
    "        return 0\n",
    "    elif V > c:\n",
    "        slope = 2*a*V + b\n",
    "        x_point = c\n",
    "        y_point = a*c**2 + b*c\n",
    "        return slope*(V-x_point) + y_point\n",
    "    return a*V**2 + b*V\n",
    "\n",
    "def non_ohmic_list(V, V_0, a, b, c=10000):\n",
    "    return [non_ohmic(x, V_0, a, b, c) for x in V]\n",
    "\n",
    "def stoping_voltage(V_0, a, b):\n",
    "    x = 400\n",
    "    y = a*x**2 + b*x\n",
    "    slope = 2*a*x + b\n",
    "    return -y/slope + x + V_0"
   ]
  },
  {
   "cell_type": "markdown",
   "id": "ea2e5e18-4a29-47bb-8ea0-a4debaf26e09",
   "metadata": {
    "tags": [],
    "toc-hr-collapsed": true
   },
   "source": [
    "# Experiment 1"
   ]
  },
  {
   "cell_type": "code",
   "execution_count": 2,
   "id": "b31034ea-6c2c-4907-b8fd-fe620ee21da5",
   "metadata": {},
   "outputs": [
    {
     "data": {
      "text/plain": [
       "18.778033222445536"
      ]
     },
     "execution_count": 2,
     "metadata": {},
     "output_type": "execute_result"
    }
   ],
   "source": [
    "np.arctan(6.8/20)/np.pi*180"
   ]
  },
  {
   "cell_type": "code",
   "execution_count": 3,
   "id": "4b884a6d-241a-476a-b3aa-e6c2a42fb8d8",
   "metadata": {},
   "outputs": [
    {
     "data": {
      "text/plain": [
       "19.03443435483519"
      ]
     },
     "execution_count": 3,
     "metadata": {},
     "output_type": "execute_result"
    }
   ],
   "source": [
    "np.arctan(6.9/20)/np.pi*180"
   ]
  },
  {
   "cell_type": "code",
   "execution_count": 4,
   "id": "e8cfdba3-9ced-42a1-a79c-91cab331b0f9",
   "metadata": {},
   "outputs": [],
   "source": [
    "d = 634.6e-9/np.sin(18.9*np.pi/180)\n",
    "diff = .01/d"
   ]
  },
  {
   "cell_type": "code",
   "execution_count": 5,
   "id": "0a73045b-3d8f-4c64-b163-fe19ca61319d",
   "metadata": {},
   "outputs": [
    {
     "data": {
      "text/plain": [
       "43.0454733751738"
      ]
     },
     "execution_count": 5,
     "metadata": {},
     "output_type": "execute_result"
    }
   ],
   "source": [
    "np.arctan(4.67/5)/np.pi*180"
   ]
  },
  {
   "cell_type": "code",
   "execution_count": 6,
   "id": "5c0e672e-121f-4fcb-a036-926a3c1f7ff1",
   "metadata": {},
   "outputs": [
    {
     "data": {
      "text/plain": [
       "10746.901356169215"
      ]
     },
     "execution_count": 6,
     "metadata": {},
     "output_type": "execute_result"
    }
   ],
   "source": [
    "d = 634.6e-9/np.sin(43*np.pi/180)\n",
    ".01/d"
   ]
  },
  {
   "cell_type": "markdown",
   "id": "73cdcc70-feb3-47c6-a33d-0d44a153c2a2",
   "metadata": {
    "tags": []
   },
   "source": [
    "### Red"
   ]
  },
  {
   "cell_type": "code",
   "execution_count": 7,
   "id": "eabbd0d5-355b-43b3-a839-a822321d0fbb",
   "metadata": {},
   "outputs": [],
   "source": [
    "# r = right, l = left, n = near, f = far\n",
    "rn = np.mean([4.9,4.95,4.85, 4.9, 4.8, 4.95])\n",
    "rf = np.mean([5.05, 5.1, 5.1, 5.15, 5.2, 5.2])\n",
    "ln = np.mean([4.8, 4.95, 4.85, 4.9, 4.8, 4.9])\n",
    "lf = np.mean([5.1, 5.1, 5.15, 5.2, 5.15, 5.2])"
   ]
  },
  {
   "cell_type": "code",
   "execution_count": 8,
   "id": "5919466f-1cbe-4d72-9172-7dfae2772bf1",
   "metadata": {},
   "outputs": [
    {
     "name": "stdout",
     "output_type": "stream",
     "text": [
      "18.60 17.64 17.73 18.55\n",
      "18.57526012554225\n"
     ]
    }
   ],
   "source": [
    "ang_form = lambda x: np.arctan(x/(16.1-.8))/np.pi*180\n",
    "rnang = ang_form(rn)\n",
    "rfang = ang_form(rf)\n",
    "lnang = ang_form(ln)\n",
    "lfang = ang_form(lf)\n",
    "print('%0.2f'%lfang, '%0.2f'%lnang, '%0.2f'%rnang, '%0.2f'%rfang)\n",
    "nang = np.mean([lnang, rnang])\n",
    "fang = np.mean([lfang, rfang])\n",
    "print(fang)"
   ]
  },
  {
   "cell_type": "code",
   "execution_count": 9,
   "id": "64f27200-7993-4720-93d7-d286fd0e8554",
   "metadata": {},
   "outputs": [
    {
     "data": {
      "text/plain": [
       "2.8270899303372183e-07"
      ]
     },
     "execution_count": 9,
     "metadata": {},
     "output_type": "execute_result"
    }
   ],
   "source": [
    "d*np.sin(nang*np.pi/180)"
   ]
  },
  {
   "cell_type": "code",
   "execution_count": 10,
   "id": "917b3c58-0d4d-4444-97cd-910d35f81148",
   "metadata": {},
   "outputs": [
    {
     "data": {
      "text/plain": [
       "2.964110583601682e-07"
      ]
     },
     "execution_count": 10,
     "metadata": {},
     "output_type": "execute_result"
    }
   ],
   "source": [
    "d*np.sin(fang*np.pi/180)"
   ]
  },
  {
   "cell_type": "markdown",
   "id": "bc577b5e-e07d-4691-b226-6a1cdd99686f",
   "metadata": {
    "tags": [],
    "toc-hr-collapsed": true
   },
   "source": [
    "# Experiment 2"
   ]
  },
  {
   "cell_type": "markdown",
   "id": "c366d397-943f-4b11-8581-98db767067d5",
   "metadata": {
    "tags": []
   },
   "source": [
    "### Blue"
   ]
  },
  {
   "cell_type": "code",
   "execution_count": 11,
   "id": "242df9f0-0015-4012-90b0-282e5673de17",
   "metadata": {},
   "outputs": [],
   "source": [
    "# r = right, l = left, n = near, f = far\n",
    "distance = 20-.8\n",
    "rn = np.mean([4.3, 4.25, 4.25, 4.3, 4.35, 4.35])\n",
    "rf = np.mean([4.7, 4.65, 4.6, 4.65, 4.6, 4.7])\n",
    "ln = np.mean([4.35, 4.2, 4.3, 4.25, 4.25, 4.3])\n",
    "lf = np.mean([4.7, 4.65, 4.65, 4.5, 4.5, 4.55])"
   ]
  },
  {
   "cell_type": "code",
   "execution_count": 12,
   "id": "1233d3b6-0ba8-4f2a-a874-d9f5d1bf83b2",
   "metadata": {},
   "outputs": [
    {
     "name": "stdout",
     "output_type": "stream",
     "text": [
      "13.45 12.55 12.62 13.61\n",
      "13.53191026225907\n"
     ]
    }
   ],
   "source": [
    "ang_form = lambda x: np.arctan(x/distance)/np.pi*180\n",
    "rnang = ang_form(rn)\n",
    "rfang = ang_form(rf)\n",
    "lnang = ang_form(ln)\n",
    "lfang = ang_form(lf)\n",
    "print('%0.2f'%lfang, '%0.2f'%lnang, '%0.2f'%rnang, '%0.2f'%rfang)\n",
    "nang = np.mean([lnang, rnang])\n",
    "fang = np.mean([lfang, rfang])\n",
    "print(fang)"
   ]
  },
  {
   "cell_type": "code",
   "execution_count": 13,
   "id": "2d622b36-6c2b-446f-8503-43fd356824fc",
   "metadata": {},
   "outputs": [
    {
     "data": {
      "text/plain": [
       "2.0279278933489447e-07"
      ]
     },
     "execution_count": 13,
     "metadata": {},
     "output_type": "execute_result"
    }
   ],
   "source": [
    "d*np.sin(nang*np.pi/180)"
   ]
  },
  {
   "cell_type": "code",
   "execution_count": 14,
   "id": "f5c2fe0a-bae3-4879-9ba7-e43f40fd9c31",
   "metadata": {},
   "outputs": [
    {
     "data": {
      "text/plain": [
       "2.1772497088864405e-07"
      ]
     },
     "execution_count": 14,
     "metadata": {},
     "output_type": "execute_result"
    }
   ],
   "source": [
    "d*np.sin(fang*np.pi/180)"
   ]
  },
  {
   "cell_type": "code",
   "execution_count": null,
   "id": "4b166408-f503-4704-a3aa-90deff86c492",
   "metadata": {},
   "outputs": [],
   "source": []
  },
  {
   "cell_type": "markdown",
   "id": "13e8f213-4f6c-49c2-8253-b8eeba9e27e9",
   "metadata": {
    "tags": []
   },
   "source": [
    "### Green"
   ]
  },
  {
   "cell_type": "code",
   "execution_count": 15,
   "id": "41e60ef6-99f8-49a0-aa57-d609bf7418ef",
   "metadata": {},
   "outputs": [],
   "source": [
    "# r = right, l = left, n = near, f = far\n",
    "distance = 20-.08\n",
    "rn = np.mean([5.2, 5.15, 5.2,5.0,5.0,5.0])\n",
    "rf = np.mean([6.35,6.4,6.3,6.3,6.35,6.25])\n",
    "ln = np.mean([5.15,5.15,5.2,5.0,5,5])\n",
    "lf = np.mean([6.2, 6.15, 6.2, 6.35, 6.3, 6.3])"
   ]
  },
  {
   "cell_type": "code",
   "execution_count": 16,
   "id": "7a9f7446-4549-4395-96c4-ab4fdedc8674",
   "metadata": {},
   "outputs": [
    {
     "name": "stdout",
     "output_type": "stream",
     "text": [
      "17.42 14.32 14.34 17.62\n",
      "17.517599782396125\n"
     ]
    }
   ],
   "source": [
    "ang_form = lambda x: np.arctan(x/distance)/np.pi*180\n",
    "rnang = ang_form(rn)\n",
    "rfang = ang_form(rf)\n",
    "lnang = ang_form(ln)\n",
    "lfang = ang_form(lf)\n",
    "print('%0.2f'%lfang, '%0.2f'%lnang, '%0.2f'%rnang, '%0.2f'%rfang)\n",
    "nang = np.mean([lnang, rnang])\n",
    "fang = np.mean([lfang, rfang])\n",
    "print(fang)"
   ]
  },
  {
   "cell_type": "code",
   "execution_count": 17,
   "id": "668f9087-ebeb-4211-bef2-16646ab14602",
   "metadata": {},
   "outputs": [
    {
     "data": {
      "text/plain": [
       "2.3025583308997935e-07"
      ]
     },
     "execution_count": 17,
     "metadata": {},
     "output_type": "execute_result"
    }
   ],
   "source": [
    "d*np.sin(nang*np.pi/180)"
   ]
  },
  {
   "cell_type": "code",
   "execution_count": 18,
   "id": "29b01db6-a23d-444e-acd4-7d7fb1544aa1",
   "metadata": {},
   "outputs": [
    {
     "data": {
      "text/plain": [
       "2.800795620351535e-07"
      ]
     },
     "execution_count": 18,
     "metadata": {},
     "output_type": "execute_result"
    }
   ],
   "source": [
    "d*np.sin(fang*np.pi/180)"
   ]
  },
  {
   "cell_type": "markdown",
   "id": "8556c433-7daf-40d4-92ab-e6e8373b4279",
   "metadata": {
    "tags": [],
    "toc-hr-collapsed": true
   },
   "source": [
    "# Experiment 3"
   ]
  },
  {
   "cell_type": "markdown",
   "id": "6100a83a-9ac1-4ba9-ba74-cd0628a2495e",
   "metadata": {
    "tags": []
   },
   "source": [
    "## 3.1 "
   ]
  },
  {
   "cell_type": "markdown",
   "id": "38548bbb-8264-4acf-9698-01fc76bb9ca4",
   "metadata": {
    "tags": []
   },
   "source": [
    "### Blue"
   ]
  },
  {
   "cell_type": "code",
   "execution_count": 19,
   "id": "db4bf5d2-9033-45df-8eb3-6fc85a02ae99",
   "metadata": {},
   "outputs": [],
   "source": [
    "# Data Collection\n",
    "Voltage = [0.0,  -199, -399, -602, -805, -900,-915, -926, -950, 192,  399, 457] \n",
    "Current = [3999, 2567, 1378,  504,   85,   12,   9,    1,   -5, 5599, 7319,7805]\n",
    "assert len(Voltage) == len(Current)"
   ]
  },
  {
   "cell_type": "code",
   "execution_count": 20,
   "id": "f0086dd9-9f0f-4b16-8b86-9c46af2e39d7",
   "metadata": {},
   "outputs": [
    {
     "data": {
      "text/plain": [
       "<matplotlib.collections.PathCollection at 0x7f3677d9a830>"
      ]
     },
     "execution_count": 20,
     "metadata": {},
     "output_type": "execute_result"
    },
    {
     "data": {
      "image/png": "[encoded data removed]",
      "text/plain": [
       "<Figure size 432x288 with 1 Axes>"
      ]
     },
     "metadata": {
      "needs_background": "light"
     },
     "output_type": "display_data"
    }
   ],
   "source": [
    "plt.scatter(Voltage, Current)"
   ]
  },
  {
   "cell_type": "markdown",
   "id": "7c4db1be-817e-45e5-9f11-a250caa7566b",
   "metadata": {
    "tags": []
   },
   "source": [
    "### Green"
   ]
  },
  {
   "cell_type": "code",
   "execution_count": 21,
   "id": "87abdd3d-2580-4493-8199-2d6ca4a33118",
   "metadata": {},
   "outputs": [],
   "source": [
    "# Data Collection\n",
    "Voltage = [1,   -204, -303, -407, -452, -502, -553,-607,-613, -649, -701, -800, 203, 358, 451] \n",
    "Current = [1216, 551,  309,  140,   85,   50,   23,   9,   5,    0, -3, -7, 1974, 2531, 2864]\n",
    "assert len(Voltage) == len(Current)"
   ]
  },
  {
   "cell_type": "code",
   "execution_count": 22,
   "id": "d49f078b-898f-4f50-b3cf-6e2b5158323f",
   "metadata": {},
   "outputs": [
    {
     "data": {
      "text/plain": [
       "<matplotlib.collections.PathCollection at 0x7f3675cbf7c0>"
      ]
     },
     "execution_count": 22,
     "metadata": {},
     "output_type": "execute_result"
    },
    {
     "data": {
      "image/png": "[encoded data removed]",
      "text/plain": [
       "<Figure size 432x288 with 1 Axes>"
      ]
     },
     "metadata": {
      "needs_background": "light"
     },
     "output_type": "display_data"
    }
   ],
   "source": [
    "plt.scatter(Voltage, Current)"
   ]
  },
  {
   "cell_type": "code",
   "execution_count": null,
   "id": "9482c138-3a2a-43cb-ad12-0a5f01897e9f",
   "metadata": {},
   "outputs": [],
   "source": []
  },
  {
   "cell_type": "markdown",
   "id": "42ec8294-4094-4d99-b4a7-320969c19b1b",
   "metadata": {
    "tags": []
   },
   "source": [
    "### Red"
   ]
  },
  {
   "cell_type": "code",
   "execution_count": 23,
   "id": "2190235f-ebcb-4772-83d4-ae34da105b14",
   "metadata": {},
   "outputs": [],
   "source": [
    "# Data Collection\n",
    "Voltage = [0,  -14, -32, -53, -97, -133, -178, -222, -254, -287, -303, -401, -511, 106, 369, 400, 450] \n",
    "Current = [254,233, 202, 173, 111,   69,   40,   16,    9,    3,    0,    1, -3, 444, 843, 885, 946]\n",
    "assert len(Voltage) == len(Current)"
   ]
  },
  {
   "cell_type": "code",
   "execution_count": 24,
   "id": "f787405b-fb8f-4b36-8cbb-1c0a036fe544",
   "metadata": {},
   "outputs": [
    {
     "data": {
      "text/plain": [
       "<matplotlib.collections.PathCollection at 0x7f3675b37a00>"
      ]
     },
     "execution_count": 24,
     "metadata": {},
     "output_type": "execute_result"
    },
    {
     "data": {
      "image/png": "[encoded data removed]",
      "text/plain": [
       "<Figure size 432x288 with 1 Axes>"
      ]
     },
     "metadata": {
      "needs_background": "light"
     },
     "output_type": "display_data"
    }
   ],
   "source": [
    "plt.scatter(Voltage, Current)"
   ]
  },
  {
   "cell_type": "markdown",
   "id": "7a1189eb-394a-4522-b6a5-9bcc9708158d",
   "metadata": {},
   "source": [
    "## Rough Approximate Analysis"
   ]
  },
  {
   "cell_type": "code",
   "execution_count": 25,
   "id": "fe7faa3d-64d9-49fe-968d-63e5407ee5d8",
   "metadata": {},
   "outputs": [],
   "source": [
    "def kinetic_energy(v, e=1.6e-19):\n",
    "    return v*e\n",
    "\n",
    "def freq_func(wavelength): \n",
    "    return 3e8/wavelength"
   ]
  },
  {
   "cell_type": "code",
   "execution_count": 26,
   "id": "e78a5aaa-ed03-4fa0-b91e-7015fb6c4d9d",
   "metadata": {},
   "outputs": [],
   "source": [
    "V_Stop =  [926e-3, 649e-3, 303e-3]\n",
    "kin = [kinetic_energy(v) for v in V_Stop]\n",
    "wave = [462e-9, 533e-9, 618e-9]\n",
    "freq = list(map(freq_func, wave))"
   ]
  },
  {
   "cell_type": "code",
   "execution_count": 27,
   "id": "65e1b505-97df-4962-9101-d3650adc7025",
   "metadata": {},
   "outputs": [
    {
     "ename": "SyntaxError",
     "evalue": "invalid decimal literal (984103985.py, line 4)",
     "output_type": "error",
     "traceback": [
      "\u001b[0;36m  File \u001b[0;32m\"/tmp/ipykernel_92116/984103985.py\"\u001b[0;36m, line \u001b[0;32m4\u001b[0m\n\u001b[0;31m    print(f\"Calculated cuttof_frequncy {\"%.3f\"%c}\")\u001b[0m\n\u001b[0m                                           ^\u001b[0m\n\u001b[0;31mSyntaxError\u001b[0m\u001b[0;31m:\u001b[0m invalid decimal literal\n"
     ]
    }
   ],
   "source": [
    "b, c = np.polyfit(kin, freq, 1)\n",
    "x = [0, 1.5e-19]\n",
    "y = [b*val + c for val in x]\n",
    "print(f\"Calculated cuttof_frequncy {\"%.3f\"%c}\")\n",
    "print(f\"Calculated planks constant: {-1/b}\")"
   ]
  },
  {
   "cell_type": "code",
   "execution_count": null,
   "id": "771c67d1-a580-4199-ae94-b249de9badd7",
   "metadata": {},
   "outputs": [],
   "source": [
    "plt.scatter(kin, freq)\n",
    "plt.plot(x,y)"
   ]
  },
  {
   "cell_type": "code",
   "execution_count": null,
   "id": "04a6538b-4afc-4505-8137-2441b864539b",
   "metadata": {},
   "outputs": [],
   "source": [
    "print(f\"Calculated planks constant: {-1/b}\")"
   ]
  },
  {
   "cell_type": "markdown",
   "id": "73c5a862-a70a-48c6-94c2-08033fbb6744",
   "metadata": {},
   "source": [
    "# Experiment 4"
   ]
  },
  {
   "cell_type": "markdown",
   "id": "dea32b36-e920-4b73-a05a-8d50062ecf20",
   "metadata": {
    "tags": []
   },
   "source": [
    "### Green"
   ]
  },
  {
   "cell_type": "code",
   "execution_count": 66,
   "id": "8d637722-2fff-40d3-973e-cd869c271c25",
   "metadata": {},
   "outputs": [],
   "source": [
    "# Data Collection\n",
    "Voltage = [0, -106, -213, -306,-348,-382, -432, -475, -514, -548, -565, -615, 107, 206, 309, 444] \n",
    "Current = [488, 336, 202,  112,  80,  56,   34,   18,   14,    5,    0, -3, 637, 781, 928, 1125]\n",
    "Voltage = np.array(Voltage)\n",
    "Current = np.array(Current)\n",
    "order   = np.argsort(Voltage)\n",
    "assert len(Voltage) == len(Current)"
   ]
  },
  {
   "cell_type": "code",
   "execution_count": 72,
   "id": "486ae961-7e82-466d-9668-122089b0fa5c",
   "metadata": {},
   "outputs": [
    {
     "name": "stdout",
     "output_type": "stream",
     "text": [
      "[-1.31169114e+02 -1.32222894e-04  5.31014066e-01  1.59622905e+03]\n"
     ]
    }
   ],
   "source": [
    "p, cov = opt.curve_fit(non_ohmic_list, Voltage, Current, [-400, .1, .1, 0])\n",
    "V_0, a, b, c= p\n",
    "print(p)\n"
   ]
  },
  {
   "cell_type": "code",
   "execution_count": 75,
   "id": "fd0a52f7-f0ef-4e6d-9ded-81281d2dbcb7",
   "metadata": {},
   "outputs": [
    {
     "data": {
      "text/plain": [
       "-180.9195481418125"
      ]
     },
     "execution_count": 75,
     "metadata": {},
     "output_type": "execute_result"
    }
   ],
   "source": [
    "stoping_voltage(V_0, a, b)"
   ]
  },
  {
   "cell_type": "code",
   "execution_count": 29,
   "id": "0c6d751b-bce7-4072-9548-536fce9a625d",
   "metadata": {},
   "outputs": [],
   "source": [
    "convolve = lambda x, w=3: np.convolve(x, np.ones(w), 'valid') / w\n",
    "slopes = np.array([(Voltage[i+1]-Voltage[i])/(Current[i+1]-Current[i]) for i in range(len(Voltage)-1)])\n",
    "pos_slope = np.array([(Current[i+1]+Current[i])/2.0 for i in range(len(Voltage)-1)])\n",
    "#slopes = convolve(slopes)\n",
    "#pos_slope = convolve(pos_slope)\n",
    "#slopes2 = np.array([(slopes[i+1]-slopes[i])/(pos_slope[i+1]-pos_slope[i]) for i in range(len(pos_slope)-1)])\n",
    "#pos_slope2 = np.array([(pos_slope[i+1]+pos_slope[i])/2.0 for i in range(len(pos_slope)-1)])"
   ]
  },
  {
   "cell_type": "code",
   "execution_count": 30,
   "id": "835ab9d8-c859-40ee-9f04-6f5e65317058",
   "metadata": {
    "tags": []
   },
   "outputs": [
    {
     "data": {
      "text/plain": [
       "<matplotlib.collections.PathCollection at 0x7f3675ba89d0>"
      ]
     },
     "execution_count": 30,
     "metadata": {},
     "output_type": "execute_result"
    },
    {
     "data": {
      "image/png": "[encoded data removed]",
      "text/plain": [
       "<Figure size 432x288 with 1 Axes>"
      ]
     },
     "metadata": {
      "needs_background": "light"
     },
     "output_type": "display_data"
    }
   ],
   "source": [
    "#plt.scatter(pos_slope, slopes, color='r')\n",
    "plt.scatter(pos_slope, slopes)"
   ]
  },
  {
   "cell_type": "code",
   "execution_count": 31,
   "id": "83d8bcab-4394-44a8-a85d-7567773002f7",
   "metadata": {},
   "outputs": [
    {
     "data": {
      "text/plain": [
       "<matplotlib.collections.PathCollection at 0x7f3675bebc10>"
      ]
     },
     "execution_count": 31,
     "metadata": {},
     "output_type": "execute_result"
    },
    {
     "data": {
      "image/png": "[encoded data removed]",
      "text/plain": [
       "<Figure size 432x288 with 1 Axes>"
      ]
     },
     "metadata": {
      "needs_background": "light"
     },
     "output_type": "display_data"
    }
   ],
   "source": [
    "plt.scatter(convolve(Current,2), slopes)"
   ]
  },
  {
   "cell_type": "code",
   "execution_count": null,
   "id": "380e12cf-6ce5-4705-b489-77d8e62437d6",
   "metadata": {},
   "outputs": [],
   "source": [
    "plt.scatter(slopes2, pos_slope2)"
   ]
  },
  {
   "cell_type": "code",
   "execution_count": null,
   "id": "349e9ced-5259-423c-a02b-592482945ad6",
   "metadata": {
    "tags": []
   },
   "outputs": [],
   "source": [
    "const = np.polyfit(Voltage, Current, 3)\n",
    "p = np.poly1d(const)\n",
    "p_der1 = p.deriv()\n",
    "p_der2 = p.deriv().deriv()\n",
    "#y = np.polyval(const, Voltage)\n",
    "y  = p(Voltage)\n",
    "y2 = p_der1(Voltage)\n",
    "y3 = p_der2(Voltage)"
   ]
  },
  {
   "cell_type": "code",
   "execution_count": null,
   "id": "056e9b88-f53c-4bea-ab5f-f00359aafefb",
   "metadata": {},
   "outputs": [],
   "source": [
    "plt.scatter(Voltage[order], y2[order])"
   ]
  },
  {
   "cell_type": "code",
   "execution_count": null,
   "id": "66dd63a9-70ac-4619-92e0-32c3166b5a6c",
   "metadata": {},
   "outputs": [],
   "source": [
    "plt.scatter(Voltage[order], y3[order])"
   ]
  },
  {
   "cell_type": "code",
   "execution_count": 53,
   "id": "92a09aad-6c9f-40ef-894f-5b9ae88c1348",
   "metadata": {},
   "outputs": [
    {
     "data": {
      "text/plain": [
       "array([-4.40442294e+02,  2.28044348e-04,  8.90736900e-01,  6.06396359e+00])"
      ]
     },
     "execution_count": 53,
     "metadata": {},
     "output_type": "execute_result"
    }
   ],
   "source": [
    "p"
   ]
  },
  {
   "cell_type": "code",
   "execution_count": 52,
   "id": "c5b80de5-41df-4fce-bdb0-e4ae8710e57e",
   "metadata": {},
   "outputs": [
    {
     "data": {
      "text/plain": [
       "[<matplotlib.lines.Line2D at 0x7f365d003d90>]"
      ]
     },
     "execution_count": 52,
     "metadata": {},
     "output_type": "execute_result"
    },
    {
     "data": {
      "image/png": "[encoded data removed]",
      "text/plain": [
       "<Figure size 432x288 with 1 Axes>"
      ]
     },
     "metadata": {
      "needs_background": "light"
     },
     "output_type": "display_data"
    }
   ],
   "source": [
    "plt.scatter(Voltage, Current)\n",
    "plt.plot(Voltage, non_ohmic_list(Voltage, V_0, a, b, c))"
   ]
  },
  {
   "cell_type": "code",
   "execution_count": 55,
   "id": "a4fba656-bc3a-4988-9e0a-a6dde30a08af",
   "metadata": {},
   "outputs": [
    {
     "data": {
      "text/plain": [
       "<matplotlib.collections.PathCollection at 0x7f3673f40cd0>"
      ]
     },
     "execution_count": 55,
     "metadata": {},
     "output_type": "execute_result"
    },
    {
     "data": {
      "image/png": "[encoded data removed]",
      "text/plain": [
       "<Figure size 432x288 with 1 Axes>"
      ]
     },
     "metadata": {
      "needs_background": "light"
     },
     "output_type": "display_data"
    }
   ],
   "source": [
    "plt.scatter(Voltage, np.subtract(non_ohmic_list(Voltage, V_0, a, b, c), Current))"
   ]
  },
  {
   "cell_type": "markdown",
   "id": "265ca592-1087-46c4-91d5-9a8baa28af20",
   "metadata": {
    "tags": []
   },
   "source": [
    "### Ultraviolet"
   ]
  },
  {
   "cell_type": "code",
   "execution_count": 68,
   "id": "c8d0910d-34cf-418f-ab2a-6c4f76672c22",
   "metadata": {},
   "outputs": [],
   "source": [
    "# Data Collection\n",
    "Voltage = [0,    -204, -403, -701, -829, -978, -1020, -1050, -1080, -1120, -1170, -1180, -1200, -1250, 174, 317, 439] \n",
    "Current = [2290, 1602, 1021,  378,  207,   78,    50,    40,    27,    16,     7,     0,     0,    -5, 2895, 3409, 3840]\n",
    "assert len(Voltage) == len(Current)"
   ]
  },
  {
   "cell_type": "code",
   "execution_count": 69,
   "id": "b716329e-5a42-4ecf-9e64-2899864d4640",
   "metadata": {},
   "outputs": [
    {
     "data": {
      "text/plain": [
       "<matplotlib.collections.PathCollection at 0x7f365f392680>"
      ]
     },
     "execution_count": 69,
     "metadata": {},
     "output_type": "execute_result"
    },
    {
     "data": {
      "image/png": "[encoded data removed]",
      "text/plain": [
       "<Figure size 432x288 with 1 Axes>"
      ]
     },
     "metadata": {
      "needs_background": "light"
     },
     "output_type": "display_data"
    }
   ],
   "source": [
    "plt.scatter(Voltage, Current)"
   ]
  },
  {
   "cell_type": "code",
   "execution_count": 59,
   "id": "6487c37f-1c2e-48e4-91b1-1978166108f1",
   "metadata": {},
   "outputs": [
    {
     "name": "stdout",
     "output_type": "stream",
     "text": [
      "[-9.32308132e+02  9.57670204e-04  1.52030749e+00]\n"
     ]
    }
   ],
   "source": [
    "p, cov = opt.curve_fit(non_ohmic_list, Voltage, Current, [-400, .1, .1])\n",
    "print(p)"
   ]
  },
  {
   "cell_type": "markdown",
   "id": "ee00fa66-7339-4dc0-9696-da91f9cf27e7",
   "metadata": {
    "tags": []
   },
   "source": [
    "### Red"
   ]
  },
  {
   "cell_type": "code",
   "execution_count": 70,
   "id": "3cf93205-55b3-4b35-a78a-d1f1ddf56ef0",
   "metadata": {},
   "outputs": [],
   "source": [
    "# Data Collection\n",
    "Voltage = [0, -24, -42, -62,  -82, -110, -140, -161, -182, -199, -294, 117, 236, 453] \n",
    "Current = [65, 50, 45,   38,   27,   14,   10,    7,    3,    0,   -7, 125, 180, 264]\n",
    "assert len(Voltage) == len(Current)"
   ]
  },
  {
   "cell_type": "code",
   "execution_count": 71,
   "id": "3f44a448-35f8-4340-872f-54d1016e514f",
   "metadata": {},
   "outputs": [
    {
     "data": {
      "text/plain": [
       "<matplotlib.collections.PathCollection at 0x7f3673fa36d0>"
      ]
     },
     "execution_count": 71,
     "metadata": {},
     "output_type": "execute_result"
    },
    {
     "data": {
      "image/png": "[encoded data removed]",
      "text/plain": [
       "<Figure size 432x288 with 1 Axes>"
      ]
     },
     "metadata": {
      "needs_background": "light"
     },
     "output_type": "display_data"
    }
   ],
   "source": [
    "plt.scatter(Voltage, Current)"
   ]
  },
  {
   "cell_type": "code",
   "execution_count": 61,
   "id": "71ebed9b-c084-4e16-b248-e5c50273fdf4",
   "metadata": {},
   "outputs": [
    {
     "name": "stdout",
     "output_type": "stream",
     "text": [
      "[-1.31169115e+02 -1.32222886e-04  5.31014061e-01]\n"
     ]
    }
   ],
   "source": [
    "p, cov = opt.curve_fit(non_ohmic_list, Voltage, Current, [-400, .1, .1])\n",
    "print(p)"
   ]
  },
  {
   "cell_type": "markdown",
   "id": "bc017c35-7f30-4a40-92bd-1113a162c661",
   "metadata": {},
   "source": [
    "## Rough Approximate Analysis"
   ]
  },
  {
   "cell_type": "code",
   "execution_count": 63,
   "id": "b5b07e0e-e1a7-4169-b855-91c16e0af9f0",
   "metadata": {},
   "outputs": [],
   "source": [
    "def kinetic_energy(v, e=1.6e-19):\n",
    "    return v*e\n",
    "\n",
    "def freq_func(wavelength): \n",
    "    return 3e8/wavelength"
   ]
  },
  {
   "cell_type": "code",
   "execution_count": 62,
   "id": "a19efe94-1b1d-44ca-96de-7797bd2fd7c9",
   "metadata": {},
   "outputs": [],
   "source": [
    "V_Stop =  [44e-3, 932e-3,131e-3]\n",
    "kin    = [kinetic_energy(v) for v in V_Stop]\n",
    "wave   = [532e-9, 405e-9, 634e-9]\n",
    "freq   = list(map(freq_func, wave))"
   ]
  },
  {
   "cell_type": "code",
   "execution_count": null,
   "id": "c5a9fea2-42dd-4faf-9295-9a720d1b5c94",
   "metadata": {},
   "outputs": [],
   "source": [
    "V_Stop =  [566e-3, 1180e-3,182e-3]\n",
    "kin    = [kinetic_energy(v) for v in V_Stop]\n",
    "wave   = [532e-9, 405e-9, 634e-9]\n",
    "freq   = list(map(freq_func, wave))"
   ]
  },
  {
   "cell_type": "code",
   "execution_count": 64,
   "id": "458a3a19-1281-49b5-b9bc-cc7dc48ed68a",
   "metadata": {},
   "outputs": [
    {
     "name": "stdout",
     "output_type": "stream",
     "text": [
      "Calculated cuttof_frequncy 424095776244897.4\n",
      "Calculated planks constant: 4.756806052260829e-34\n"
     ]
    }
   ],
   "source": [
    "b, c = np.polyfit(kin, freq, 1)\n",
    "x = [0, 2.5e-19]\n",
    "y = [b*val + c for val in x]\n",
    "print(f\"Calculated cuttof_frequncy {c}\")\n",
    "print(f\"Calculated planks constant: {1/b}\")"
   ]
  },
  {
   "cell_type": "code",
   "execution_count": 76,
   "id": "f038e082-b292-47e0-af76-91b52ae66da8",
   "metadata": {},
   "outputs": [
    {
     "data": {
      "text/plain": [
       "[<matplotlib.lines.Line2D at 0x7f3673f6f790>]"
      ]
     },
     "execution_count": 76,
     "metadata": {},
     "output_type": "execute_result"
    },
    {
     "data": {
      "image/png": "[encoded data removed]",
      "text/plain": [
       "<Figure size 432x288 with 1 Axes>"
      ]
     },
     "metadata": {
      "needs_background": "light"
     },
     "output_type": "display_data"
    }
   ],
   "source": [
    "plt.scatter(kin, freq)\n",
    "plt.plot(x,y)"
   ]
  },
  {
   "cell_type": "code",
   "execution_count": null,
   "id": "8ffb3b76-5a1a-4ad6-92e4-d3ef62047384",
   "metadata": {},
   "outputs": [],
   "source": []
  }
 ],
 "metadata": {
  "kernelspec": {
   "display_name": "Python 3 (ipykernel)",
   "language": "python",
   "name": "python3"
  },
  "language_info": {
   "codemirror_mode": {
    "name": "ipython",
    "version": 3
   },
   "file_extension": ".py",
   "mimetype": "text/x-python",
   "name": "python",
   "nbconvert_exporter": "python",
   "pygments_lexer": "ipython3",
   "version": "3.10.8"
  }
 },
 "nbformat": 4,
 "nbformat_minor": 5
}
