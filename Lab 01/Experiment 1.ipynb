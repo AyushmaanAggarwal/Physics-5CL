{
 "cells": [
  {
   "cell_type": "code",
   "execution_count": 1,
   "id": "fd5bfa80-68f1-47ce-a383-3fd201880000",
   "metadata": {},
   "outputs": [],
   "source": [
    "import sys\n",
    "sys.path.insert(0, '../')"
   ]
  },
  {
   "cell_type": "code",
   "execution_count": 2,
   "id": "f1e063b8-38b8-48e7-8d4d-ef91bd1e3e50",
   "metadata": {},
   "outputs": [],
   "source": [
    "import numpy as np\n",
    "import matplotlib.pyplot as plt\n",
    "%matplotlib inline"
   ]
  },
  {
   "cell_type": "code",
   "execution_count": 3,
   "id": "23c6e523-f073-4c70-b46f-022299c583dc",
   "metadata": {},
   "outputs": [],
   "source": [
    "import DataAnalysis as da"
   ]
  },
  {
   "cell_type": "code",
   "execution_count": 4,
   "id": "8eb5670d-aed4-470c-89b7-f05c2f1e1123",
   "metadata": {},
   "outputs": [],
   "source": [
    "object_pos = 15\n",
    "d_error = 1\n",
    "screen_pos = 65\n",
    "lens_a_pos = [35, 47.5, 52]\n",
    "lens_b_pos = [25, 30, 35]\n",
    "diff_pos = [apos - bpos for apos, bpos in zip(lens_a_pos, lens_b_pos)]"
   ]
  },
  {
   "cell_type": "code",
   "execution_count": 5,
   "id": "25166507-4471-46eb-bb2a-63827b652e33",
   "metadata": {},
   "outputs": [],
   "source": [
    "def focal_calc(d_o, d_i):\n",
    "    return 1/(1/d_o+1/d_i)\n",
    "\n",
    "def di_calc(d_o, f):\n",
    "    return 1/(1/f-1/d_o)\n",
    "\n",
    "do_calc = di_calc\n",
    "\n",
    "def do_error_prop(f, d_i, f_err, d_i_err):\n",
    "    partial_f = (1/f**2)/(1/f-1/d_i)\n",
    "    partial_d = (1/d_i**2)/(1/f-1/d_i)\n",
    "    print([partial_f, partial_d])\n",
    "    return da.quartrature_sum([partial_f*f_err, partial_d*d_i_err])"
   ]
  },
  {
   "cell_type": "code",
   "execution_count": null,
   "id": "65782f35-e36a-47be-87b7-ab8d14de36da",
   "metadata": {},
   "outputs": [
    {
     "name": "stdout",
     "output_type": "stream",
     "text": [
      "[30, 17.5, 13]\n",
      "[39.23076923076923, 594.9999999999997, -55.249999999999986]\n",
      "[-29.230769230769234, -577.4999999999997, 72.24999999999999]\n",
      "[10, 15, 20]\n"
     ]
    }
   ],
   "source": [
    "# Start from reverse by calculating the object \n",
    "# from the image on the screen\n",
    "d_ia = [screen_pos-pos    for pos in lens_a_pos]\n",
    "d_oa = [do_calc(d_i, 17)  for d_i in d_ia]\n",
    "# Calculate relative image position for lens b\n",
    "d_ib = [diff - d_o        for diff, d_o in zip(diff_pos, d_oa)]\n",
    "d_ob = [bpos - object_pos for bpos in lens_b_pos]\n",
    "print(d_ia)\n",
    "print(d_oa)\n",
    "print(d_ib)\n",
    "print(d_ob)"
   ]
  },
  {
   "cell_type": "code",
   "execution_count": 7,
   "id": "cd060acf-de60-4984-b76b-5cc0486e897e",
   "metadata": {},
   "outputs": [],
   "source": [
    "# focal point of lens B\n",
    "f_b  = [focal_calc(d_o, d_i) for d_o, d_i in zip(d_ob, d_ib)]"
   ]
  },
  {
   "cell_type": "code",
   "execution_count": 8,
   "id": "33d2bcb0-dd7c-4e44-bc2e-7ce8699dec48",
   "metadata": {},
   "outputs": [
    {
     "data": {
      "text/plain": [
       "[15.199999999999998, 15.400000000000002, 15.663956639566393]"
      ]
     },
     "execution_count": 8,
     "metadata": {},
     "output_type": "execute_result"
    }
   ],
   "source": [
    "f_b"
   ]
  },
  {
   "cell_type": "code",
   "execution_count": 9,
   "id": "cfcd17cd-112f-4bb5-9dda-04b086de9004",
   "metadata": {},
   "outputs": [
    {
     "name": "stdout",
     "output_type": "stream",
     "text": [
      "[0.13574660633484165, 0.04358974358974359]\n",
      "[2.0588235294117636, 1.9428571428571417]\n",
      "[-0.19117647058823525, -0.3269230769230768]\n",
      "1.4142135623730951\n",
      "[0.09168924023731358, 2.9341227541493407, 0.47211704817380573]\n",
      "[1.0041946607980425, 3.0998510184228065, 1.1058456072962208]\n",
      "[1.4171827393724832, 3.2571577082506935, 1.4909374591767246]\n"
     ]
    }
   ],
   "source": [
    "d_ia_err = da.quartrature_sum([d_error, d_error])\n",
    "d_oa_err = [do_error_prop(17, d_i, 0.5, d_ia_err) for d_i in d_ia]\n",
    "d_ib_err = [da.quartrature_sum([d_o_error, d_error]) for d_o_error in d_oa_err]\n",
    "d_ob_err = [da.quartrature_sum([d_i_error, d_error]) for d_i_error in d_ib_err]\n",
    "print(d_ia_err)\n",
    "print(d_oa_err)\n",
    "print(d_ib_err)\n",
    "print(d_ob_err)"
   ]
  },
  {
   "cell_type": "code",
   "execution_count": 10,
   "id": "3deb46d5-26c3-466d-8a16-e65da6a224de",
   "metadata": {},
   "outputs": [
    {
     "data": {
      "text/plain": [
       "[0.09168924023731358, 2.9341227541493407, 0.47211704817380573]"
      ]
     },
     "execution_count": 10,
     "metadata": {},
     "output_type": "execute_result"
    }
   ],
   "source": [
    "d_oa_err"
   ]
  },
  {
   "cell_type": "code",
   "execution_count": 11,
   "id": "d4e7a3f6-c547-47cb-a012-6106024bc204",
   "metadata": {},
   "outputs": [
    {
     "name": "stdout",
     "output_type": "stream",
     "text": [
      "15.1 ± 0.09\n",
      "15.4 ± 2.93\n",
      "15.6 ± 0.47\n"
     ]
    }
   ],
   "source": [
    "for i in range(3):\n",
    "    print(f\"{'%.4s'%f_b[i]} ± {'%.4s'%d_oa_err[i]}\")"
   ]
  },
  {
   "cell_type": "code",
   "execution_count": 12,
   "id": "e802bd33-3aa8-4371-9801-62709ead5968",
   "metadata": {},
   "outputs": [
    {
     "name": "stdout",
     "output_type": "stream",
     "text": [
      "The mean value is: 15.4 ± 2.10\n"
     ]
    }
   ],
   "source": [
    "print(f\"The mean value is: {'%.4s'%(np.mean(f_b))} ± {'%.4s'%(da.quartrature_sum(d_oa_err)/np.sqrt(2))}\")"
   ]
  },
  {
   "cell_type": "code",
   "execution_count": 16,
   "id": "eaedb450-f663-412c-9aa6-aa79a84d67a6",
   "metadata": {},
   "outputs": [
    {
     "data": {
      "text/plain": [
       "array([ 0.76470588,  0.02941176, -0.23529412])"
      ]
     },
     "execution_count": 16,
     "metadata": {},
     "output_type": "execute_result"
    }
   ],
   "source": [
    "np.divide(d_ia,d_oa)"
   ]
  },
  {
   "cell_type": "code",
   "execution_count": 18,
   "id": "193ee47f-b777-4f20-9aa8-e295dd24ad5b",
   "metadata": {},
   "outputs": [
    {
     "data": {
      "text/plain": [
       "0.828"
      ]
     },
     "execution_count": 18,
     "metadata": {},
     "output_type": "execute_result"
    }
   ],
   "source": [
    "3.45*.24"
   ]
  },
  {
   "cell_type": "code",
   "execution_count": null,
   "id": "bc388f29-62cd-47d9-81ba-dc28fc7ff4a2",
   "metadata": {},
   "outputs": [],
   "source": []
  }
 ],
 "metadata": {
  "kernelspec": {
   "display_name": "Python 3 (ipykernel)",
   "language": "python",
   "name": "python3"
  },
  "language_info": {
   "codemirror_mode": {
    "name": "ipython",
    "version": 3
   },
   "file_extension": ".py",
   "mimetype": "text/x-python",
   "name": "python",
   "nbconvert_exporter": "python",
   "pygments_lexer": "ipython3",
   "version": "3.10.7"
  }
 },
 "nbformat": 4,
 "nbformat_minor": 5
}
