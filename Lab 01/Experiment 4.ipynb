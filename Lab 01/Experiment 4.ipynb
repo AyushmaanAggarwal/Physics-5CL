{
 "cells": [
  {
   "cell_type": "code",
   "execution_count": 1,
   "id": "1a31981d-7e50-43e6-99ac-10d5e5215b9f",
   "metadata": {},
   "outputs": [],
   "source": [
    "import sys\n",
    "sys.path.insert(0, '../')"
   ]
  },
  {
   "cell_type": "code",
   "execution_count": 2,
   "id": "4aa29be1-4d61-4d18-bad6-8ee1fb3ea51c",
   "metadata": {},
   "outputs": [],
   "source": [
    "import numpy as np\n",
    "import matplotlib.pyplot as plt\n",
    "%matplotlib inline"
   ]
  },
  {
   "cell_type": "code",
   "execution_count": 3,
   "id": "1de4727d-183c-4b50-b50d-b6773580a2cc",
   "metadata": {},
   "outputs": [],
   "source": [
    "import DataAnalysis as da"
   ]
  },
  {
   "cell_type": "code",
   "execution_count": 4,
   "id": "4de8091c-cae8-4aa4-b53d-239e506232b4",
   "metadata": {},
   "outputs": [],
   "source": [
    "def angularMagnificationCalc(s, d_np, f_ob, f_ep):\n",
    "    return s * d_np / (f_ob * f_ep)\n",
    "\n",
    "def errorPropogartion(s, d_np, f_ob, f_ep, s_err, d_err, f_ob_err, f_ep_err):\n",
    "    partial_s = d_np / (f_ob * f_ep)\n",
    "    partial_d = s / (f_ob * f_ep)\n",
    "    partial_fo =  f_ep * s * d_np / (f_ob * f_ep)**2\n",
    "    partial_fe =  f_ob * s * d_np / (f_ob * f_ep)**2\n",
    "    return da.quartrature_sum([partial_s*s_err,\n",
    "                       partial_d*d_err,\n",
    "                       partial_fo*f_ob_err,\n",
    "                       partial_fe*f_ep_err])\n",
    "\n",
    "def angularMagHeight(h, d_np):\n",
    "    return h/d_np\n",
    "\n",
    "def errorPropogartionHeight(h, d_np, h_err, d_np_err):\n",
    "    partial_h = 1/d_np\n",
    "    partial_d_np = h/d_np**2\n",
    "    return da.quartrature_sum([])"
   ]
  },
  {
   "cell_type": "code",
   "execution_count": 5,
   "id": "e99b5bbf-2700-4b08-806d-9da2def2c1ba",
   "metadata": {},
   "outputs": [],
   "source": [
    "d_np = 8.5\n",
    "f_ob = 15.5\n",
    "f_ep = 5\n",
    "d_b  = [40, 40, 35, 44, 51, 63.4]\n",
    "d_c  = [72, 71.3, 69, 74, 79.7, 90.4]\n",
    "h    = [.74, .75, .9, .55, .5, .32]\n",
    "theta     = [.6/distance for height, distance in zip(h, d_c)]\n",
    "theta_mag = [height/distance for height, distance in zip(h, d_c)]\n",
    "ang_mag_actual = [mag_t/t for t, mag_t in zip(theta, theta_mag)]\n",
    "s    = [c-b-20.5 for b,c in zip(d_b, d_c)]"
   ]
  },
  {
   "cell_type": "code",
   "execution_count": 6,
   "id": "62bfa723-61ee-4409-8998-171691c6b1fa",
   "metadata": {},
   "outputs": [
    {
     "data": {
      "text/plain": [
       "[1.2333333333333334,\n",
       " 1.25,\n",
       " 1.5,\n",
       " 0.9166666666666666,\n",
       " 0.8333333333333334,\n",
       " 0.5333333333333334]"
      ]
     },
     "execution_count": 6,
     "metadata": {},
     "output_type": "execute_result"
    }
   ],
   "source": [
    "ang_mag_actual"
   ]
  },
  {
   "cell_type": "code",
   "execution_count": 7,
   "id": "2ea52b7c-6898-4116-b98a-d2d751d25106",
   "metadata": {},
   "outputs": [],
   "source": [
    "angularMag = [angularMagnificationCalc(s_val, d_np, f_ob, f_ep) for s_val in s]\n",
    "angularMagError = [errorPropogartion(s_val, d_np, f_ob, f_ep, 1, 1, .5,.3) for s_val in s]"
   ]
  },
  {
   "cell_type": "code",
   "execution_count": 8,
   "id": "2b4a6184-2a8b-4177-90f2-498ffe59b970",
   "metadata": {},
   "outputs": [
    {
     "data": {
      "text/plain": [
       "[1.261290322580645,\n",
       " 1.184516129032258,\n",
       " 1.4806451612903226,\n",
       " 1.0419354838709678,\n",
       " 0.8993548387096776,\n",
       " 0.7129032258064524]"
      ]
     },
     "execution_count": 8,
     "metadata": {},
     "output_type": "execute_result"
    }
   ],
   "source": [
    "angularMag"
   ]
  },
  {
   "cell_type": "code",
   "execution_count": 9,
   "id": "f9af3ad0-7dad-4e96-a473-7745698385cf",
   "metadata": {},
   "outputs": [
    {
     "data": {
      "text/plain": [
       "[0.2035444743702347,\n",
       " 0.19483328528001764,\n",
       " 0.22922941558050589,\n",
       " 0.1791454845460695,\n",
       " 0.16424867243094637,\n",
       " 0.14636243913432814]"
      ]
     },
     "execution_count": 9,
     "metadata": {},
     "output_type": "execute_result"
    }
   ],
   "source": [
    "angularMagError"
   ]
  },
  {
   "cell_type": "code",
   "execution_count": null,
   "id": "4f6ece51-d5d0-4734-91c4-22adc51a3874",
   "metadata": {},
   "outputs": [],
   "source": []
  }
 ],
 "metadata": {
  "kernelspec": {
   "display_name": "Python 3 (ipykernel)",
   "language": "python",
   "name": "python3"
  },
  "language_info": {
   "codemirror_mode": {
    "name": "ipython",
    "version": 3
   },
   "file_extension": ".py",
   "mimetype": "text/x-python",
   "name": "python",
   "nbconvert_exporter": "python",
   "pygments_lexer": "ipython3",
   "version": "3.10.7"
  }
 },
 "nbformat": 4,
 "nbformat_minor": 5
}
