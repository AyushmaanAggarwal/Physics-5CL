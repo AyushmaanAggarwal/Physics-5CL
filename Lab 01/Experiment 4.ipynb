{
 "cells": [
  {
   "cell_type": "code",
   "execution_count": 1,
   "id": "1a31981d-7e50-43e6-99ac-10d5e5215b9f",
   "metadata": {},
   "outputs": [],
   "source": [
    "import sys\n",
    "sys.path.insert(0, '../')"
   ]
  },
  {
   "cell_type": "code",
   "execution_count": 2,
   "id": "4aa29be1-4d61-4d18-bad6-8ee1fb3ea51c",
   "metadata": {},
   "outputs": [],
   "source": [
    "import numpy as np\n",
    "import matplotlib.pyplot as plt\n",
    "%matplotlib inline"
   ]
  },
  {
   "cell_type": "code",
   "execution_count": 3,
   "id": "1de4727d-183c-4b50-b50d-b6773580a2cc",
   "metadata": {},
   "outputs": [],
   "source": [
    "import DataAnalysis as da"
   ]
  },
  {
   "cell_type": "code",
   "execution_count": 4,
   "id": "4de8091c-cae8-4aa4-b53d-239e506232b4",
   "metadata": {},
   "outputs": [],
   "source": [
    "def angularMagnificationCalc(s, d_np, f_ob, f_ep):\n",
    "    return s * d_np / (f_ob * f_ep)\n",
    "\n",
    "def errorPropogartion(s, d_np, f_ob, f_ep, s_err, d_err, f_ob_err, f_ep_err):\n",
    "    partial_s = d_np / (f_ob * f_ep)\n",
    "    partial_d = s / (f_ob * f_ep)\n",
    "    partial_fo =  f_ep * s * d_np / (f_ob * f_ep)**2\n",
    "    partial_fe =  f_ob * s * d_np / (f_ob * f_ep)**2\n",
    "    return da.quartrature_sum([partial_s*s_err,\n",
    "                       partial_d*d_err,\n",
    "                       partial_fo*f_ob_err,\n",
    "                       partial_fe*f_ep_err])\n",
    "\n",
    "def angularMagHeight(h, d_np):\n",
    "    return h/d_np\n",
    "\n",
    "def errorPropogartionHeight(h, d_np, h_err, d_np_err):\n",
    "    partial_h = 1/d_np\n",
    "    partial_d_np = h/d_np**2\n",
    "    return da.quartrature_sum([partial_h*h_err, partial_d_np*d_np_err])\n",
    "\n",
    "def errorPropogartionHeightAngle(theta, theta_mag, t_error, t_mag_err):\n",
    "    partial_theta = theta_mag/theta**2\n",
    "    partial_theta_mag = 1/theta\n",
    "    return da.quartrature_sum([partial_theta*t_error, partial_theta_mag*t_mag_err])"
   ]
  },
  {
   "cell_type": "code",
   "execution_count": 24,
   "id": "e99b5bbf-2700-4b08-806d-9da2def2c1ba",
   "metadata": {},
   "outputs": [],
   "source": [
    "d_np = 6.2\n",
    "\n",
    "f_ob = 15.5\n",
    "f_ep = 5\n",
    "d_b  = [40, 40, 35, 44, 51, 63.4]\n",
    "d_c  = [72, 71.3, 69, 74, 79.7, 90.4]\n",
    "h    = [.74, .75, .9, .55, .5, .32]\n",
    "theta     = [.6/distance for height, distance in zip(h, d_c)]\n",
    "theta_mag = [height/distance for height, distance in zip(h, d_c)]\n",
    "actual_ang_mag = [mag_t/t for t, mag_t in zip(theta, theta_mag)]\n",
    "theta_error = [errorPropogartionHeight(.6, d, .02, 1) for d in d_c]\n",
    "theta_mag_error = [errorPropogartionHeight(h1, d, .02, 1) for h1, d in zip(h, d_c)]\n",
    "actual_ang_mag_error = [errorPropogartionHeightAngle(t, mag_t, t_err, t_mag_err)\n",
    "                        for t, mag_t, t_err, t_mag_err in zip(theta, theta_mag, theta_error, theta_mag_error)]\n",
    "s    = [c-b-20.5 for b,c in zip(d_b, d_c)]"
   ]
  },
  {
   "cell_type": "code",
   "execution_count": 25,
   "id": "2ea52b7c-6898-4116-b98a-d2d751d25106",
   "metadata": {},
   "outputs": [],
   "source": [
    "angularMag = [angularMagnificationCalc(s_val, d_np, f_ob, f_ep) for s_val in s]\n",
    "angularMagError = [errorPropogartion(s_val, d_np, f_ob, f_ep, 1, 2, .5,.5) for s_val in s]"
   ]
  },
  {
   "cell_type": "code",
   "execution_count": 26,
   "id": "62bfa723-61ee-4409-8998-171691c6b1fa",
   "metadata": {},
   "outputs": [
    {
     "name": "stdout",
     "output_type": "stream",
     "text": [
      "The actual angular magnification are:\n",
      "1.23 ± 0.05\n",
      "1.25 ± 0.05\n",
      "1.5 ± 0.06\n",
      "0.91 ± 0.04\n",
      "0.83 ± 0.04\n",
      "0.53 ± 0.03\n"
     ]
    }
   ],
   "source": [
    "print(\"The actual angular magnification are:\")\n",
    "for val, err in list(zip(actual_ang_mag, actual_ang_mag_error)):\n",
    "    print(f\"{'%.4s'%val} ± {'%.4s'%err}\")"
   ]
  },
  {
   "cell_type": "code",
   "execution_count": 29,
   "id": "2b4a6184-2a8b-4177-90f2-498ffe59b970",
   "metadata": {},
   "outputs": [
    {
     "name": "stdout",
     "output_type": "stream",
     "text": [
      "The calculated angular magnification are:\n",
      "0.91 ± 0.32\n",
      "0.86 ± 0.30\n",
      "1.08 ± 0.37\n",
      "0.76 ± 0.26\n",
      "0.65 ± 0.23\n",
      "0.52 ± 0.19\n"
     ]
    }
   ],
   "source": [
    "print(\"The calculated angular magnification are:\")\n",
    "for val, err in list(zip(angularMag, angularMagError)):\n",
    "    print(f\"{'%.4s'%val} ± {'%.4s'%err}\")"
   ]
  },
  {
   "cell_type": "code",
   "execution_count": 30,
   "id": "07675905-3e22-4033-828a-73c93c03f59d",
   "metadata": {},
   "outputs": [
    {
     "name": "stdout",
     "output_type": "stream",
     "text": [
      "Agrees:  0.31 0.65\n",
      "Agrees:  0.38 0.61\n",
      "Agrees:  0.41 0.76\n",
      "Agrees:  0.15 0.54\n",
      "Agrees:  0.17 0.48\n",
      "Agrees:  0.01 0.39\n"
     ]
    }
   ],
   "source": [
    "error = [(err1**2 + err2**2)**.5 for err1, err2 in zip(angularMagError, actual_ang_mag_error)]\n",
    "for val1, val2, e in zip(actual_ang_mag, angularMag, error):\n",
    "    if (np.abs(val1-val2)>2*e):\n",
    "        print(f\"Doesn't agree: {'%.4s'%(np.abs(val1-val2))} {'%.4s'%2*e}\")\n",
    "    else:\n",
    "        print(f\"Agrees:  {'%.4s'%(np.abs(val1-val2))} {'%.4s'%(2*e)}\")"
   ]
  },
  {
   "cell_type": "code",
   "execution_count": 31,
   "id": "5a419a43-0c9b-410c-8460-7cd419f2a4ea",
   "metadata": {},
   "outputs": [
    {
     "data": {
      "text/plain": [
       "[0.32742595218805776,\n",
       " 0.30948791304365286,\n",
       " 0.3810611441566444,\n",
       " 0.2742858849345864,\n",
       " 0.24089945571435967,\n",
       " 0.19753355163471148]"
      ]
     },
     "execution_count": 31,
     "metadata": {},
     "output_type": "execute_result"
    }
   ],
   "source": [
    "error"
   ]
  },
  {
   "cell_type": "code",
   "execution_count": 32,
   "id": "4f6ece51-d5d0-4734-91c4-22adc51a3874",
   "metadata": {},
   "outputs": [
    {
     "data": {
      "image/png": "[encoded data removed]",
      "text/plain": [
       "<Figure size 432x288 with 1 Axes>"
      ]
     },
     "metadata": {
      "needs_background": "light"
     },
     "output_type": "display_data"
    }
   ],
   "source": [
    "#plt.figure(facecolor='#40BFB8')\n",
    "plt.title(\"Angular magnification compared to distance between lenses\")\n",
    "plt.errorbar(s, angularMag, yerr=angularMagError, c='g', label=\"Theoretical\")\n",
    "plt.errorbar(s, actual_ang_mag, fmt=\"o\", yerr=actual_ang_mag_error, label=\"Actual\")\n",
    "plt.ylim(0,2.2)\n",
    "plt.xlabel(\"Distance between focal points of lenses (cm)\")\n",
    "plt.ylabel(\"Angular Magnification\")\n",
    "plt.legend()\n",
    "plt.savefig(\"angmagvss.png\")\n",
    "plt.show()"
   ]
  },
  {
   "cell_type": "code",
   "execution_count": 18,
   "id": "4cea6345-e9f3-43ce-bf5c-2877334c86c8",
   "metadata": {},
   "outputs": [
    {
     "data": {
      "text/plain": [
       "0.986941106632838"
      ]
     },
     "execution_count": 18,
     "metadata": {},
     "output_type": "execute_result"
    }
   ],
   "source": [
    "da.correlation_coefficients(s, actual_ang_mag)"
   ]
  },
  {
   "cell_type": "code",
   "execution_count": null,
   "id": "a12b28ff-457e-4ffa-b4cf-96f162389501",
   "metadata": {},
   "outputs": [],
   "source": []
  }
 ],
 "metadata": {
  "kernelspec": {
   "display_name": "Python 3 (ipykernel)",
   "language": "python",
   "name": "python3"
  },
  "language_info": {
   "codemirror_mode": {
    "name": "ipython",
    "version": 3
   },
   "file_extension": ".py",
   "mimetype": "text/x-python",
   "name": "python",
   "nbconvert_exporter": "python",
   "pygments_lexer": "ipython3",
   "version": "3.10.7"
  }
 },
 "nbformat": 4,
 "nbformat_minor": 5
}
