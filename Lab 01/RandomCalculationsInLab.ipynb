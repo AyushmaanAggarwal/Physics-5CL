{
 "cells": [
  {
   "cell_type": "code",
   "execution_count": 1,
   "id": "be85eb0a-37eb-496a-bd56-2fc798e40951",
   "metadata": {},
   "outputs": [],
   "source": [
    "def focal_calc(d_o, d_i):\n",
    "    return 1/(1/d_o+1/d_i)\n",
    "def di_calc(d_o, f):\n",
    "    return 1/(1/f-1/d_o)"
   ]
  },
  {
   "cell_type": "code",
   "execution_count": 2,
   "id": "157071c8-06a9-48cf-81d2-b9a5eebd0248",
   "metadata": {},
   "outputs": [],
   "source": [
    "mirror_lengths = [68.8, 73.6, 89.05]\n",
    "object_pos = 15\n",
    "screen_pos = 95\n",
    "d_o = [mirror_lengths[i] - object_pos for i in range(len(mirror_lengths))]\n",
    "d_i = [screen_pos-mirror_lengths[i] for i in range(len(mirror_lengths))]"
   ]
  },
  {
   "cell_type": "code",
   "execution_count": 3,
   "id": "11a8570f-badc-4b37-bbd2-135fcd7840cb",
   "metadata": {},
   "outputs": [
    {
     "name": "stdout",
     "output_type": "stream",
     "text": [
      "[53.8, 58.599999999999994, 74.05]\n",
      "[26.200000000000003, 21.400000000000006, 5.950000000000003]\n"
     ]
    }
   ],
   "source": [
    "print(d_o)\n",
    "print(d_i)"
   ]
  },
  {
   "cell_type": "code",
   "execution_count": 4,
   "id": "4cf4ec98-17e1-4e61-ae28-461eda5e480b",
   "metadata": {},
   "outputs": [
    {
     "name": "stdout",
     "output_type": "stream",
     "text": [
      "17.619500000000002\n",
      "15.675500000000005\n",
      "5.507468750000002\n"
     ]
    }
   ],
   "source": [
    "for i in range(3):\n",
    "    print(focal_calc(d_o[i], d_i[i]))"
   ]
  },
  {
   "cell_type": "code",
   "execution_count": 5,
   "id": "a7293787-5d7a-4402-9347-0463bac4ab23",
   "metadata": {},
   "outputs": [
    {
     "data": {
      "text/plain": [
       "30.745098039215684"
      ]
     },
     "execution_count": 5,
     "metadata": {},
     "output_type": "execute_result"
    }
   ],
   "source": [
    "di_calc(32, 15.68)"
   ]
  },
  {
   "cell_type": "code",
   "execution_count": 6,
   "id": "f25004c8-6867-4156-ae1d-1a5f165d8b91",
   "metadata": {},
   "outputs": [
    {
     "data": {
      "text/plain": [
       "8.382352941176471"
      ]
     },
     "execution_count": 6,
     "metadata": {},
     "output_type": "execute_result"
    }
   ],
   "source": [
    "focal_calc(19, 15)"
   ]
  },
  {
   "cell_type": "code",
   "execution_count": 7,
   "id": "24532679-c958-4fcc-b33e-d384ec76ba8d",
   "metadata": {},
   "outputs": [
    {
     "data": {
      "text/plain": [
       "-7.499999999999998"
      ]
     },
     "execution_count": 7,
     "metadata": {},
     "output_type": "execute_result"
    }
   ],
   "source": [
    "di_calc(5, 15)"
   ]
  },
  {
   "cell_type": "code",
   "execution_count": 8,
   "id": "b2878685-7478-442f-8acd-328af3540ea3",
   "metadata": {},
   "outputs": [
    {
     "data": {
      "text/plain": [
       "23.947115384615387"
      ]
     },
     "execution_count": 8,
     "metadata": {},
     "output_type": "execute_result"
    }
   ],
   "source": [
    "1/(1/17-1/58.6)"
   ]
  },
  {
   "cell_type": "code",
   "execution_count": 9,
   "id": "93396193-a5e4-4a8b-8d69-8c890700428e",
   "metadata": {},
   "outputs": [
    {
     "data": {
      "text/plain": [
       "7.777777777777777"
      ]
     },
     "execution_count": 9,
     "metadata": {},
     "output_type": "execute_result"
    }
   ],
   "source": [
    "1/(-1/14+1/5)"
   ]
  },
  {
   "cell_type": "code",
   "execution_count": null,
   "id": "d8d881ec-db95-458d-85cc-2ec9bf8f102f",
   "metadata": {},
   "outputs": [],
   "source": []
  },
  {
   "cell_type": "code",
   "execution_count": 10,
   "id": "72fb1ac4-b495-480c-a2a8-0d9a2182981d",
   "metadata": {},
   "outputs": [
    {
     "data": {
      "text/plain": [
       "29.999999999999982"
      ]
     },
     "execution_count": 10,
     "metadata": {},
     "output_type": "execute_result"
    }
   ],
   "source": [
    "di_calc(6, 5)"
   ]
  },
  {
   "cell_type": "code",
   "execution_count": 11,
   "id": "932095d0-90d4-4e58-a6aa-cd814e41b827",
   "metadata": {},
   "outputs": [
    {
     "data": {
      "text/plain": [
       "69.08685968819599"
      ]
     },
     "execution_count": 11,
     "metadata": {},
     "output_type": "execute_result"
    }
   ],
   "source": [
    "1/(1/15.51-1/20)"
   ]
  },
  {
   "cell_type": "code",
   "execution_count": 12,
   "id": "c920d885-aca8-4a41-a1ab-55e5af082f00",
   "metadata": {},
   "outputs": [
    {
     "data": {
      "text/plain": [
       "13.099122428427565"
      ]
     },
     "execution_count": 12,
     "metadata": {},
     "output_type": "execute_result"
    }
   ],
   "source": [
    "1/(1/17.51+1/(52))"
   ]
  },
  {
   "cell_type": "code",
   "execution_count": 13,
   "id": "15ee7bcc-c61e-4e04-99e5-39717ad2cba1",
   "metadata": {},
   "outputs": [
    {
     "data": {
      "text/plain": [
       "2.241379310344828"
      ]
     },
     "execution_count": 13,
     "metadata": {},
     "output_type": "execute_result"
    }
   ],
   "source": [
    "3.25/1.45"
   ]
  },
  {
   "cell_type": "code",
   "execution_count": 14,
   "id": "25f78616-fd59-42aa-b84d-7815f5742ea4",
   "metadata": {},
   "outputs": [
    {
     "data": {
      "text/plain": [
       "2.986666666666667"
      ]
     },
     "execution_count": 14,
     "metadata": {},
     "output_type": "execute_result"
    }
   ],
   "source": [
    "2.24/.75"
   ]
  },
  {
   "cell_type": "code",
   "execution_count": 15,
   "id": "fdd92801-7e52-4a25-a07b-87c9d00b0728",
   "metadata": {},
   "outputs": [
    {
     "data": {
      "text/plain": [
       "1.7272727272727273"
      ]
     },
     "execution_count": 15,
     "metadata": {},
     "output_type": "execute_result"
    }
   ],
   "source": [
    "9.5/5.5"
   ]
  },
  {
   "cell_type": "code",
   "execution_count": 20,
   "id": "6f8ed579-fef7-4056-867c-59f1767929c9",
   "metadata": {},
   "outputs": [
    {
     "data": {
      "text/plain": [
       "-529.6052631578883"
      ]
     },
     "execution_count": 20,
     "metadata": {},
     "output_type": "execute_result"
    }
   ],
   "source": [
    "focal_calc(5-di_calc(7.5,5.5), (43.6-27.5))"
   ]
  },
  {
   "cell_type": "code",
   "execution_count": null,
   "id": "fe80e4eb-56e1-47e2-8936-192e687035a3",
   "metadata": {},
   "outputs": [],
   "source": [
    "1/((1/5)-(1/(8.6)))"
   ]
  },
  {
   "cell_type": "code",
   "execution_count": 53,
   "id": "be10b6d8-3883-4f6d-a26f-b5ccf0b8f582",
   "metadata": {},
   "outputs": [
    {
     "data": {
      "text/plain": [
       "-15.624999999999993"
      ]
     },
     "execution_count": 53,
     "metadata": {},
     "output_type": "execute_result"
    }
   ],
   "source": [
    "1/(-1/(11.097560975609754-5) + 1/10)"
   ]
  },
  {
   "cell_type": "code",
   "execution_count": 48,
   "id": "de44eecd-21e0-4603-91c5-5f2220f1b605",
   "metadata": {},
   "outputs": [
    {
     "data": {
      "text/plain": [
       "27.38974358974359"
      ]
     },
     "execution_count": 48,
     "metadata": {},
     "output_type": "execute_result"
    }
   ],
   "source": [
    "38.8-11.410256410256409"
   ]
  },
  {
   "cell_type": "code",
   "execution_count": null,
   "id": "3f250016-e0ef-42c4-8bdb-f626b3c9c95b",
   "metadata": {},
   "outputs": [],
   "source": [
    "def m_microscope(s):\n",
    "    d\n",
    "    \n",
    "    "
   ]
  },
  {
   "cell_type": "code",
   "execution_count": null,
   "id": "2cc3fa10-34d2-47c5-8182-2db6dd02963f",
   "metadata": {},
   "outputs": [],
   "source": [
    "12*6.57/(15.5*5)"
   ]
  },
  {
   "cell_type": "code",
   "execution_count": null,
   "id": "66a09461-7f6a-4137-a2e2-4269f67dfb2c",
   "metadata": {},
   "outputs": [],
   "source": []
  }
 ],
 "metadata": {
  "kernelspec": {
   "display_name": "Python 3 (ipykernel)",
   "language": "python",
   "name": "python3"
  },
  "language_info": {
   "codemirror_mode": {
    "name": "ipython",
    "version": 3
   },
   "file_extension": ".py",
   "mimetype": "text/x-python",
   "name": "python",
   "nbconvert_exporter": "python",
   "pygments_lexer": "ipython3",
   "version": "3.10.7"
  }
 },
 "nbformat": 4,
 "nbformat_minor": 5
}
