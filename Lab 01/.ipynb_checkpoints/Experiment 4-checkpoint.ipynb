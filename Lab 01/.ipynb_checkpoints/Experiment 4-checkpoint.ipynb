{
 "cells": [
  {
   "cell_type": "code",
   "execution_count": 1,
   "id": "4de8091c-cae8-4aa4-b53d-239e506232b4",
   "metadata": {},
   "outputs": [],
   "source": [
    "def angularMagnificationCalc(s, d_np, f_ob, f_ep):\n",
    "    return s * d_np / (f_ob * f_ep)"
   ]
  },
  {
   "cell_type": "code",
   "execution_count": 2,
   "id": "e99b5bbf-2700-4b08-806d-9da2def2c1ba",
   "metadata": {},
   "outputs": [],
   "source": [
    "d_np = 5\n",
    "f_ob = 15.5\n",
    "f_ep = 5\n",
    "d_b = [40, 40, 35, 44, 51, 63.4]\n",
    "d_c = [72, 71.3, 69, 74, 79.7, 90.4]\n",
    "s = [c-b-20.5 for b,c in zip(d_b, d_c)]"
   ]
  },
  {
   "cell_type": "code",
   "execution_count": 3,
   "id": "2ea52b7c-6898-4116-b98a-d2d751d25106",
   "metadata": {},
   "outputs": [],
   "source": [
    "angularMag = [angularMagnificationCalc(s_val, d_np, f_ob, f_ep) for s_val in s]"
   ]
  },
  {
   "cell_type": "code",
   "execution_count": 5,
   "id": "2b4a6184-2a8b-4177-90f2-498ffe59b970",
   "metadata": {},
   "outputs": [
    {
     "data": {
      "text/plain": [
       "[0.7419354838709677,\n",
       " 0.6967741935483869,\n",
       " 0.8709677419354839,\n",
       " 0.6129032258064516,\n",
       " 0.5290322580645163,\n",
       " 0.4193548387096779]"
      ]
     },
     "execution_count": 5,
     "metadata": {},
     "output_type": "execute_result"
    }
   ],
   "source": [
    "angularMag"
   ]
  },
  {
   "cell_type": "code",
   "execution_count": null,
   "id": "f9af3ad0-7dad-4e96-a473-7745698385cf",
   "metadata": {},
   "outputs": [],
   "source": []
  }
 ],
 "metadata": {
  "kernelspec": {
   "display_name": "Python 3 (ipykernel)",
   "language": "python",
   "name": "python3"
  },
  "language_info": {
   "codemirror_mode": {
    "name": "ipython",
    "version": 3
   },
   "file_extension": ".py",
   "mimetype": "text/x-python",
   "name": "python",
   "nbconvert_exporter": "python",
   "pygments_lexer": "ipython3",
   "version": "3.10.7"
  }
 },
 "nbformat": 4,
 "nbformat_minor": 5
}
