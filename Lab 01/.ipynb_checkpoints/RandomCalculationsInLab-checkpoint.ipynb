{
 "cells": [
  {
   "cell_type": "code",
   "execution_count": 10,
   "id": "be85eb0a-37eb-496a-bd56-2fc798e40951",
   "metadata": {},
   "outputs": [],
   "source": [
    "def focal_calc(d_o, d_i):\n",
    "    return 1/(1/d_o+1/d_i)\n",
    "def di_calc(d_o, f):\n",
    "    return 1/(1/f-1/d_o)"
   ]
  },
  {
   "cell_type": "code",
   "execution_count": 58,
   "id": "157071c8-06a9-48cf-81d2-b9a5eebd0248",
   "metadata": {},
   "outputs": [],
   "source": [
    "mirror_lengths = [68.8, 73.6, 89.05]\n",
    "object_pos = 15\n",
    "screen_pos = 95\n",
    "d_o = [mirror_lengths[i] - object_pos for i in range(len(mirror_lengths))]\n",
    "d_i = [screen_pos-mirror_lengths[i] for i in range(len(mirror_lengths))]"
   ]
  },
  {
   "cell_type": "code",
   "execution_count": 59,
   "id": "11a8570f-badc-4b37-bbd2-135fcd7840cb",
   "metadata": {},
   "outputs": [
    {
     "name": "stdout",
     "output_type": "stream",
     "text": [
      "[53.8, 58.599999999999994, 74.05]\n",
      "[26.200000000000003, 21.400000000000006, 5.950000000000003]\n"
     ]
    }
   ],
   "source": [
    "print(d_o)\n",
    "print(d_i)"
   ]
  },
  {
   "cell_type": "code",
   "execution_count": 60,
   "id": "4cf4ec98-17e1-4e61-ae28-461eda5e480b",
   "metadata": {},
   "outputs": [
    {
     "name": "stdout",
     "output_type": "stream",
     "text": [
      "17.619500000000002\n",
      "15.675500000000005\n",
      "5.507468750000002\n"
     ]
    }
   ],
   "source": [
    "for i in range(3):\n",
    "    print(focal_calc(d_o[i], d_i[i]))"
   ]
  },
  {
   "cell_type": "code",
   "execution_count": 26,
   "id": "a7293787-5d7a-4402-9347-0463bac4ab23",
   "metadata": {},
   "outputs": [
    {
     "data": {
      "text/plain": [
       "30.745098039215684"
      ]
     },
     "execution_count": 26,
     "metadata": {},
     "output_type": "execute_result"
    }
   ],
   "source": [
    "di_calc(32, 15.68)"
   ]
  },
  {
   "cell_type": "code",
   "execution_count": 24,
   "id": "f25004c8-6867-4156-ae1d-1a5f165d8b91",
   "metadata": {},
   "outputs": [
    {
     "data": {
      "text/plain": [
       "8.382352941176471"
      ]
     },
     "execution_count": 24,
     "metadata": {},
     "output_type": "execute_result"
    }
   ],
   "source": [
    "focal_calc(19, 15)"
   ]
  },
  {
   "cell_type": "code",
   "execution_count": 62,
   "id": "24532679-c958-4fcc-b33e-d384ec76ba8d",
   "metadata": {},
   "outputs": [
    {
     "data": {
      "text/plain": [
       "-7.499999999999998"
      ]
     },
     "execution_count": 62,
     "metadata": {},
     "output_type": "execute_result"
    }
   ],
   "source": [
    "di_calc(5, 15)"
   ]
  },
  {
   "cell_type": "code",
   "execution_count": 31,
   "id": "72fb1ac4-b495-480c-a2a8-0d9a2182981d",
   "metadata": {},
   "outputs": [
    {
     "data": {
      "text/plain": [
       "29.999999999999982"
      ]
     },
     "execution_count": 31,
     "metadata": {},
     "output_type": "execute_result"
    }
   ],
   "source": [
    "di_calc(6, 5)"
   ]
  }
 ],
 "metadata": {
  "kernelspec": {
   "display_name": "Python 3 (ipykernel)",
   "language": "python",
   "name": "python3"
  },
  "language_info": {
   "codemirror_mode": {
    "name": "ipython",
    "version": 3
   },
   "file_extension": ".py",
   "mimetype": "text/x-python",
   "name": "python",
   "nbconvert_exporter": "python",
   "pygments_lexer": "ipython3",
   "version": "3.10.7"
  }
 },
 "nbformat": 4,
 "nbformat_minor": 5
}
