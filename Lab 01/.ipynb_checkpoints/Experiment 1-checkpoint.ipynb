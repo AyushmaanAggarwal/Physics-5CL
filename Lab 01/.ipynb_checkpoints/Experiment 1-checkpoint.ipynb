{
 "cells": [
  {
   "cell_type": "code",
   "execution_count": 33,
   "id": "d949215c-9154-4add-8d9f-792c42ab3596",
   "metadata": {},
   "outputs": [],
   "source": [
    "import sys\n",
    "sys.path.insert(0, '../')"
   ]
  },
  {
   "cell_type": "code",
   "execution_count": 34,
   "id": "f1e063b8-38b8-48e7-8d4d-ef91bd1e3e50",
   "metadata": {},
   "outputs": [],
   "source": [
    "import numpy as np\n",
    "import matplotlib.pyplot as plt\n",
    "%matplotlib inline"
   ]
  },
  {
   "cell_type": "code",
   "execution_count": 35,
   "id": "23c6e523-f073-4c70-b46f-022299c583dc",
   "metadata": {},
   "outputs": [],
   "source": [
    "import DataAnalysis as da"
   ]
  },
  {
   "cell_type": "code",
   "execution_count": 31,
   "id": "8eb5670d-aed4-470c-89b7-f05c2f1e1123",
   "metadata": {},
   "outputs": [],
   "source": [
    "object_pos = 15\n",
    "d_error = 1\n",
    "screen_pos = 65\n",
    "lens_a_pos = [35, 47.5, 52]\n",
    "lens_b_pos = [25, 30, 35]\n",
    "diff_pos = [apos - bpos for apos, bpos in zip(lens_a_pos, lens_b_pos)]"
   ]
  },
  {
   "cell_type": "code",
   "execution_count": 36,
   "id": "25166507-4471-46eb-bb2a-63827b652e33",
   "metadata": {},
   "outputs": [],
   "source": [
    "def focal_calc(d_o, d_i):\n",
    "    return 1/(1/d_o+1/d_i)\n",
    "\n",
    "def di_calc(d_o, f):\n",
    "    return 1/(1/f-1/d_o)\n",
    "\n",
    "do_calc = di_calc\n",
    "\n",
    "def do_error_prop(f, d_i, f_err, d_o_err):\n",
    "    partial_f = (1/f**2)/(1/f-1/d_i)**2\n",
    "    partial_d = (1/d_i**2)/(1/f-1/d_i)**2\n",
    "    return da.quartrature_sum([partial_f*f_err, partial_d*d_i_err])"
   ]
  },
  {
   "cell_type": "code",
   "execution_count": 22,
   "id": "65782f35-e36a-47be-87b7-ab8d14de36da",
   "metadata": {},
   "outputs": [],
   "source": [
    "# Start from reverse by calculating the object \n",
    "# from the image on the screen\n",
    "d_ia = [screen_pos-pos    for pos in lens_a_pos]\n",
    "d_oa = [do_calc(d_i, 17)  for d_i in d_ia]\n",
    "# Calculate relative image position for lens b\n",
    "d_ib = [diff - d_o        for diff, d_o in zip(diff_pos, d_oa)]\n",
    "d_ob = [bpos - object_pos for bpos in lens_b_pos]"
   ]
  },
  {
   "cell_type": "code",
   "execution_count": 26,
   "id": "cd060acf-de60-4984-b76b-5cc0486e897e",
   "metadata": {},
   "outputs": [],
   "source": [
    "# focal point of lens B\n",
    "f_b  = [focal_calc(d_o, d_i) for d_o, d_i in zip(d_ob, d_ib)]"
   ]
  },
  {
   "cell_type": "code",
   "execution_count": 27,
   "id": "33d2bcb0-dd7c-4e44-bc2e-7ce8699dec48",
   "metadata": {},
   "outputs": [
    {
     "data": {
      "text/plain": [
       "[15.199999999999998, 15.400000000000002, 15.663956639566393]"
      ]
     },
     "execution_count": 27,
     "metadata": {},
     "output_type": "execute_result"
    }
   ],
   "source": [
    "f_b"
   ]
  },
  {
   "cell_type": "code",
   "execution_count": 38,
   "id": "cfcd17cd-112f-4bb5-9dda-04b086de9004",
   "metadata": {},
   "outputs": [],
   "source": [
    "d_ia_err = da.quartrature_sum([d_error, d_error])\n",
    "d_oa_err = [di_error_prop(17, d_i, .5, d_ia_err) for d_i in d_ia]\n",
    "d_ib_err"
   ]
  },
  {
   "cell_type": "code",
   "execution_count": null,
   "id": "3deb46d5-26c3-466d-8a16-e65da6a224de",
   "metadata": {},
   "outputs": [],
   "source": []
  }
 ],
 "metadata": {
  "kernelspec": {
   "display_name": "Python 3 (ipykernel)",
   "language": "python",
   "name": "python3"
  },
  "language_info": {
   "codemirror_mode": {
    "name": "ipython",
    "version": 3
   },
   "file_extension": ".py",
   "mimetype": "text/x-python",
   "name": "python",
   "nbconvert_exporter": "python",
   "pygments_lexer": "ipython3",
   "version": "3.10.7"
  }
 },
 "nbformat": 4,
 "nbformat_minor": 5
}
