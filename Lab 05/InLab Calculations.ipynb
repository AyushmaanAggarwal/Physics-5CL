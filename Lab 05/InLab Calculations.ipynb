{
 "cells": [
  {
   "cell_type": "code",
   "execution_count": 2,
   "id": "b9726e71-8f8e-4df5-9397-42da4e9a0dcd",
   "metadata": {},
   "outputs": [],
   "source": [
    "import numpy as np\n",
    "import pandas as pd"
   ]
  },
  {
   "cell_type": "markdown",
   "id": "6f067f70-951a-4e41-8c45-69708152a910",
   "metadata": {},
   "source": [
    "# Experiment 1"
   ]
  },
  {
   "cell_type": "markdown",
   "id": "c9197204-7271-4ddd-ae82-a8701ea0ba24",
   "metadata": {
    "jp-MarkdownHeadingCollapsed": true,
    "tags": []
   },
   "source": [
    "## 1.1 Calibration"
   ]
  },
  {
   "cell_type": "code",
   "execution_count": 4,
   "id": "359ec6c7-42c5-446e-b913-b884e3f35792",
   "metadata": {},
   "outputs": [],
   "source": [
    "d = 1/5000"
   ]
  },
  {
   "cell_type": "code",
   "execution_count": 5,
   "id": "a096a373-8bfa-45b2-9eec-4188640817a6",
   "metadata": {},
   "outputs": [
    {
     "name": "stdout",
     "output_type": "stream",
     "text": [
      "2.0616977192714283e-05\n"
     ]
    }
   ],
   "source": [
    "rn = np.mean([])\n",
    "ang_form = lambda x: np.arctan(x/(48-.8))/np.pi*180\n",
    "ang = ang_form(rn)\n",
    "print(d*np.sin(ang*np.pi/180))"
   ]
  },
  {
   "cell_type": "code",
   "execution_count": 9,
   "id": "00a70a63-4878-43ca-ae9a-51c5da79b0dc",
   "metadata": {},
   "outputs": [
    {
     "data": {
      "text/plain": [
       "2.8270899303372183e-07"
      ]
     },
     "execution_count": 9,
     "metadata": {},
     "output_type": "execute_result"
    }
   ],
   "source": []
  },
  {
   "cell_type": "markdown",
   "id": "7b4a300e-4980-4bd6-a705-3adbc950f2b0",
   "metadata": {
    "tags": []
   },
   "source": [
    "## 1.2 Helium Spectra"
   ]
  },
  {
   "cell_type": "code",
   "execution_count": 7,
   "id": "8a91bdc3-8c32-4673-80e8-40fecfa7e9ba",
   "metadata": {},
   "outputs": [],
   "source": [
    "d = 0.01/5000"
   ]
  },
  {
   "cell_type": "markdown",
   "id": "5dffcf73-90bd-4be6-9bed-1a3a3ca925a8",
   "metadata": {
    "tags": []
   },
   "source": [
    "### Red"
   ]
  },
  {
   "cell_type": "code",
   "execution_count": 10,
   "id": "dedc7ca5-82c8-452d-aa77-8385bc8821dc",
   "metadata": {},
   "outputs": [
    {
     "name": "stdout",
     "output_type": "stream",
     "text": [
      "6.812465161687686e-07\n"
     ]
    }
   ],
   "source": [
    "rn = np.mean([17.25, 17.2, 16.9, 17.05])\n",
    "ang_form = lambda x: np.arctan(x/(.48-.008))/np.pi*180\n",
    "ang = ang_form(rn/100)\n",
    "print(d*np.sin(ang*np.pi/180))"
   ]
  },
  {
   "cell_type": "markdown",
   "id": "e0722a1b-e56f-46d6-b50e-eb6a9f5ff6c8",
   "metadata": {
    "tags": []
   },
   "source": [
    "### Orange"
   ]
  },
  {
   "cell_type": "code",
   "execution_count": 12,
   "id": "abe2e99f-0418-45b9-9828-35fb1938c603",
   "metadata": {},
   "outputs": [
    {
     "name": "stdout",
     "output_type": "stream",
     "text": [
      "6.312491955763039e-07\n"
     ]
    }
   ],
   "source": [
    "rn = np.mean([15.6, 15.7, 15.7, 15.8])\n",
    "ang_form = lambda x: np.arctan(x/(.48-.008))/np.pi*180\n",
    "ang = ang_form(rn/100)\n",
    "print(d*np.sin(ang*np.pi/180))"
   ]
  },
  {
   "cell_type": "markdown",
   "id": "a82d873e-5ccc-471b-9d20-389ead761c83",
   "metadata": {},
   "source": [
    "### Yellow"
   ]
  },
  {
   "cell_type": "code",
   "execution_count": 11,
   "id": "2a2edc19-246b-418f-9624-acc6d1d3ca00",
   "metadata": {},
   "outputs": [
    {
     "name": "stdout",
     "output_type": "stream",
     "text": [
      "6.052820138076755e-07\n"
     ]
    }
   ],
   "source": [
    "rn = np.mean([14.75, 15.2, 14.85, 15, 15.1, 14.9, 15.15, 14.95])\n",
    "ang_form = lambda x: np.arctan(x/(.48-.008))/np.pi*180\n",
    "ang = ang_form(rn/100)\n",
    "print(d*np.sin(ang*np.pi/180))"
   ]
  },
  {
   "cell_type": "markdown",
   "id": "acb65807-c29e-44e7-9140-486419dce6de",
   "metadata": {},
   "source": [
    "### Green"
   ]
  },
  {
   "cell_type": "code",
   "execution_count": 13,
   "id": "f07b43c3-237d-48b9-a82b-722a7b8e1335",
   "metadata": {},
   "outputs": [
    {
     "name": "stdout",
     "output_type": "stream",
     "text": [
      "5.129670052273586e-07\n"
     ]
    }
   ],
   "source": [
    "rn = np.mean([12.6, 12.3, 12.5, 12.7])\n",
    "ang_form = lambda x: np.arctan(x/(.48-.008))/np.pi*180\n",
    "ang = ang_form(rn/100)\n",
    "print(d*np.sin(ang*np.pi/180))"
   ]
  },
  {
   "cell_type": "markdown",
   "id": "02f146c9-92fd-42c7-843e-c4eca0feb86d",
   "metadata": {
    "tags": []
   },
   "source": [
    "### Aqua"
   ]
  },
  {
   "cell_type": "code",
   "execution_count": 14,
   "id": "3622fb85-5cf4-46ca-89de-3c19bac6600a",
   "metadata": {},
   "outputs": [
    {
     "name": "stdout",
     "output_type": "stream",
     "text": [
      "4.797459711785495e-07\n"
     ]
    }
   ],
   "source": [
    "rn = np.mean([11.7, 11.65, 11.7, 11.6])\n",
    "ang_form = lambda x: np.arctan(x/(.48-.008))/np.pi*180\n",
    "ang = ang_form(rn/100)\n",
    "print(d*np.sin(ang*np.pi/180))"
   ]
  },
  {
   "cell_type": "markdown",
   "id": "2c864c39-3095-4999-bdbb-be64e62b3d8a",
   "metadata": {
    "tags": []
   },
   "source": [
    "### Violet"
   ]
  },
  {
   "cell_type": "code",
   "execution_count": 13,
   "id": "e15aa28c-f4a6-4d67-bfa2-27809674bf75",
   "metadata": {},
   "outputs": [
    {
     "name": "stdout",
     "output_type": "stream",
     "text": [
      "5.129670052273586e-07\n"
     ]
    }
   ],
   "source": [
    "rn = np.mean([12.6, 12.3, 12.5, 12.7])\n",
    "ang_form = lambda x: np.arctan(x/(.48-.008))/np.pi*180\n",
    "ang = ang_form(rn/100)\n",
    "\n",
    "print(d*np.sin(ang*np.pi/180))"
   ]
  },
  {
   "cell_type": "markdown",
   "id": "d237b864-be6e-42a2-aa6c-f3699513e58c",
   "metadata": {},
   "source": [
    "# Experiment 2"
   ]
  },
  {
   "cell_type": "markdown",
   "id": "5a215579-1558-4454-9325-633a9e86c389",
   "metadata": {
    "tags": []
   },
   "source": [
    "## 2.1 Hydrogen Spectra"
   ]
  },
  {
   "cell_type": "markdown",
   "id": "04acceba-d89e-4a2d-b959-90feb5890198",
   "metadata": {},
   "source": [
    "### Red"
   ]
  },
  {
   "cell_type": "code",
   "execution_count": 18,
   "id": "a7b1febc-631d-4288-abbb-f2b20b07f9f1",
   "metadata": {},
   "outputs": [
    {
     "name": "stdout",
     "output_type": "stream",
     "text": [
      "The wavelength is: \n",
      "6.650749560943275e-07\n"
     ]
    }
   ],
   "source": [
    "rn = np.mean([17.1, 16.75, 16.7, 17.15, 16.75, 17.05, 17, 16.9])\n",
    "ang_form = lambda x: np.arctan(x/(.48))/np.pi*180\n",
    "ang = ang_form(rn/100)\n",
    "print(\"The wavelength is: \")\n",
    "print(d*np.sin(ang*np.pi/180))"
   ]
  },
  {
   "cell_type": "markdown",
   "id": "8752ca82-cb3a-4c15-b4b8-afc538f532af",
   "metadata": {},
   "source": [
    "### Aqua"
   ]
  },
  {
   "cell_type": "code",
   "execution_count": 17,
   "id": "bf051724-bef6-41ee-a33a-c6a159d17ba5",
   "metadata": {},
   "outputs": [
    {
     "name": "stdout",
     "output_type": "stream",
     "text": [
      "The wavelength is: \n",
      "4.93380107744787e-07\n"
     ]
    }
   ],
   "source": [
    "rn = np.mean([12.2, 12.25, 12.6, 12, 12.3, 12.05, 12.35, 12])\n",
    "ang_form = lambda x: np.arctan(x/(.48))/np.pi*180\n",
    "ang = ang_form(rn/100)\n",
    "print(\"The wavelength is: \")\n",
    "print(d*np.sin(ang*np.pi/180))"
   ]
  },
  {
   "cell_type": "markdown",
   "id": "2b6294e6-3cef-4616-aaed-41fa8f90d4b7",
   "metadata": {
    "tags": []
   },
   "source": [
    "### Violet"
   ]
  },
  {
   "cell_type": "code",
   "execution_count": 23,
   "id": "dd076498-37ef-4842-bfbe-1151fb185514",
   "metadata": {},
   "outputs": [
    {
     "name": "stdout",
     "output_type": "stream",
     "text": [
      "The wavelength is: \n",
      "4.304160688665712e-07\n"
     ]
    }
   ],
   "source": [
    "rn = np.mean([10.85, 10.8, 10.95, 10.7, 10.8, 10.8, 10.8, 10.7])\n",
    "ang_form = lambda x: np.arctan(x/(.48))/np.pi*180\n",
    "ang = ang_form(rn/100)\n",
    "print(\"The wavelength is: \")\n",
    "print(d*np.sin(ang*np.pi/180))"
   ]
  },
  {
   "cell_type": "markdown",
   "id": "b3edbd70-a136-42b1-8ea2-cfdf11d0e122",
   "metadata": {},
   "source": [
    "# Experiment 3"
   ]
  },
  {
   "cell_type": "markdown",
   "id": "138e0f6a-3b40-4ee2-ac01-8973f181ce7c",
   "metadata": {
    "tags": []
   },
   "source": [
    "### Gas A - Red Orange"
   ]
  },
  {
   "cell_type": "code",
   "execution_count": 28,
   "id": "a13837a3-236c-49f4-acc8-1b47cca01b22",
   "metadata": {},
   "outputs": [
    {
     "name": "stdout",
     "output_type": "stream",
     "text": [
      "The wavelength is: \n",
      "6.127886382265114e-07\n"
     ]
    }
   ],
   "source": [
    "rn = np.mean([15.55, 15.55, 15.6, 15.4,15.3,15.3])\n",
    "ang_form = lambda x: np.arctan(x/(.48))/np.pi*180\n",
    "ang = ang_form(rn/100)\n",
    "print(\"The wavelength is: \")\n",
    "print(d*np.sin(ang*np.pi/180))"
   ]
  },
  {
   "cell_type": "markdown",
   "id": "eaec77d2-99f5-4348-972a-f981a927f4fc",
   "metadata": {
    "tags": []
   },
   "source": [
    "### Gas A - Green"
   ]
  },
  {
   "cell_type": "code",
   "execution_count": 27,
   "id": "6e939298-6fa2-40a6-bf48-b535183ef342",
   "metadata": {},
   "outputs": [
    {
     "name": "stdout",
     "output_type": "stream",
     "text": [
      "The wavelength is: \n",
      "5.259513436430394e-07\n"
     ]
    }
   ],
   "source": [
    "rn = np.mean([13.25, 12.95, 13.2, 13, 13.2, 12.9])\n",
    "ang_form = lambda x: np.arctan(x/(.48))/np.pi*180\n",
    "ang = ang_form(rn/100)\n",
    "print(\"The wavelength is: \")\n",
    "print(d*np.sin(ang*np.pi/180))"
   ]
  },
  {
   "cell_type": "markdown",
   "id": "1dd3cd43-2f78-432f-b16e-35499dae1cfa",
   "metadata": {
    "tags": []
   },
   "source": [
    "### Gas B - Red"
   ]
  },
  {
   "cell_type": "code",
   "execution_count": 31,
   "id": "360855eb-e1bf-4546-8b56-78a519086997",
   "metadata": {},
   "outputs": [
    {
     "name": "stdout",
     "output_type": "stream",
     "text": [
      "The wavelength is: \n",
      "6.501595370220959e-07\n"
     ]
    }
   ],
   "source": [
    "rn = np.mean([16.8, 16.2, 16.8, 16.2, 16.7, 16.3])\n",
    "ang_form = lambda x: np.arctan(x/(.48))/np.pi*180\n",
    "ang = ang_form(rn/100)\n",
    "print(\"The wavelength is: \")\n",
    "print(d*np.sin(ang*np.pi/180))"
   ]
  },
  {
   "cell_type": "markdown",
   "id": "59430134-210e-4215-b606-c3222af385bb",
   "metadata": {
    "tags": []
   },
   "source": [
    "### Gas B - Yellow"
   ]
  },
  {
   "cell_type": "code",
   "execution_count": 32,
   "id": "89211ba5-f777-4569-8ac5-149b8b18293b",
   "metadata": {},
   "outputs": [
    {
     "name": "stdout",
     "output_type": "stream",
     "text": [
      "The wavelength is: \n",
      "5.971537590951148e-07\n"
     ]
    }
   ],
   "source": [
    "rn = np.mean([15.3, 14.7, 15.35, 14.7, 15.45, 14.6])\n",
    "ang_form = lambda x: np.arctan(x/(.48))/np.pi*180\n",
    "ang = ang_form(rn/100)\n",
    "print(\"The wavelength is: \")\n",
    "print(d*np.sin(ang*np.pi/180))"
   ]
  },
  {
   "cell_type": "code",
   "execution_count": 15,
   "id": "c2382a02-f26f-463f-853c-1a21748788b1",
   "metadata": {},
   "outputs": [],
   "source": [
    "ayu_high = [18.35, 19.05, 19.4, 19.1, 19.4, 19.75]\n",
    "ayu_low = [10, 10.3, 9.9, 10, 9.9, 10]"
   ]
  },
  {
   "cell_type": "code",
   "execution_count": 5,
   "id": "169aab4c-ef5a-4657-b090-8cb75360e4ed",
   "metadata": {},
   "outputs": [
    {
     "data": {
      "text/html": [
       "<div>\n",
       "<style scoped>\n",
       "    .dataframe tbody tr th:only-of-type {\n",
       "        vertical-align: middle;\n",
       "    }\n",
       "\n",
       "    .dataframe tbody tr th {\n",
       "        vertical-align: top;\n",
       "    }\n",
       "\n",
       "    .dataframe thead th {\n",
       "        text-align: right;\n",
       "    }\n",
       "</style>\n",
       "<table border=\"1\" class=\"dataframe\">\n",
       "  <thead>\n",
       "    <tr style=\"text-align: right;\">\n",
       "      <th></th>\n",
       "      <th>0</th>\n",
       "      <th>1</th>\n",
       "    </tr>\n",
       "  </thead>\n",
       "  <tbody>\n",
       "    <tr>\n",
       "      <th>count</th>\n",
       "      <td>6.000000</td>\n",
       "      <td>6.000000</td>\n",
       "    </tr>\n",
       "    <tr>\n",
       "      <th>mean</th>\n",
       "      <td>19.175000</td>\n",
       "      <td>10.016667</td>\n",
       "    </tr>\n",
       "    <tr>\n",
       "      <th>std</th>\n",
       "      <td>0.476183</td>\n",
       "      <td>0.147196</td>\n",
       "    </tr>\n",
       "    <tr>\n",
       "      <th>min</th>\n",
       "      <td>18.350000</td>\n",
       "      <td>9.900000</td>\n",
       "    </tr>\n",
       "    <tr>\n",
       "      <th>25%</th>\n",
       "      <td>19.062500</td>\n",
       "      <td>9.925000</td>\n",
       "    </tr>\n",
       "    <tr>\n",
       "      <th>50%</th>\n",
       "      <td>19.250000</td>\n",
       "      <td>10.000000</td>\n",
       "    </tr>\n",
       "    <tr>\n",
       "      <th>75%</th>\n",
       "      <td>19.400000</td>\n",
       "      <td>10.000000</td>\n",
       "    </tr>\n",
       "    <tr>\n",
       "      <th>max</th>\n",
       "      <td>19.750000</td>\n",
       "      <td>10.300000</td>\n",
       "    </tr>\n",
       "  </tbody>\n",
       "</table>\n",
       "</div>"
      ],
      "text/plain": [
       "               0          1\n",
       "count   6.000000   6.000000\n",
       "mean   19.175000  10.016667\n",
       "std     0.476183   0.147196\n",
       "min    18.350000   9.900000\n",
       "25%    19.062500   9.925000\n",
       "50%    19.250000  10.000000\n",
       "75%    19.400000  10.000000\n",
       "max    19.750000  10.300000"
      ]
     },
     "execution_count": 5,
     "metadata": {},
     "output_type": "execute_result"
    }
   ],
   "source": [
    "pd.DataFrame(zip(ayu_high, ayu_low)).describe()"
   ]
  },
  {
   "cell_type": "code",
   "execution_count": 8,
   "id": "48a77c6e-a156-42da-b3f2-bcb5535e390b",
   "metadata": {},
   "outputs": [
    {
     "name": "stdout",
     "output_type": "stream",
     "text": [
      "The wavelength is: \n",
      "7.419473667297926e-07\n",
      "4.0856002113118367e-07\n"
     ]
    }
   ],
   "source": [
    "high = 19.175000\n",
    "low = 10.016667\n",
    "ang_form = lambda x: np.arctan(x/(.48))/np.pi*180\n",
    "angh = ang_form(high/100)\n",
    "angl = ang_form(low/100)\n",
    "print(\"The wavelength is: \")\n",
    "print(d*np.sin(angh*np.pi/180))\n",
    "print(d*np.sin(angl*np.pi/180))"
   ]
  },
  {
   "cell_type": "code",
   "execution_count": null,
   "id": "35b6413f-3b61-4945-98c4-1bce1cb59e05",
   "metadata": {},
   "outputs": [],
   "source": []
  },
  {
   "cell_type": "code",
   "execution_count": 32,
   "id": "69e350a2-b136-4e3d-a3c5-8dd4d9825bd7",
   "metadata": {},
   "outputs": [
    {
     "name": "stdout",
     "output_type": "stream",
     "text": [
      "The wavelength is: \n",
      "5.971537590951148e-07\n"
     ]
    }
   ],
   "source": [
    "rn = np.mean([15.3, 14.7, 15.35, 14.7, 15.45, 14.6])\n",
    "ang_form = lambda x: np.arctan(x/(.48))/np.pi*180\n",
    "ang = ang_form(rn/100)\n",
    "print(\"The wavelength is: \")\n",
    "print(d*np.sin(ang*np.pi/180))"
   ]
  },
  {
   "cell_type": "code",
   "execution_count": 13,
   "id": "39568f02-b04c-40ff-97d4-b7e5f5810a31",
   "metadata": {},
   "outputs": [],
   "source": [
    "sophie_high = [19.9, 18.3, 18.4, 18.6, 19.2, 19.3]\n",
    "sophie_low = [10.05, 9.6, 9.75, 9.7, 9.7, 9.6]"
   ]
  },
  {
   "cell_type": "code",
   "execution_count": 14,
   "id": "04b1d762-6985-44a9-acc9-2fc9eccb4da8",
   "metadata": {},
   "outputs": [
    {
     "data": {
      "text/html": [
       "<div>\n",
       "<style scoped>\n",
       "    .dataframe tbody tr th:only-of-type {\n",
       "        vertical-align: middle;\n",
       "    }\n",
       "\n",
       "    .dataframe tbody tr th {\n",
       "        vertical-align: top;\n",
       "    }\n",
       "\n",
       "    .dataframe thead th {\n",
       "        text-align: right;\n",
       "    }\n",
       "</style>\n",
       "<table border=\"1\" class=\"dataframe\">\n",
       "  <thead>\n",
       "    <tr style=\"text-align: right;\">\n",
       "      <th></th>\n",
       "      <th>0</th>\n",
       "      <th>1</th>\n",
       "    </tr>\n",
       "  </thead>\n",
       "  <tbody>\n",
       "    <tr>\n",
       "      <th>count</th>\n",
       "      <td>6.000000</td>\n",
       "      <td>6.000000</td>\n",
       "    </tr>\n",
       "    <tr>\n",
       "      <th>mean</th>\n",
       "      <td>18.950000</td>\n",
       "      <td>9.733333</td>\n",
       "    </tr>\n",
       "    <tr>\n",
       "      <th>std</th>\n",
       "      <td>0.622093</td>\n",
       "      <td>0.166333</td>\n",
       "    </tr>\n",
       "    <tr>\n",
       "      <th>min</th>\n",
       "      <td>18.300000</td>\n",
       "      <td>9.600000</td>\n",
       "    </tr>\n",
       "    <tr>\n",
       "      <th>25%</th>\n",
       "      <td>18.450000</td>\n",
       "      <td>9.625000</td>\n",
       "    </tr>\n",
       "    <tr>\n",
       "      <th>50%</th>\n",
       "      <td>18.900000</td>\n",
       "      <td>9.700000</td>\n",
       "    </tr>\n",
       "    <tr>\n",
       "      <th>75%</th>\n",
       "      <td>19.275000</td>\n",
       "      <td>9.737500</td>\n",
       "    </tr>\n",
       "    <tr>\n",
       "      <th>max</th>\n",
       "      <td>19.900000</td>\n",
       "      <td>10.050000</td>\n",
       "    </tr>\n",
       "  </tbody>\n",
       "</table>\n",
       "</div>"
      ],
      "text/plain": [
       "               0          1\n",
       "count   6.000000   6.000000\n",
       "mean   18.950000   9.733333\n",
       "std     0.622093   0.166333\n",
       "min    18.300000   9.600000\n",
       "25%    18.450000   9.625000\n",
       "50%    18.900000   9.700000\n",
       "75%    19.275000   9.737500\n",
       "max    19.900000  10.050000"
      ]
     },
     "execution_count": 14,
     "metadata": {},
     "output_type": "execute_result"
    }
   ],
   "source": [
    "pd.DataFrame(zip(sophie_high, sophie_low)).describe()"
   ]
  },
  {
   "cell_type": "code",
   "execution_count": 11,
   "id": "eb24b2b3-1475-4db0-afb1-68135a140cf3",
   "metadata": {},
   "outputs": [
    {
     "name": "stdout",
     "output_type": "stream",
     "text": [
      "The wavelength is: \n",
      "7.3442130820208e-07\n",
      "3.974661889466431e-07\n"
     ]
    }
   ],
   "source": [
    "high = 18.950000\n",
    "low = 9.733333\n",
    "ang_form = lambda x: np.arctan(x/(.48))/np.pi*180\n",
    "angh = ang_form(high/100)\n",
    "angl = ang_form(low/100)\n",
    "print(\"The wavelength is: \")\n",
    "print(d*np.sin(angh*np.pi/180))\n",
    "print(d*np.sin(angl*np.pi/180))"
   ]
  },
  {
   "cell_type": "code",
   "execution_count": 18,
   "id": "55ccf34e-51a1-4e1b-8933-085f5908ddf7",
   "metadata": {},
   "outputs": [],
   "source": [
    "total_high = ayu_high + sophie_high\n",
    "total_low = ayu_low + sophie_low"
   ]
  },
  {
   "cell_type": "code",
   "execution_count": 19,
   "id": "8547b2ef-2c23-4813-8d26-9c93677f0074",
   "metadata": {},
   "outputs": [
    {
     "data": {
      "text/html": [
       "<div>\n",
       "<style scoped>\n",
       "    .dataframe tbody tr th:only-of-type {\n",
       "        vertical-align: middle;\n",
       "    }\n",
       "\n",
       "    .dataframe tbody tr th {\n",
       "        vertical-align: top;\n",
       "    }\n",
       "\n",
       "    .dataframe thead th {\n",
       "        text-align: right;\n",
       "    }\n",
       "</style>\n",
       "<table border=\"1\" class=\"dataframe\">\n",
       "  <thead>\n",
       "    <tr style=\"text-align: right;\">\n",
       "      <th></th>\n",
       "      <th>0</th>\n",
       "      <th>1</th>\n",
       "    </tr>\n",
       "  </thead>\n",
       "  <tbody>\n",
       "    <tr>\n",
       "      <th>count</th>\n",
       "      <td>12.000000</td>\n",
       "      <td>12.000000</td>\n",
       "    </tr>\n",
       "    <tr>\n",
       "      <th>mean</th>\n",
       "      <td>19.062500</td>\n",
       "      <td>9.875000</td>\n",
       "    </tr>\n",
       "    <tr>\n",
       "      <th>std</th>\n",
       "      <td>0.541095</td>\n",
       "      <td>0.210519</td>\n",
       "    </tr>\n",
       "    <tr>\n",
       "      <th>min</th>\n",
       "      <td>18.300000</td>\n",
       "      <td>9.600000</td>\n",
       "    </tr>\n",
       "    <tr>\n",
       "      <th>25%</th>\n",
       "      <td>18.550000</td>\n",
       "      <td>9.700000</td>\n",
       "    </tr>\n",
       "    <tr>\n",
       "      <th>50%</th>\n",
       "      <td>19.150000</td>\n",
       "      <td>9.900000</td>\n",
       "    </tr>\n",
       "    <tr>\n",
       "      <th>75%</th>\n",
       "      <td>19.400000</td>\n",
       "      <td>10.000000</td>\n",
       "    </tr>\n",
       "    <tr>\n",
       "      <th>max</th>\n",
       "      <td>19.900000</td>\n",
       "      <td>10.300000</td>\n",
       "    </tr>\n",
       "  </tbody>\n",
       "</table>\n",
       "</div>"
      ],
      "text/plain": [
       "               0          1\n",
       "count  12.000000  12.000000\n",
       "mean   19.062500   9.875000\n",
       "std     0.541095   0.210519\n",
       "min    18.300000   9.600000\n",
       "25%    18.550000   9.700000\n",
       "50%    19.150000   9.900000\n",
       "75%    19.400000  10.000000\n",
       "max    19.900000  10.300000"
      ]
     },
     "execution_count": 19,
     "metadata": {},
     "output_type": "execute_result"
    }
   ],
   "source": [
    "pd.DataFrame(zip(total_high, total_low)).describe()"
   ]
  },
  {
   "cell_type": "code",
   "execution_count": 20,
   "id": "4c2cfdcd-3ad6-451b-bce2-c654aa533d5f",
   "metadata": {},
   "outputs": [
    {
     "name": "stdout",
     "output_type": "stream",
     "text": [
      "The wavelength is: \n",
      "7.381888755767133e-07\n",
      "4.030179519000766e-07\n"
     ]
    }
   ],
   "source": [
    "high = 19.062500\n",
    "low = 9.875000\n",
    "ang_form = lambda x: np.arctan(x/(.48))/np.pi*180\n",
    "angh = ang_form(high/100)\n",
    "angl = ang_form(low/100)\n",
    "print(\"The wavelength is: \")\n",
    "print(d*np.sin(angh*np.pi/180))\n",
    "print(d*np.sin(angl*np.pi/180))"
   ]
  },
  {
   "cell_type": "code",
   "execution_count": null,
   "id": "066bf50c-0df9-4d7c-b892-1b12027f7779",
   "metadata": {},
   "outputs": [],
   "source": []
  }
 ],
 "metadata": {
  "kernelspec": {
   "display_name": "Python 3 (ipykernel)",
   "language": "python",
   "name": "python3"
  },
  "language_info": {
   "codemirror_mode": {
    "name": "ipython",
    "version": 3
   },
   "file_extension": ".py",
   "mimetype": "text/x-python",
   "name": "python",
   "nbconvert_exporter": "python",
   "pygments_lexer": "ipython3",
   "version": "3.10.8"
  }
 },
 "nbformat": 4,
 "nbformat_minor": 5
}
