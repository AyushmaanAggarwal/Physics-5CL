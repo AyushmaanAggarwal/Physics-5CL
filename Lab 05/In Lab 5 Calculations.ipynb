{
 "cells": [
  {
   "cell_type": "code",
   "execution_count": 18,
   "id": "f6afe636-ade5-4b8b-827e-0e270ce9511d",
   "metadata": {},
   "outputs": [],
   "source": [
    "import sys\n",
    "sys.path.insert(0, '../')"
   ]
  },
  {
   "cell_type": "code",
   "execution_count": 19,
   "id": "b9726e71-8f8e-4df5-9397-42da4e9a0dcd",
   "metadata": {},
   "outputs": [],
   "source": [
    "import numpy as np\n",
    "import pandas as pd\n",
    "import scipy.optimize as opt\n",
    "import DataAnalysis as da\n",
    "import matplotlib.pyplot as plt\n",
    "%matplotlib inline"
   ]
  },
  {
   "cell_type": "code",
   "execution_count": 20,
   "id": "00a70a63-4878-43ca-ae9a-51c5da79b0dc",
   "metadata": {},
   "outputs": [],
   "source": [
    "wav_func = lambda x: d*np.sin(np.arctan(x/(48)))\n",
    "def wav_err(x, d, l, x_err, d_err, l_err):\n",
    "    prop_d = np.sin(np.arctan(x/l))\n",
    "    prop_x = d*np.cos(np.arctan(x/l))*(1/((x/l)**2 + 1))*(1/l)\n",
    "    prop_l = d*np.cos(np.arctan(x/l))*(1/((x/l)**2 + 1))*(x/l**2)\n",
    "    return da.quartrature_sum([prop_d*d_err, prop_l*l_err, prop_x*x_err])\n"
   ]
  },
  {
   "cell_type": "code",
   "execution_count": 21,
   "id": "359ec6c7-42c5-446e-b913-b884e3f35792",
   "metadata": {},
   "outputs": [],
   "source": [
    "d = .01/5000\n",
    "d_err = .01/5000**2*200"
   ]
  },
  {
   "cell_type": "markdown",
   "id": "6f067f70-951a-4e41-8c45-69708152a910",
   "metadata": {
    "tags": []
   },
   "source": [
    "# Experiment 1"
   ]
  },
  {
   "cell_type": "markdown",
   "id": "c9197204-7271-4ddd-ae82-a8701ea0ba24",
   "metadata": {
    "jp-MarkdownHeadingCollapsed": true,
    "tags": []
   },
   "source": [
    "## 1.1 Calibration"
   ]
  },
  {
   "cell_type": "code",
   "execution_count": 50,
   "id": "a096a373-8bfa-45b2-9eec-4188640817a6",
   "metadata": {},
   "outputs": [
    {
     "name": "stdout",
     "output_type": "stream",
     "text": [
      "The wavelength is: \n",
      "6.052820138076754e-07\n"
     ]
    }
   ],
   "source": [
    "rn_og = np.array([14.75, 15.2, 14.85, 15, 15.1, 14.9, 15.15, 14.95])\n",
    "rn = np.mean([14.75, 15.2, 14.85, 15, 15.1, 14.9, 15.15, 14.95])\n",
    "ang_form = lambda x: np.arctan(x/(48-.8))/np.pi*180\n",
    "ang = ang_form(rn)\n",
    "print(\"The wavelength is: \")\n",
    "print(d*np.sin(ang*np.pi/180))"
   ]
  },
  {
   "cell_type": "code",
   "execution_count": 51,
   "id": "ae91afeb-10b4-40f7-9263-6add51539466",
   "metadata": {},
   "outputs": [
    {
     "data": {
      "text/html": [
       "<div>\n",
       "<style scoped>\n",
       "    .dataframe tbody tr th:only-of-type {\n",
       "        vertical-align: middle;\n",
       "    }\n",
       "\n",
       "    .dataframe tbody tr th {\n",
       "        vertical-align: top;\n",
       "    }\n",
       "\n",
       "    .dataframe thead th {\n",
       "        text-align: right;\n",
       "    }\n",
       "</style>\n",
       "<table border=\"1\" class=\"dataframe\">\n",
       "  <thead>\n",
       "    <tr style=\"text-align: right;\">\n",
       "      <th></th>\n",
       "      <th>0</th>\n",
       "    </tr>\n",
       "  </thead>\n",
       "  <tbody>\n",
       "    <tr>\n",
       "      <th>count</th>\n",
       "      <td>8.000000e+00</td>\n",
       "    </tr>\n",
       "    <tr>\n",
       "      <th>mean</th>\n",
       "      <td>5.960902e-07</td>\n",
       "    </tr>\n",
       "    <tr>\n",
       "      <th>std</th>\n",
       "      <td>5.627160e-09</td>\n",
       "    </tr>\n",
       "    <tr>\n",
       "      <th>min</th>\n",
       "      <td>5.874720e-07</td>\n",
       "    </tr>\n",
       "    <tr>\n",
       "      <th>25%</th>\n",
       "      <td>5.924697e-07</td>\n",
       "    </tr>\n",
       "    <tr>\n",
       "      <th>50%</th>\n",
       "      <td>5.956438e-07</td>\n",
       "    </tr>\n",
       "    <tr>\n",
       "      <th>75%</th>\n",
       "      <td>6.006218e-07</td>\n",
       "    </tr>\n",
       "    <tr>\n",
       "      <th>max</th>\n",
       "      <td>6.037834e-07</td>\n",
       "    </tr>\n",
       "  </tbody>\n",
       "</table>\n",
       "</div>"
      ],
      "text/plain": [
       "                  0\n",
       "count  8.000000e+00\n",
       "mean   5.960902e-07\n",
       "std    5.627160e-09\n",
       "min    5.874720e-07\n",
       "25%    5.924697e-07\n",
       "50%    5.956438e-07\n",
       "75%    6.006218e-07\n",
       "max    6.037834e-07"
      ]
     },
     "execution_count": 51,
     "metadata": {},
     "output_type": "execute_result"
    }
   ],
   "source": [
    "pd.DataFrame(wav_func(rn_og)).describe()"
   ]
  },
  {
   "cell_type": "code",
   "execution_count": 52,
   "id": "d251a4f4-51c1-4bab-ba65-ccd08a677b88",
   "metadata": {},
   "outputs": [
    {
     "name": "stdout",
     "output_type": "stream",
     "text": [
      "Wavelength: 5.960970391262976e-07 +- 2.736976709872075e-08\n"
     ]
    }
   ],
   "source": [
    "print(f\"Wavelength: {wav_func(rn)} +- {wav_err(rn, d, 48, .2, 8e-08,1)}\")"
   ]
  },
  {
   "cell_type": "markdown",
   "id": "7b4a300e-4980-4bd6-a705-3adbc950f2b0",
   "metadata": {
    "jp-MarkdownHeadingCollapsed": true,
    "tags": []
   },
   "source": [
    "## 1.2 Helium Spectra"
   ]
  },
  {
   "cell_type": "code",
   "execution_count": 70,
   "id": "0a1ceb4c-0c66-48be-a81d-408443ca9ce5",
   "metadata": {},
   "outputs": [],
   "source": [
    "he_wav = [0,0,0,0,0,0, 0]\n",
    "he_wav_err = [0,0,0,0,0,0, 0]"
   ]
  },
  {
   "cell_type": "markdown",
   "id": "5dffcf73-90bd-4be6-9bed-1a3a3ca925a8",
   "metadata": {
    "tags": []
   },
   "source": [
    "### Red"
   ]
  },
  {
   "cell_type": "code",
   "execution_count": 71,
   "id": "dedc7ca5-82c8-452d-aa77-8385bc8821dc",
   "metadata": {},
   "outputs": [
    {
     "name": "stdout",
     "output_type": "stream",
     "text": [
      "Wavelength: 6.711807150756848e-07 +- 3.03852119399957e-08\n"
     ]
    }
   ],
   "source": [
    "rn = np.mean([17.25, 17.2, 16.9, 17.05])\n",
    "he_wav[0] = wav_func(rn)\n",
    "he_wav_err[0] = wav_err(rn, d, 48, .2, 8e-08,1)\n",
    "print(f\"Wavelength: {wav_func(rn)} +- {wav_err(rn, d, 48, .2, 8e-08,1)}\")"
   ]
  },
  {
   "cell_type": "markdown",
   "id": "e0722a1b-e56f-46d6-b50e-eb6a9f5ff6c8",
   "metadata": {
    "tags": []
   },
   "source": [
    "### Orange"
   ]
  },
  {
   "cell_type": "code",
   "execution_count": 72,
   "id": "abe2e99f-0418-45b9-9828-35fb1938c603",
   "metadata": {},
   "outputs": [
    {
     "name": "stdout",
     "output_type": "stream",
     "text": [
      "Wavelength: 6.217529228132714e-07 +- 2.8401362427279606e-08\n"
     ]
    }
   ],
   "source": [
    "rn = np.mean([15.6, 15.7, 15.7, 15.8])\n",
    "he_wav[1] = wav_func(rn)\n",
    "he_wav_err[1] = wav_err(rn, d, 48, .2, 8e-08,1)\n",
    "print(f\"Wavelength: {wav_func(rn)} +- {wav_err(rn, d, 48, .2, 8e-08,1)}\")"
   ]
  },
  {
   "cell_type": "markdown",
   "id": "a82d873e-5ccc-471b-9d20-389ead761c83",
   "metadata": {},
   "source": [
    "### Yellow"
   ]
  },
  {
   "cell_type": "code",
   "execution_count": 73,
   "id": "2a2edc19-246b-418f-9624-acc6d1d3ca00",
   "metadata": {},
   "outputs": [
    {
     "name": "stdout",
     "output_type": "stream",
     "text": [
      "Wavelength: 5.960970391262976e-07 +- 2.736976709872075e-08\n"
     ]
    }
   ],
   "source": [
    "rn = np.mean([14.75, 15.2, 14.85, 15, 15.1, 14.9, 15.15, 14.95])\n",
    "he_wav[2] = wav_func(rn)\n",
    "he_wav_err[2] = wav_err(rn, d, 48, .2, 8e-08,1)\n",
    "print(f\"Wavelength: {wav_func(rn)} +- {wav_err(rn, d, 48, .2, 8e-08,1)}\")"
   ]
  },
  {
   "cell_type": "markdown",
   "id": "acb65807-c29e-44e7-9140-486419dce6de",
   "metadata": {},
   "source": [
    "### Green"
   ]
  },
  {
   "cell_type": "code",
   "execution_count": 74,
   "id": "f07b43c3-237d-48b9-a82b-722a7b8e1335",
   "metadata": {},
   "outputs": [
    {
     "name": "stdout",
     "output_type": "stream",
     "text": [
      "Wavelength: 5.049668841353456e-07 +- 2.3706360589274706e-08\n"
     ]
    }
   ],
   "source": [
    "rn = np.mean([12.6, 12.3, 12.5, 12.7])\n",
    "he_wav[3] = wav_func(rn)\n",
    "he_wav_err[3] = wav_err(rn, d, 48, .2, 8e-08,1)\n",
    "print(f\"Wavelength: {wav_func(rn)} +- {wav_err(rn, d, 48, .2, 8e-08,1)}\")"
   ]
  },
  {
   "cell_type": "markdown",
   "id": "02f146c9-92fd-42c7-843e-c4eca0feb86d",
   "metadata": {
    "tags": []
   },
   "source": [
    "### Aqua"
   ]
  },
  {
   "cell_type": "code",
   "execution_count": 75,
   "id": "3622fb85-5cf4-46ca-89de-3c19bac6600a",
   "metadata": {},
   "outputs": [
    {
     "name": "stdout",
     "output_type": "stream",
     "text": [
      "Wavelength: 4.721994769383222e-07 +- 2.239442063229532e-08\n"
     ]
    }
   ],
   "source": [
    "rn = np.mean([11.7, 11.65, 11.7, 11.6])\n",
    "he_wav[4] = wav_func(rn)\n",
    "he_wav_err[4] = wav_err(rn, d, 48, .2, 8e-08,1)\n",
    "print(f\"Wavelength: {wav_func(rn)} +- {wav_err(rn, d, 48, .2, 8e-08,1)}\")"
   ]
  },
  {
   "cell_type": "markdown",
   "id": "2c864c39-3095-4999-bdbb-be64e62b3d8a",
   "metadata": {
    "tags": []
   },
   "source": [
    "### Low Violet"
   ]
  },
  {
   "cell_type": "code",
   "execution_count": 76,
   "id": "e15aa28c-f4a6-4d67-bfa2-27809674bf75",
   "metadata": {},
   "outputs": [
    {
     "name": "stdout",
     "output_type": "stream",
     "text": [
      "Wavelength: 4.137671070960752e-07 +- 2.0072649167733456e-08\n"
     ]
    }
   ],
   "source": [
    "rn = np.mean([10.2, 9.9, 10.5, 10])\n",
    "he_wav[5] = wav_func(rn)\n",
    "he_wav_err[5] = wav_err(rn, d, 48, .2, 8e-08,1)\n",
    "print(f\"Wavelength: {wav_func(rn)} +- {wav_err(rn, d, 48, .2, 8e-08,1)}\")"
   ]
  },
  {
   "cell_type": "markdown",
   "id": "3dff994e-e0f9-47ed-a52c-cb2d726da352",
   "metadata": {
    "tags": []
   },
   "source": [
    "### High Violet"
   ]
  },
  {
   "cell_type": "code",
   "execution_count": 79,
   "id": "b86a7cf2-5909-435e-89a0-efa22739f595",
   "metadata": {},
   "outputs": [
    {
     "name": "stdout",
     "output_type": "stream",
     "text": [
      "Wavelength: 4.5012669085490525e-07 +- 2.1514097846118858e-08\n"
     ]
    }
   ],
   "source": [
    "rn = np.mean([11.2, 11.1, 11.2, 10.85])\n",
    "he_wav[6] = wav_func(rn)\n",
    "he_wav_err[6] = wav_err(rn, d, 48, .2, 8e-08,1)\n",
    "print(f\"Wavelength: {wav_func(rn)} +- {wav_err(rn, d, 48, .2, 8e-08,1)}\")"
   ]
  },
  {
   "cell_type": "markdown",
   "id": "d237b864-be6e-42a2-aa6c-f3699513e58c",
   "metadata": {
    "jp-MarkdownHeadingCollapsed": true,
    "tags": []
   },
   "source": [
    "# Experiment 2"
   ]
  },
  {
   "cell_type": "markdown",
   "id": "5a215579-1558-4454-9325-633a9e86c389",
   "metadata": {
    "tags": []
   },
   "source": [
    "## 2.1 Hydrogen Spectra"
   ]
  },
  {
   "cell_type": "code",
   "execution_count": 5,
   "id": "38c115e3-cdac-41a7-bc02-2cbe08956367",
   "metadata": {},
   "outputs": [],
   "source": [
    "h_wav = [0,0,0]\n",
    "h_wav_err = [0,0,0]"
   ]
  },
  {
   "cell_type": "code",
   "execution_count": 13,
   "id": "41f2c52b-2817-473b-b3e6-d1b327754852",
   "metadata": {},
   "outputs": [],
   "source": [
    "balmer_wav = lambda x: 1.1e7*(1/4 - 1/x**2)"
   ]
  },
  {
   "cell_type": "markdown",
   "id": "04acceba-d89e-4a2d-b959-90feb5890198",
   "metadata": {},
   "source": [
    "### Red"
   ]
  },
  {
   "cell_type": "code",
   "execution_count": 6,
   "id": "a7b1febc-631d-4288-abbb-f2b20b07f9f1",
   "metadata": {},
   "outputs": [
    {
     "name": "stdout",
     "output_type": "stream",
     "text": [
      "Wavelength: 6.650749560943274e-07 +- 3.0140498134675304e-08\n"
     ]
    }
   ],
   "source": [
    "rn = np.mean([17.1, 16.75, 16.7, 17.15, 16.75, 17.05, 17, 16.9])\n",
    "h_wav[0] = wav_func(rn)\n",
    "h_wav_err[0] = wav_err(rn, d, 48, .2, 8e-08,1)\n",
    "print(f\"Wavelength: {wav_func(rn)} +- {wav_err(rn, d, 48, .2, d_err,1)}\")"
   ]
  },
  {
   "cell_type": "code",
   "execution_count": 15,
   "id": "63551600-a3e3-4826-b2da-f3ba139e94c4",
   "metadata": {},
   "outputs": [
    {
     "data": {
      "text/plain": [
       "6.545454545454546e-07"
      ]
     },
     "execution_count": 15,
     "metadata": {},
     "output_type": "execute_result"
    }
   ],
   "source": [
    "1/balmer_wav(3)"
   ]
  },
  {
   "cell_type": "markdown",
   "id": "8752ca82-cb3a-4c15-b4b8-afc538f532af",
   "metadata": {},
   "source": [
    "### Aqua"
   ]
  },
  {
   "cell_type": "code",
   "execution_count": 7,
   "id": "bf051724-bef6-41ee-a33a-c6a159d17ba5",
   "metadata": {},
   "outputs": [
    {
     "name": "stdout",
     "output_type": "stream",
     "text": [
      "Wavelength: 4.933801077447869e-07 +- 2.3241883072738124e-08\n"
     ]
    }
   ],
   "source": [
    "rn = np.mean([12.2, 12.25, 12.6, 12, 12.3, 12.05, 12.35, 12])\n",
    "h_wav[1] = wav_func(rn)\n",
    "h_wav_err[1] = wav_err(rn, d, 48, .2, 8e-08,1)\n",
    "print(f\"Wavelength: {wav_func(rn)} +- {wav_err(rn, d, 48, .2, d_err,1)}\")\n"
   ]
  },
  {
   "cell_type": "code",
   "execution_count": 16,
   "id": "47ce4a26-8153-4ecb-8590-069e9295923e",
   "metadata": {},
   "outputs": [
    {
     "data": {
      "text/plain": [
       "4.848484848484849e-07"
      ]
     },
     "execution_count": 16,
     "metadata": {},
     "output_type": "execute_result"
    }
   ],
   "source": [
    "1/balmer_wav(4)"
   ]
  },
  {
   "cell_type": "markdown",
   "id": "2b6294e6-3cef-4616-aaed-41fa8f90d4b7",
   "metadata": {
    "tags": []
   },
   "source": [
    "### Violet"
   ]
  },
  {
   "cell_type": "code",
   "execution_count": 8,
   "id": "dd076498-37ef-4842-bfbe-1151fb185514",
   "metadata": {},
   "outputs": [
    {
     "name": "stdout",
     "output_type": "stream",
     "text": [
      "Wavelength: 4.3902439024390246e-07 +- 2.1072669542658126e-08\n"
     ]
    }
   ],
   "source": [
    "rn = np.mean([10.85, 10.8, 10.95, 10.7, 10.8, 10.8, 10.8, 10.7])\n",
    "h_wav[2] = wav_func(rn)\n",
    "h_wav_err[2] = wav_err(rn, d, 48, .2, 8e-08,1)\n",
    "print(f\"Wavelength: {wav_func(rn)} +- {wav_err(rn, d, 48, .2, d_err,1)}\")"
   ]
  },
  {
   "cell_type": "code",
   "execution_count": 17,
   "id": "d32305ce-ce3c-4f19-a24a-957741a8d172",
   "metadata": {},
   "outputs": [
    {
     "data": {
      "text/plain": [
       "4.0909090909090906e-07"
      ]
     },
     "execution_count": 17,
     "metadata": {},
     "output_type": "execute_result"
    }
   ],
   "source": [
    "1/balmer_wav(6)"
   ]
  },
  {
   "cell_type": "code",
   "execution_count": 9,
   "id": "d3667685-4cf8-435a-90fe-fb49583ec54d",
   "metadata": {},
   "outputs": [],
   "source": [
    "h_inv_wav = np.divide(1, h_wav)\n",
    "h_inv_wav_err = np.divide(1, np.power(h_wav, 2))*h_wav_err\n",
    "balmer_ser = list(map(lambda x: 1/x**2, [3, 4, 6]))"
   ]
  },
  {
   "cell_type": "code",
   "execution_count": 10,
   "id": "79a2a2c3-df84-40f6-b0e6-bc14641b3e79",
   "metadata": {},
   "outputs": [],
   "source": [
    "[m, c], [m_err, c_err], [y_pred, res], chi =  da.weighted_least_squares_linear(balmer_ser, h_inv_wav, h_inv_wav_err)"
   ]
  },
  {
   "cell_type": "code",
   "execution_count": 11,
   "id": "c067ff1c-7a30-46c0-b1a6-7f91cdd81af4",
   "metadata": {},
   "outputs": [
    {
     "data": {
      "text/plain": [
       "[0.36681255236336374]"
      ]
     },
     "execution_count": 11,
     "metadata": {},
     "output_type": "execute_result"
    }
   ],
   "source": [
    "chi"
   ]
  },
  {
   "cell_type": "code",
   "execution_count": 12,
   "id": "d4eadaca-05cf-4664-97ca-38d64947a8bc",
   "metadata": {},
   "outputs": [
    {
     "data": {
      "text/plain": [
       "Text(0.03, 1500000.0, 'y = (-9.6e+06±1.5e+06)*x + (2.6e+06±1.3e+05)')"
      ]
     },
     "execution_count": 12,
     "metadata": {},
     "output_type": "execute_result"
    },
    {
     "data": {
      "image/png": "[encoded data removed]",
      "text/plain": [
       "<Figure size 864x360 with 2 Axes>"
      ]
     },
     "metadata": {
      "needs_background": "light"
     },
     "output_type": "display_data"
    }
   ],
   "source": [
    "fig, ax = plt.subplots(1,2, figsize=(12, 5))\n",
    "ax[0].errorbar(balmer_ser, h_inv_wav,yerr=h_inv_wav_err, fmt='o', color='#f77c02', label=\"Raw Data\")\n",
    "ax[0].errorbar(balmer_ser, y_pred, label=\"Fitted Curve\", color=\"black\")\n",
    "ax[1].errorbar(balmer_ser, res, yerr=h_inv_wav_err, fmt='o', color='#7c02f7', label=\"Residuals\")\n",
    "ax[1].axhline(0, label=\"Reference Line\", color=\"r\")\n",
    "ax[0].set_title(\"Bohr Model for Hydrogen\")\n",
    "ax[1].set_title(\"Residuals\")\n",
    "ax[0].set_xlabel(\"Balmer Series (-)\")\n",
    "ax[0].set_ylabel(\"Inverse Wavelength (1/m)\")\n",
    "ax[0].legend()\n",
    "ax[1].set_xlabel(\"Balmer Series (-)\")\n",
    "ax[1].set_ylabel(\"Residuals (y_pred - y_act)\")\n",
    "ax[1].get_yaxis().get_major_formatter().set_powerlimits((0, 0))\n",
    "ax[1].legend()\n",
    "ax[0].text(.03, 1.5e6, f\"y = ({m:.1e}±{m_err:.1e})*x + ({c:.1e}±{c_err:.1e})\")"
   ]
  },
  {
   "cell_type": "markdown",
   "id": "b3edbd70-a136-42b1-8ea2-cfdf11d0e122",
   "metadata": {
    "tags": []
   },
   "source": [
    "# Experiment 3"
   ]
  },
  {
   "cell_type": "markdown",
   "id": "138e0f6a-3b40-4ee2-ac01-8973f181ce7c",
   "metadata": {
    "tags": []
   },
   "source": [
    "### Gas A - Red Orange"
   ]
  },
  {
   "cell_type": "code",
   "execution_count": 27,
   "id": "a13837a3-236c-49f4-acc8-1b47cca01b22",
   "metadata": {},
   "outputs": [
    {
     "name": "stdout",
     "output_type": "stream",
     "text": [
      "Wavelength: 6.13e-07 +- 2.80e-08\n"
     ]
    }
   ],
   "source": [
    "rn = np.mean([15.55, 15.55, 15.6, 15.4,15.3,15.3])\n",
    "print(f\"Wavelength: {wav_func(rn):.2e} +- {wav_err(rn, d, 48, .2, 8e-08,1):.2e}\")"
   ]
  },
  {
   "cell_type": "markdown",
   "id": "eaec77d2-99f5-4348-972a-f981a927f4fc",
   "metadata": {
    "tags": []
   },
   "source": [
    "### Gas A - Green"
   ]
  },
  {
   "cell_type": "code",
   "execution_count": 28,
   "id": "6e939298-6fa2-40a6-bf48-b535183ef342",
   "metadata": {},
   "outputs": [
    {
     "name": "stdout",
     "output_type": "stream",
     "text": [
      "Wavelength: 5.26e-07 +- 2.45e-08\n"
     ]
    }
   ],
   "source": [
    "rn = np.mean([13.25, 12.95, 13.2, 13, 13.2, 12.9])\n",
    "print(f\"Wavelength: {wav_func(rn):.2e} +- {wav_err(rn, d, 48, .2, 8e-08,1):.2e}\")"
   ]
  },
  {
   "cell_type": "markdown",
   "id": "1dd3cd43-2f78-432f-b16e-35499dae1cfa",
   "metadata": {
    "tags": []
   },
   "source": [
    "### Gas B - Red"
   ]
  },
  {
   "cell_type": "code",
   "execution_count": 29,
   "id": "360855eb-e1bf-4546-8b56-78a519086997",
   "metadata": {},
   "outputs": [
    {
     "name": "stdout",
     "output_type": "stream",
     "text": [
      "Wavelength: 6.50e-07 +- 2.95e-08\n"
     ]
    }
   ],
   "source": [
    "rn = np.mean([16.8, 16.2, 16.8, 16.2, 16.7, 16.3])\n",
    "print(f\"Wavelength: {wav_func(rn):.2e} +- {wav_err(rn, d, 48, .2, 8e-08,1):.2e}\")"
   ]
  },
  {
   "cell_type": "markdown",
   "id": "59430134-210e-4215-b606-c3222af385bb",
   "metadata": {
    "tags": []
   },
   "source": [
    "### Gas B - Yellow"
   ]
  },
  {
   "cell_type": "code",
   "execution_count": 30,
   "id": "89211ba5-f777-4569-8ac5-149b8b18293b",
   "metadata": {},
   "outputs": [
    {
     "name": "stdout",
     "output_type": "stream",
     "text": [
      "Wavelength: 5.97e-07 +- 2.74e-08\n"
     ]
    }
   ],
   "source": [
    "rn = np.mean([15.3, 14.7, 15.35, 14.7, 15.45, 14.6])\n",
    "print(f\"Wavelength: {wav_func(rn):.2e} +- {wav_err(rn, d, 48, .2, 8e-08,1):.2e}\")"
   ]
  },
  {
   "cell_type": "markdown",
   "id": "ada6d6a2-acc1-4f88-8e4e-084bf44bc3d5",
   "metadata": {
    "jp-MarkdownHeadingCollapsed": true,
    "tags": []
   },
   "source": [
    "# Experiment 4"
   ]
  },
  {
   "cell_type": "code",
   "execution_count": 15,
   "id": "c2382a02-f26f-463f-853c-1a21748788b1",
   "metadata": {},
   "outputs": [],
   "source": [
    "ayu_high = [18.35, 19.05, 19.4, 19.1, 19.4, 19.75]\n",
    "ayu_low = [10, 10.3, 9.9, 10, 9.9, 10]"
   ]
  },
  {
   "cell_type": "code",
   "execution_count": 25,
   "id": "169aab4c-ef5a-4657-b090-8cb75360e4ed",
   "metadata": {},
   "outputs": [
    {
     "data": {
      "text/html": [
       "<div>\n",
       "<style scoped>\n",
       "    .dataframe tbody tr th:only-of-type {\n",
       "        vertical-align: middle;\n",
       "    }\n",
       "\n",
       "    .dataframe tbody tr th {\n",
       "        vertical-align: top;\n",
       "    }\n",
       "\n",
       "    .dataframe thead th {\n",
       "        text-align: right;\n",
       "    }\n",
       "</style>\n",
       "<table border=\"1\" class=\"dataframe\">\n",
       "  <thead>\n",
       "    <tr style=\"text-align: right;\">\n",
       "      <th></th>\n",
       "      <th>0</th>\n",
       "      <th>1</th>\n",
       "    </tr>\n",
       "  </thead>\n",
       "  <tbody>\n",
       "    <tr>\n",
       "      <th>count</th>\n",
       "      <td>6.000000</td>\n",
       "      <td>6.000000</td>\n",
       "    </tr>\n",
       "    <tr>\n",
       "      <th>mean</th>\n",
       "      <td>19.175000</td>\n",
       "      <td>10.016667</td>\n",
       "    </tr>\n",
       "    <tr>\n",
       "      <th>std</th>\n",
       "      <td>0.476183</td>\n",
       "      <td>0.147196</td>\n",
       "    </tr>\n",
       "    <tr>\n",
       "      <th>min</th>\n",
       "      <td>18.350000</td>\n",
       "      <td>9.900000</td>\n",
       "    </tr>\n",
       "    <tr>\n",
       "      <th>25%</th>\n",
       "      <td>19.062500</td>\n",
       "      <td>9.925000</td>\n",
       "    </tr>\n",
       "    <tr>\n",
       "      <th>50%</th>\n",
       "      <td>19.250000</td>\n",
       "      <td>10.000000</td>\n",
       "    </tr>\n",
       "    <tr>\n",
       "      <th>75%</th>\n",
       "      <td>19.400000</td>\n",
       "      <td>10.000000</td>\n",
       "    </tr>\n",
       "    <tr>\n",
       "      <th>max</th>\n",
       "      <td>19.750000</td>\n",
       "      <td>10.300000</td>\n",
       "    </tr>\n",
       "  </tbody>\n",
       "</table>\n",
       "</div>"
      ],
      "text/plain": [
       "               0          1\n",
       "count   6.000000   6.000000\n",
       "mean   19.175000  10.016667\n",
       "std     0.476183   0.147196\n",
       "min    18.350000   9.900000\n",
       "25%    19.062500   9.925000\n",
       "50%    19.250000  10.000000\n",
       "75%    19.400000  10.000000\n",
       "max    19.750000  10.300000"
      ]
     },
     "execution_count": 25,
     "metadata": {},
     "output_type": "execute_result"
    }
   ],
   "source": [
    "pd.DataFrame(zip(ayu_high, ayu_low)).describe()"
   ]
  },
  {
   "cell_type": "code",
   "execution_count": 8,
   "id": "48a77c6e-a156-42da-b3f2-bcb5535e390b",
   "metadata": {},
   "outputs": [
    {
     "name": "stdout",
     "output_type": "stream",
     "text": [
      "The wavelength is: \n",
      "7.419473667297926e-07\n",
      "4.0856002113118367e-07\n"
     ]
    }
   ],
   "source": [
    "high = 19.175000\n",
    "low = 10.016667\n",
    "ang_form = lambda x: np.arctan(x/(.48))/np.pi*180\n",
    "angh = ang_form(high/100)\n",
    "angl = ang_form(low/100)\n",
    "print(\"The wavelength is: \")\n",
    "print(d*np.sin(angh*np.pi/180))\n",
    "print(d*np.sin(angl*np.pi/180))"
   ]
  },
  {
   "cell_type": "code",
   "execution_count": null,
   "id": "35b6413f-3b61-4945-98c4-1bce1cb59e05",
   "metadata": {},
   "outputs": [],
   "source": []
  },
  {
   "cell_type": "code",
   "execution_count": 32,
   "id": "69e350a2-b136-4e3d-a3c5-8dd4d9825bd7",
   "metadata": {},
   "outputs": [
    {
     "name": "stdout",
     "output_type": "stream",
     "text": [
      "The wavelength is: \n",
      "5.971537590951148e-07\n"
     ]
    }
   ],
   "source": [
    "rn = np.mean([15.3, 14.7, 15.35, 14.7, 15.45, 14.6])\n",
    "ang_form = lambda x: np.arctan(x/(.48))/np.pi*180\n",
    "ang = ang_form(rn/100)\n",
    "print(\"The wavelength is: \")\n",
    "print(d*np.sin(ang*np.pi/180))"
   ]
  },
  {
   "cell_type": "code",
   "execution_count": 13,
   "id": "39568f02-b04c-40ff-97d4-b7e5f5810a31",
   "metadata": {},
   "outputs": [],
   "source": [
    "sophie_high = [19.9, 18.3, 18.4, 18.6, 19.2, 19.3]\n",
    "sophie_low = [10.05, 9.6, 9.75, 9.7, 9.7, 9.6]"
   ]
  },
  {
   "cell_type": "code",
   "execution_count": 14,
   "id": "04b1d762-6985-44a9-acc9-2fc9eccb4da8",
   "metadata": {},
   "outputs": [
    {
     "data": {
      "text/html": [
       "<div>\n",
       "<style scoped>\n",
       "    .dataframe tbody tr th:only-of-type {\n",
       "        vertical-align: middle;\n",
       "    }\n",
       "\n",
       "    .dataframe tbody tr th {\n",
       "        vertical-align: top;\n",
       "    }\n",
       "\n",
       "    .dataframe thead th {\n",
       "        text-align: right;\n",
       "    }\n",
       "</style>\n",
       "<table border=\"1\" class=\"dataframe\">\n",
       "  <thead>\n",
       "    <tr style=\"text-align: right;\">\n",
       "      <th></th>\n",
       "      <th>0</th>\n",
       "      <th>1</th>\n",
       "    </tr>\n",
       "  </thead>\n",
       "  <tbody>\n",
       "    <tr>\n",
       "      <th>count</th>\n",
       "      <td>6.000000</td>\n",
       "      <td>6.000000</td>\n",
       "    </tr>\n",
       "    <tr>\n",
       "      <th>mean</th>\n",
       "      <td>18.950000</td>\n",
       "      <td>9.733333</td>\n",
       "    </tr>\n",
       "    <tr>\n",
       "      <th>std</th>\n",
       "      <td>0.622093</td>\n",
       "      <td>0.166333</td>\n",
       "    </tr>\n",
       "    <tr>\n",
       "      <th>min</th>\n",
       "      <td>18.300000</td>\n",
       "      <td>9.600000</td>\n",
       "    </tr>\n",
       "    <tr>\n",
       "      <th>25%</th>\n",
       "      <td>18.450000</td>\n",
       "      <td>9.625000</td>\n",
       "    </tr>\n",
       "    <tr>\n",
       "      <th>50%</th>\n",
       "      <td>18.900000</td>\n",
       "      <td>9.700000</td>\n",
       "    </tr>\n",
       "    <tr>\n",
       "      <th>75%</th>\n",
       "      <td>19.275000</td>\n",
       "      <td>9.737500</td>\n",
       "    </tr>\n",
       "    <tr>\n",
       "      <th>max</th>\n",
       "      <td>19.900000</td>\n",
       "      <td>10.050000</td>\n",
       "    </tr>\n",
       "  </tbody>\n",
       "</table>\n",
       "</div>"
      ],
      "text/plain": [
       "               0          1\n",
       "count   6.000000   6.000000\n",
       "mean   18.950000   9.733333\n",
       "std     0.622093   0.166333\n",
       "min    18.300000   9.600000\n",
       "25%    18.450000   9.625000\n",
       "50%    18.900000   9.700000\n",
       "75%    19.275000   9.737500\n",
       "max    19.900000  10.050000"
      ]
     },
     "execution_count": 14,
     "metadata": {},
     "output_type": "execute_result"
    }
   ],
   "source": [
    "pd.DataFrame(zip(sophie_high, sophie_low)).describe()"
   ]
  },
  {
   "cell_type": "code",
   "execution_count": 11,
   "id": "eb24b2b3-1475-4db0-afb1-68135a140cf3",
   "metadata": {},
   "outputs": [
    {
     "name": "stdout",
     "output_type": "stream",
     "text": [
      "The wavelength is: \n",
      "7.3442130820208e-07\n",
      "3.974661889466431e-07\n"
     ]
    }
   ],
   "source": [
    "high = 18.950000\n",
    "low = 9.733333\n",
    "ang_form = lambda x: np.arctan(x/(.48))/np.pi*180\n",
    "angh = ang_form(high/100)\n",
    "angl = ang_form(low/100)\n",
    "print(\"The wavelength is: \")\n",
    "print(d*np.sin(angh*np.pi/180))\n",
    "print(d*np.sin(angl*np.pi/180))"
   ]
  },
  {
   "cell_type": "code",
   "execution_count": 18,
   "id": "55ccf34e-51a1-4e1b-8933-085f5908ddf7",
   "metadata": {},
   "outputs": [],
   "source": [
    "total_high = ayu_high + sophie_high\n",
    "total_low = ayu_low + sophie_low"
   ]
  },
  {
   "cell_type": "code",
   "execution_count": 19,
   "id": "8547b2ef-2c23-4813-8d26-9c93677f0074",
   "metadata": {},
   "outputs": [
    {
     "data": {
      "text/html": [
       "<div>\n",
       "<style scoped>\n",
       "    .dataframe tbody tr th:only-of-type {\n",
       "        vertical-align: middle;\n",
       "    }\n",
       "\n",
       "    .dataframe tbody tr th {\n",
       "        vertical-align: top;\n",
       "    }\n",
       "\n",
       "    .dataframe thead th {\n",
       "        text-align: right;\n",
       "    }\n",
       "</style>\n",
       "<table border=\"1\" class=\"dataframe\">\n",
       "  <thead>\n",
       "    <tr style=\"text-align: right;\">\n",
       "      <th></th>\n",
       "      <th>0</th>\n",
       "      <th>1</th>\n",
       "    </tr>\n",
       "  </thead>\n",
       "  <tbody>\n",
       "    <tr>\n",
       "      <th>count</th>\n",
       "      <td>12.000000</td>\n",
       "      <td>12.000000</td>\n",
       "    </tr>\n",
       "    <tr>\n",
       "      <th>mean</th>\n",
       "      <td>19.062500</td>\n",
       "      <td>9.875000</td>\n",
       "    </tr>\n",
       "    <tr>\n",
       "      <th>std</th>\n",
       "      <td>0.541095</td>\n",
       "      <td>0.210519</td>\n",
       "    </tr>\n",
       "    <tr>\n",
       "      <th>min</th>\n",
       "      <td>18.300000</td>\n",
       "      <td>9.600000</td>\n",
       "    </tr>\n",
       "    <tr>\n",
       "      <th>25%</th>\n",
       "      <td>18.550000</td>\n",
       "      <td>9.700000</td>\n",
       "    </tr>\n",
       "    <tr>\n",
       "      <th>50%</th>\n",
       "      <td>19.150000</td>\n",
       "      <td>9.900000</td>\n",
       "    </tr>\n",
       "    <tr>\n",
       "      <th>75%</th>\n",
       "      <td>19.400000</td>\n",
       "      <td>10.000000</td>\n",
       "    </tr>\n",
       "    <tr>\n",
       "      <th>max</th>\n",
       "      <td>19.900000</td>\n",
       "      <td>10.300000</td>\n",
       "    </tr>\n",
       "  </tbody>\n",
       "</table>\n",
       "</div>"
      ],
      "text/plain": [
       "               0          1\n",
       "count  12.000000  12.000000\n",
       "mean   19.062500   9.875000\n",
       "std     0.541095   0.210519\n",
       "min    18.300000   9.600000\n",
       "25%    18.550000   9.700000\n",
       "50%    19.150000   9.900000\n",
       "75%    19.400000  10.000000\n",
       "max    19.900000  10.300000"
      ]
     },
     "execution_count": 19,
     "metadata": {},
     "output_type": "execute_result"
    }
   ],
   "source": [
    "pd.DataFrame(zip(total_high, total_low)).describe()"
   ]
  },
  {
   "cell_type": "code",
   "execution_count": 28,
   "id": "4c2cfdcd-3ad6-451b-bce2-c654aa533d5f",
   "metadata": {},
   "outputs": [
    {
     "name": "stdout",
     "output_type": "stream",
     "text": [
      "The wavelength is: \n",
      "7.085173443686753e-07\n",
      "3.951173178707e-07\n"
     ]
    }
   ],
   "source": [
    "high = 19.062500-.5\n",
    "low = 9.875000\n",
    "ang_form = lambda x: np.arctan(x/(.48+.01))/np.pi*180\n",
    "angh = ang_form(high/100)\n",
    "angl = ang_form(low/100)\n",
    "print(\"The wavelength is: \")\n",
    "print(d*np.sin(angh*np.pi/180))\n",
    "print(d*np.sin(angl*np.pi/180))"
   ]
  },
  {
   "cell_type": "code",
   "execution_count": null,
   "id": "066bf50c-0df9-4d7c-b892-1b12027f7779",
   "metadata": {},
   "outputs": [],
   "source": [
    "# Florencence "
   ]
  },
  {
   "cell_type": "code",
   "execution_count": 30,
   "id": "b7c1c2a8-39e8-42ad-9f32-a0716b17ec8d",
   "metadata": {},
   "outputs": [
    {
     "name": "stdout",
     "output_type": "stream",
     "text": [
      "The wavelength is: \n",
      "6.166355084849781e-07\n"
     ]
    }
   ],
   "source": [
    "red = np.mean([22.5, 23, 22.4, 22.7,22.7, 22.75, 22.5, 22.95])\n",
    "ang_form = lambda x: np.arctan(x/(.7))/np.pi*180\n",
    "ang = ang_form(red/100)\n",
    "print(\"The wavelength is: \")\n",
    "print(d*np.sin(ang*np.pi/180))"
   ]
  },
  {
   "cell_type": "code",
   "execution_count": 31,
   "id": "55f839f8-7d72-4ba1-afe0-b37eb0741361",
   "metadata": {},
   "outputs": [
    {
     "name": "stdout",
     "output_type": "stream",
     "text": [
      "The wavelength is: \n",
      "4.405163965646312e-07\n"
     ]
    }
   ],
   "source": [
    "indigo = np.mean([15.7, 15.8, 15.8, 15.9, 15.8, 15.85, 15.8, 15.8])\n",
    "ang_form = lambda x: np.arctan(x/(.7))/np.pi*180\n",
    "ang = ang_form(indigo/100)\n",
    "print(\"The wavelength is: \")\n",
    "print(d*np.sin(ang*np.pi/180))"
   ]
  },
  {
   "cell_type": "code",
   "execution_count": null,
   "id": "119f6e5c-feb9-4cf4-bfe2-91d219419b96",
   "metadata": {},
   "outputs": [],
   "source": []
  }
 ],
 "metadata": {
  "kernelspec": {
   "display_name": "Python 3 (ipykernel)",
   "language": "python",
   "name": "python3"
  },
  "language_info": {
   "codemirror_mode": {
    "name": "ipython",
    "version": 3
   },
   "file_extension": ".py",
   "mimetype": "text/x-python",
   "name": "python",
   "nbconvert_exporter": "python",
   "pygments_lexer": "ipython3",
   "version": "3.10.8"
  }
 },
 "nbformat": 4,
 "nbformat_minor": 5
}
