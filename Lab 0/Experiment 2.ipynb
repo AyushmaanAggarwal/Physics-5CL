{
 "cells": [
  {
   "cell_type": "code",
   "execution_count": 1,
   "id": "17173ebb-c75f-4e3a-bee4-c3e6be9c6c05",
   "metadata": {},
   "outputs": [],
   "source": [
    "import sys\n",
    "sys.path.insert(0, '../')"
   ]
  },
  {
   "cell_type": "code",
   "execution_count": 2,
   "id": "be7a8f22-e008-4d83-bdcc-09222ee1b5b9",
   "metadata": {},
   "outputs": [],
   "source": [
    "import numpy as np\n",
    "import matplotlib.pyplot as plt\n",
    "%matplotlib inline"
   ]
  },
  {
   "cell_type": "code",
   "execution_count": 3,
   "id": "61a98a8b-ffb7-45e5-949a-89e93e489104",
   "metadata": {},
   "outputs": [],
   "source": [
    "import DataAnalysis\n",
    "da = DataAnalysis.DataAnalysis"
   ]
  },
  {
   "cell_type": "code",
   "execution_count": 4,
   "id": "f4e4944f-f0ed-46bb-91ef-a0c720b30d20",
   "metadata": {},
   "outputs": [],
   "source": [
    "def n_block_form(theta, y, t): \n",
    "    radical = np.sqrt((y**2)+4*(t**2))\n",
    "    return np.sin(theta/180*np.pi)*radical/y\n",
    "def z_error(y, t, alpha_t, alpha_y):\n",
    "    partial_t = (8*y*t)/(y**2+4*t**2)**1.5\n",
    "    partial_y = (1/(y**2+4*t**2)**.5) + (2*y**2/(y**2+4*t**2)**1.5)\n",
    "    return np.sqrt((alpha_t*partial_t)**2+ (alpha_y*partial_y)**2)\n",
    "\n",
    "def x_error(theta, alpha_theta):\n",
    "    return np.cos(theta/180*np.pi)*(alpha_theta/180*np.pi)\n",
    "\n",
    "def n_block_error(theta, y, t, alpha_theta, alpha_y, alpha_t):\n",
    "    x = np.sin(theta/180*np.pi)\n",
    "    z = y/np.sqrt(y**2+4*t**2)\n",
    "    alpha_x = x_error(theta, alpha_theta)\n",
    "    alpha_z = z_error(y, t, alpha_t, alpha_y)\n",
    "    partial_x = 1/z\n",
    "    partial_z = x/z**2\n",
    "    return np.sqrt((partial_x*alpha_x)**2+ (partial_z*alpha_z)**2)\n"
   ]
  },
  {
   "cell_type": "code",
   "execution_count": 5,
   "id": "a744d3db-4ba4-4f35-8827-4348e58fd764",
   "metadata": {},
   "outputs": [],
   "source": [
    "incident_angle = [10, 20, 30, 40, 50, 60, 70]\n",
    "y = [[0.45, .4, .45],\n",
    "    [0.85, 0.8, 0.82],\n",
    "    [1.42, 1.32, 1.35],\n",
    "    [1.80, 1.75, 1.8],\n",
    "    [2.25, 2.2, 2.21],\n",
    "    [2.55, 2.6, 2.55],\n",
    "    [3, 3.05, 2.95]]\n",
    "angle_error = 1 # Degree\n",
    "y_error = .1 # cm\n",
    "t = np.mean([1.82, 1.8, 1.9])\n",
    "t_error = .2/np.sqrt(3)"
   ]
  },
  {
   "cell_type": "code",
   "execution_count": 6,
   "id": "d5983b94-970b-4f27-83b8-736ffede1f98",
   "metadata": {},
   "outputs": [
    {
     "name": "stdout",
     "output_type": "stream",
     "text": [
      "[0.43333333333333335, 0.8233333333333333, 1.3633333333333333, 1.7833333333333332, 2.22, 2.566666666666667, 3.0]\n"
     ]
    }
   ],
   "source": [
    "mean_y = [np.mean(y[i]) for i in range(len(y))]\n",
    "mean_y_error = .1/np.sqrt(3)\n",
    "print(mean_y)"
   ]
  },
  {
   "cell_type": "code",
   "execution_count": 7,
   "id": "4cc5f5eb-2ef8-4603-a4bc-1cd0d7801b8d",
   "metadata": {},
   "outputs": [],
   "source": [
    "n = [n_block_form(incident_angle[i], mean_y[i], t) for i in range(len(mean_y))]\n",
    "n_error = [n_block_error(incident_angle[i], mean_y[i], t, angle_error, y_error, t_error) for i in range(len(mean_y))]"
   ]
  },
  {
   "cell_type": "code",
   "execution_count": 14,
   "id": "b1d3e7b6-977d-41c1-bb5d-9cfd3ead99f5",
   "metadata": {},
   "outputs": [],
   "source": [
    "n_mean = np.mean(n)\n",
    "n_std = da.std(n)\n",
    "n_err = n_std/np.sqrt(len(n)-1)\n",
    "n_err_prop = np.mean(n_error)/np.sqrt(len(n)-1)"
   ]
  },
  {
   "cell_type": "code",
   "execution_count": 15,
   "id": "e30860ce-23fc-4165-a2ab-76166dbb37a9",
   "metadata": {},
   "outputs": [
    {
     "name": "stdout",
     "output_type": "stream",
     "text": [
      "The N with error is: \n",
      "1.4848624088323221 ± 0.4234596673197402\n",
      "1.566498654095833 ± 0.2900572123640186\n",
      "1.439274092886868 ± 0.21047297373278218\n",
      "1.473967406767444 ± 0.19079133155554884\n",
      "1.4830091993002708 ± 0.17202252989484934\n",
      "1.5138573941478624 ± 0.16153896988061206\n",
      "1.4871837713268892 ± 0.14357021606933498\n",
      "mean n: 1.4926647039082126 std: 0.03933800915389327 standard error: 0.016059674987328725 error: 0.09284224576083758\n"
     ]
    }
   ],
   "source": [
    "print(\"The N with error is: \")\n",
    "for i in range(len(n)):\n",
    "    print(f\"{n[i]} ± {n_error[i]}\")\n",
    "    \n",
    "print(f\"mean n: {n_mean} std: {n_std} standard error: {n_err} error: {n_err_prop}\")"
   ]
  },
  {
   "cell_type": "code",
   "execution_count": 10,
   "id": "a7db6067-bbd3-43a6-9517-7b43d7b07976",
   "metadata": {},
   "outputs": [
    {
     "data": {
      "text/plain": [
       "<ErrorbarContainer object of 3 artists>"
      ]
     },
     "execution_count": 10,
     "metadata": {},
     "output_type": "execute_result"
    },
    {
     "data": {
      "image/png": "[encoded data removed]",
      "text/plain": [
       "<Figure size 432x288 with 1 Axes>"
      ]
     },
     "metadata": {
      "needs_background": "light"
     },
     "output_type": "display_data"
    }
   ],
   "source": [
    "plt.errorbar(list(range(len(n))), n, yerr=n_error, fmt=\"o\")"
   ]
  },
  {
   "cell_type": "code",
   "execution_count": 18,
   "id": "3ebe28a7-b47d-4700-b0c1-52bb3095b8e7",
   "metadata": {},
   "outputs": [
    {
     "data": {
      "image/png": "[encoded data removed]",
      "text/plain": [
       "<Figure size 432x288 with 1 Axes>"
      ]
     },
     "metadata": {
      "needs_background": "light"
     },
     "output_type": "display_data"
    }
   ],
   "source": [
    "plt.title(\"Calculated index of refraction at different angles\")\n",
    "plt.xlabel(\"Angle (degrees)\")\n",
    "plt.ylabel(\"Index of Refraction (n)\")\n",
    "plt.axhline(np.mean(n), color='r')\n",
    "plt.axhline(np.mean(n)-n_std, color='r', linestyle='dashed')\n",
    "plt.axhline(np.mean(n)+n_std, color='r', linestyle='dashed')\n",
    "plt.errorbar(incident_angle, n, yerr=n_error, fmt=\"o\")\n",
    "plt.savefig(\"PlotOfIndexVsAngle.png\")"
   ]
  },
  {
   "cell_type": "code",
   "execution_count": null,
   "id": "2e5eaa9d-f866-4771-b733-c77a78afbc54",
   "metadata": {},
   "outputs": [],
   "source": []
  }
 ],
 "metadata": {
  "kernelspec": {
   "display_name": "Python 3 (ipykernel)",
   "language": "python",
   "name": "python3"
  },
  "language_info": {
   "codemirror_mode": {
    "name": "ipython",
    "version": 3
   },
   "file_extension": ".py",
   "mimetype": "text/x-python",
   "name": "python",
   "nbconvert_exporter": "python",
   "pygments_lexer": "ipython3",
   "version": "3.10.7"
  }
 },
 "nbformat": 4,
 "nbformat_minor": 5
}
