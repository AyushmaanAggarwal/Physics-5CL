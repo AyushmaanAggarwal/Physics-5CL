{
 "cells": [
  {
   "cell_type": "code",
   "execution_count": 1,
   "id": "4238cff9-25f9-4f86-a276-6f44ba5472c5",
   "metadata": {},
   "outputs": [],
   "source": [
    "import sys\n",
    "sys.path.insert(0, '../')"
   ]
  },
  {
   "cell_type": "code",
   "execution_count": 26,
   "id": "a1358551-11cc-4630-a731-dbbf838588c6",
   "metadata": {},
   "outputs": [],
   "source": [
    "import numpy as np"
   ]
  },
  {
   "cell_type": "code",
   "execution_count": 2,
   "id": "2aae2190-725f-4bfa-a414-5560d505588f",
   "metadata": {},
   "outputs": [],
   "source": [
    "import matplotlib.pyplot as plt\n",
    "import DataAnalysis\n",
    "da = DataAnalysis.DataAnalysis"
   ]
  },
  {
   "cell_type": "code",
   "execution_count": 3,
   "id": "d733dea0-7abf-4e4a-91c3-062c167d60f9",
   "metadata": {},
   "outputs": [],
   "source": [
    "def inverse_func(x):\n",
    "    return 1/x"
   ]
  },
  {
   "cell_type": "code",
   "execution_count": 6,
   "id": "aa60f9aa-689d-4cfa-8e86-e816d736335f",
   "metadata": {},
   "outputs": [
    {
     "name": "stdout",
     "output_type": "stream",
     "text": [
      "[22, 27, 32, 24, 40, 45, 54] [54.400000000000006, 37.5, 30.700000000000003, 44.2, 25.599999999999994, 23.799999999999997, 21.900000000000006]\n"
     ]
    }
   ],
   "source": [
    "distance_object = [38,   43,   48,   40,   56,   61,   70]\n",
    "distance_image = [92.4, 80.5, 78.7, 84.2, 81.6, 84.8, 91.9]\n",
    "d_o = list(map(lambda x: x-16, distance_object))\n",
    "d_i = list(map(lambda tup: tup[1] - tup[0],  zip(distance_object, distance_image)))\n",
    "h   = [3.7,  2.1,  1.5,  2.8,  1.0,  0.8,  0.6]\n",
    "print(d_o, d_i)"
   ]
  },
  {
   "cell_type": "markdown",
   "id": "7d12cfa3-a45f-4322-8bee-ed8bf5456b5e",
   "metadata": {},
   "source": [
    "## Part A"
   ]
  },
  {
   "cell_type": "code",
   "execution_count": 8,
   "id": "e54de34a-50fa-4743-a6eb-5e7b3bbfe06f",
   "metadata": {},
   "outputs": [
    {
     "name": "stdout",
     "output_type": "stream",
     "text": [
      "Covariance: -0.00010524863546487668\n",
      "Correlation Coeff: -0.9997915728501874\n"
     ]
    }
   ],
   "source": [
    "x = list(map(inverse_func, d_o))\n",
    "y = list(map(inverse_func, d_i))\n",
    "\n",
    "print(f\"Covariance: {da.covariance(x,y)}\")\n",
    "print(f\"Correlation Coeff: {da.correlation_coefficients(x,y)}\")"
   ]
  },
  {
   "cell_type": "markdown",
   "id": "c3779c89-e107-4bff-89c7-95d073f14013",
   "metadata": {},
   "source": [
    "## Part B"
   ]
  },
  {
   "cell_type": "code",
   "execution_count": 9,
   "id": "07ab0323-344c-491e-9c9c-7065023fb497",
   "metadata": {},
   "outputs": [
    {
     "data": {
      "text/plain": [
       "<matplotlib.collections.PathCollection at 0x7f2c026e7fd0>"
      ]
     },
     "execution_count": 9,
     "metadata": {},
     "output_type": "execute_result"
    },
    {
     "data": {
      "image/png": "[encoded data removed]",
      "text/plain": [
       "<Figure size 432x288 with 1 Axes>"
      ]
     },
     "metadata": {
      "needs_background": "light"
     },
     "output_type": "display_data"
    }
   ],
   "source": [
    "plt.xlabel(\"Object Distance to Lens(cm)\")\n",
    "plt.ylabel(\"Image Distance to Lens(cm)\")\n",
    "plt.scatter(x,y)"
   ]
  },
  {
   "cell_type": "code",
   "execution_count": 33,
   "id": "ed9995e5-276c-43c9-a7c2-eeee733155e7",
   "metadata": {},
   "outputs": [],
   "source": [
    "d_error = 1 #cm"
   ]
  },
  {
   "cell_type": "code",
   "execution_count": 34,
   "id": "1857b9f9-392c-4947-a59b-7a081cb5a5ee",
   "metadata": {},
   "outputs": [],
   "source": [
    "def d_to_xy_error(d, alpha_d=d_error):\n",
    "    \"\"\"\n",
    "    |derivative of 1/x| is 1/x^2 which means error is alpha_d/d^2\n",
    "    \"\"\"\n",
    "    return alpha_d/d**2\n",
    "\n",
    "y_error = list(map(d_to_xy_error, d_i))\n",
    "x_error = list(map(d_to_xy_error, d_o))\n",
    "# Since the partial y/partial x is -1, the quartrature of x and y can be directly taken\n",
    "y_equiv_error = [da.quartrature_sum([x, y]) for x, y in zip(x_error, y_error)]"
   ]
  },
  {
   "cell_type": "markdown",
   "id": "e851f447-c864-4e62-b52b-82fd2b7cfb61",
   "metadata": {},
   "source": [
    "## Part C and E"
   ]
  },
  {
   "cell_type": "code",
   "execution_count": 35,
   "id": "827448f5-10e6-4ba3-be86-e43c49158630",
   "metadata": {},
   "outputs": [],
   "source": [
    "def b_calc(w, x, y):\n",
    "    w_sum = sum(w)\n",
    "    numerator_sum = sum([w_val*(x_val+y_val) for w_val, x_val, y_val in zip(w, x, y)])\n",
    "    return numerator_sum/w_sum\n",
    "\n",
    "def b_error_calc(w, y_err):\n",
    "    w_sum = sum(w)\n",
    "    sumation = sum([(alpha_i*w_i/w_sum)**2 for alpha_i, w_i in zip(y_err, w)])\n",
    "    return np.sqrt(sumation)"
   ]
  },
  {
   "cell_type": "code",
   "execution_count": 36,
   "id": "af072d49-5282-4f24-a958-eb86b2c61540",
   "metadata": {},
   "outputs": [
    {
     "name": "stdout",
     "output_type": "stream",
     "text": [
      "b = 0.06399014911264757 and f = 15.627405372030166\n",
      "b_error = 0.0006561790138567847 and f_error = 0.16024928193411897\n"
     ]
    }
   ],
   "source": [
    "w = [1/a**2 for a in y_equiv_error]\n",
    "b = b_calc(w,x,y)\n",
    "b_error = b_error_calc(w, y_equiv_error)\n",
    "f_error = b_error/(b**2)\n",
    "print(f\"b = {b} and f = {1/b}\")\n",
    "print(f\"b_error = {b_error} and f_error = {f_error}\")"
   ]
  },
  {
   "cell_type": "markdown",
   "id": "d054c472-6270-4192-8f6f-2997054e8064",
   "metadata": {},
   "source": [
    "## Part F"
   ]
  },
  {
   "cell_type": "code",
   "execution_count": 37,
   "id": "df6e8acb-116f-4853-a7a0-5926ef955c6a",
   "metadata": {},
   "outputs": [],
   "source": [
    "def division_error(x, y, x_err, y_err):\n",
    "    \"\"\"\n",
    "    For z = x/y the error is:\n",
    "    partial z/partial x (pzpx)= 1/y\n",
    "    partial z/partial y (pzpy)= x/y^2\n",
    "    sqrt((pzpx*x_err)**2 +(pzpy*y_err)**2)\n",
    "    \"\"\"\n",
    "    pzpx = 1/y\n",
    "    pzpy = x/y**2\n",
    "    return np.sqrt((pzpx*x_err)**2 +(pzpy*y_err)**2)"
   ]
  },
  {
   "cell_type": "code",
   "execution_count": 50,
   "id": "d004c898-bfb4-4edc-9467-950e8424a1f4",
   "metadata": {},
   "outputs": [
    {
     "name": "stdout",
     "output_type": "stream",
     "text": [
      "[0.007541873547366713, 0.02422241872766983, 0.21695137988629598] 0.058622846124216144\n"
     ]
    }
   ],
   "source": [
    "h_i = [0.51, 0.89, 0.05]\n",
    "h_o = [1.41, 0.68, 0.06]\n",
    "caliper_error = .01\n",
    "mag_error = [division_error(i, o, caliper_error, caliper_error) for i, o in zip(h_i,h_o)]\n",
    "mag_final_error = np.mean(mag_error)/np.sqrt(len(mag_error)-1)\n",
    "print(mag_error, mag_final_error)"
   ]
  },
  {
   "cell_type": "code",
   "execution_count": 51,
   "id": "f7cb0ce8-6a02-47d8-9cfa-01488eff6c7b",
   "metadata": {},
   "outputs": [
    {
     "name": "stdout",
     "output_type": "stream",
     "text": [
      "0.014849250625557676\n"
     ]
    }
   ],
   "source": [
    "distance_mag_error = division_error(25.65, 40, .5, .5)\n",
    "print(distance_mag_error)"
   ]
  },
  {
   "cell_type": "code",
   "execution_count": 52,
   "id": "dddc9ea1-7459-4462-b49e-72b720812ea9",
   "metadata": {},
   "outputs": [
    {
     "data": {
      "text/plain": [
       "0.060474278266417936"
      ]
     },
     "execution_count": 52,
     "metadata": {},
     "output_type": "execute_result"
    }
   ],
   "source": [
    "da.quartrature_sum([distance_mag_error, mag_final_error])"
   ]
  },
  {
   "cell_type": "code",
   "execution_count": 53,
   "id": "9f371de7-9254-481e-a9a0-7ee08a55d3e7",
   "metadata": {},
   "outputs": [
    {
     "data": {
      "text/plain": [
       "0.7071067811865475"
      ]
     },
     "execution_count": 53,
     "metadata": {},
     "output_type": "execute_result"
    }
   ],
   "source": [
    "1/np.sqrt(2, for any additional observations, for any additional observations)"
   ]
  },
  {
   "cell_type": "code",
   "execution_count": null,
   "id": "031c3ebf-8cb8-4805-90c9-4508768aeaf4",
   "metadata": {},
   "outputs": [],
   "source": []
  }
 ],
 "metadata": {
  "kernelspec": {
   "display_name": "Python 3 (ipykernel)",
   "language": "python",
   "name": "python3"
  },
  "language_info": {
   "codemirror_mode": {
    "name": "ipython",
    "version": 3
   },
   "file_extension": ".py",
   "mimetype": "text/x-python",
   "name": "python",
   "nbconvert_exporter": "python",
   "pygments_lexer": "ipython3",
   "version": "3.10.7"
  }
 },
 "nbformat": 4,
 "nbformat_minor": 5
}
