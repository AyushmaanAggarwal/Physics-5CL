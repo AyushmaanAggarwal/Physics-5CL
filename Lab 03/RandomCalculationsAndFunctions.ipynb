{
 "cells": [
  {
   "cell_type": "code",
   "execution_count": 1,
   "id": "084d70d6-11c2-455e-a24f-c08ddafc3e58",
   "metadata": {},
   "outputs": [],
   "source": [
    "import sys\n",
    "sys.path.insert(0, '../')"
   ]
  },
  {
   "cell_type": "code",
   "execution_count": 2,
   "id": "3bab3aac-2122-48b8-a183-02d6ee4c39a1",
   "metadata": {},
   "outputs": [],
   "source": [
    "import numpy as np\n",
    "import matplotlib.pyplot as plt\n",
    "%matplotlib inline"
   ]
  },
  {
   "cell_type": "code",
   "execution_count": 3,
   "id": "cfd9700e-c73c-4745-b98c-8d6a4d852183",
   "metadata": {},
   "outputs": [],
   "source": [
    "import DataAnalysis as da\n"
   ]
  },
  {
   "cell_type": "code",
   "execution_count": 5,
   "id": "58b800b4-47a1-4785-93ed-cdc6f157c39b",
   "metadata": {},
   "outputs": [],
   "source": [
    "def doubleThinSlitI(Imax, d, theta, wavelength):\n",
    "    delta = 2*np.pi*d*np.sin(theta)/wavelength\n",
    "    cos2 = (np.cos(delta/2))**2\n",
    "    return Imax*cos2\n",
    "\n",
    "def multipleThinSlitI(Imax, d, theta, wavelength, N):\n",
    "    beta = np.pi*d*np.sin(theta)/wavelength\n",
    "    sins2 = (np.sin(N*beta)/np.sin(beta))**2\n",
    "    return Imax*sins2\n",
    "    \n",
    "def singleSlitI(Imax, a, theta, wavelength):\n",
    "    alpha = np.pi*a*np.sin(theta)/wavelength\n",
    "    sinc2 = (np.sin(alpha)/alpha)**2\n",
    "    return Imax*sinc2\n",
    "\n",
    "def thickDoubleSlit(Imax, d, a, theta, wavelength):\n",
    "    sinc = singleSlitI(1, a, theta, wavelength)\n",
    "    cos = doubleThinSlitI(1, d, theta, wavelength)\n",
    "    return Imax*sinc*cos"
   ]
  },
  {
   "cell_type": "code",
   "execution_count": 29,
   "id": "0150970f-0bcb-43f8-b65a-df7e94e32c68",
   "metadata": {},
   "outputs": [],
   "source": [
    "a = 2*(.73)*635e-9/.004"
   ]
  },
  {
   "cell_type": "code",
   "execution_count": 30,
   "id": "a25cbcfd-8397-4c5f-91b6-318a55dc0f4f",
   "metadata": {},
   "outputs": [
    {
     "data": {
      "text/plain": [
       "0.00023177499999999996"
      ]
     },
     "execution_count": 30,
     "metadata": {},
     "output_type": "execute_result"
    }
   ],
   "source": [
    "a"
   ]
  },
  {
   "cell_type": "code",
   "execution_count": 31,
   "id": "17b555de-1862-4276-81ff-7b71737d0793",
   "metadata": {},
   "outputs": [],
   "source": [
    "lam = 1.6*.002*a/2/.75"
   ]
  },
  {
   "cell_type": "code",
   "execution_count": 34,
   "id": "7250c47a-24ba-4f33-bae1-33272bf0c032",
   "metadata": {},
   "outputs": [
    {
     "data": {
      "text/plain": [
       "-0.07057644110275704"
      ]
     },
     "execution_count": 34,
     "metadata": {},
     "output_type": "execute_result"
    }
   ],
   "source": [
    "(lam-532e-9)/532e-9"
   ]
  },
  {
   "cell_type": "code",
   "execution_count": 41,
   "id": "d72b5902-75cd-4cf1-8ebb-5e97572dee1f",
   "metadata": {},
   "outputs": [],
   "source": [
    "D = 1.22*635e-9*.73/.00105"
   ]
  },
  {
   "cell_type": "code",
   "execution_count": 42,
   "id": "baa0188a-d9d6-4087-956a-5482fd2a12fb",
   "metadata": {},
   "outputs": [
    {
     "data": {
      "text/plain": [
       "0.0005386009523809524"
      ]
     },
     "execution_count": 42,
     "metadata": {},
     "output_type": "execute_result"
    }
   ],
   "source": [
    "D"
   ]
  },
  {
   "cell_type": "code",
   "execution_count": null,
   "id": "b1e74600-df14-4c3b-baa2-e2cca1a8ebc7",
   "metadata": {},
   "outputs": [],
   "source": []
  }
 ],
 "metadata": {
  "kernelspec": {
   "display_name": "Python 3 (ipykernel)",
   "language": "python",
   "name": "python3"
  },
  "language_info": {
   "codemirror_mode": {
    "name": "ipython",
    "version": 3
   },
   "file_extension": ".py",
   "mimetype": "text/x-python",
   "name": "python",
   "nbconvert_exporter": "python",
   "pygments_lexer": "ipython3",
   "version": "3.10.8"
  }
 },
 "nbformat": 4,
 "nbformat_minor": 5
}
