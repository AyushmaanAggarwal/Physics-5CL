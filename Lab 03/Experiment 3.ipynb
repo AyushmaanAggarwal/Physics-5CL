{
 "cells": [
  {
   "cell_type": "code",
   "execution_count": 37,
   "id": "2f8dbe35-7d4a-4e68-ae0b-c1607b7f88fa",
   "metadata": {},
   "outputs": [
    {
     "name": "stdout",
     "output_type": "stream",
     "text": [
      "[0.02666666666666667, 0.016666666666666666, 0.009523809523809525]\n",
      "[0.0071111111111111115, 0.002777777777777778, 0.0018140589569160999]\n"
     ]
    }
   ],
   "source": [
    "cmbox = [0.2/7.5, 0.2/12, 0.1/10.5]\n",
    "cm = [0.2,0.2,0.1]\n",
    "mina = [7.5, 12, 10.5]\n",
    "box_error = 2\n",
    "cmbox_err_func = lambda args: args[0]*box_error/args[1]**2\n",
    "cmbox_err = list(map(cmbox_err_func, zip(cm, mina)))\n",
    "print(cmbox)\n",
    "print(cmbox_err)"
   ]
  },
  {
   "cell_type": "code",
   "execution_count": 38,
   "id": "073ffe4c-d39b-486a-95c2-e46e0c63c527",
   "metadata": {},
   "outputs": [],
   "source": [
    "L = .70\n",
    "wavelength = 494e-9\n",
    "a = list(map(lambda y: L*wavelength/y, cmbox))"
   ]
  },
  {
   "cell_type": "code",
   "execution_count": 39,
   "id": "3123ada1-1b36-4002-ad4d-f821df798170",
   "metadata": {},
   "outputs": [
    {
     "data": {
      "text/plain": [
       "[1.2967499999999997e-05, 2.0747999999999995e-05, 3.630899999999999e-05]"
      ]
     },
     "execution_count": 39,
     "metadata": {},
     "output_type": "execute_result"
    }
   ],
   "source": [
    "a"
   ]
  },
  {
   "cell_type": "code",
   "execution_count": 40,
   "id": "677193ee-58f9-4f5f-8960-1e59325d7087",
   "metadata": {},
   "outputs": [
    {
     "name": "stdout",
     "output_type": "stream",
     "text": [
      "[3.457999999999999e-06, 3.4579999999999993e-06, 6.915999999999997e-06]\n"
     ]
    }
   ],
   "source": [
    "error_a_func = lambda args: L*wavelength*args[1]/args[0]**2\n",
    "a_err = list(map(error_a_func, zip(cmbox, cmbox_err)))\n",
    "print(a_err)"
   ]
  },
  {
   "cell_type": "code",
   "execution_count": 41,
   "id": "020d606e-8666-4296-b362-a6a16145e320",
   "metadata": {},
   "outputs": [
    {
     "name": "stdout",
     "output_type": "stream",
     "text": [
      "[1.09825e-05, 2.1965e-05, 4.393e-05, 8.786e-05, 0.00017572]\n"
     ]
    }
   ],
   "source": [
    "width_of_1_8_slit = 0.04393e-3\n",
    "slit_widths_in_pts = [1./2,1./4,1./8,1./16,1./32]\n",
    "slit_widths = [width_of_1_8_slit*((1/pts)/8) for pts in slit_widths_in_pts]\n",
    "print(slit_widths)\n"
   ]
  },
  {
   "cell_type": "code",
   "execution_count": null,
   "id": "69bb5591-d6de-4930-b2d3-0e33336405ed",
   "metadata": {},
   "outputs": [],
   "source": []
  }
 ],
 "metadata": {
  "kernelspec": {
   "display_name": "Python 3 (ipykernel)",
   "language": "python",
   "name": "python3"
  },
  "language_info": {
   "codemirror_mode": {
    "name": "ipython",
    "version": 3
   },
   "file_extension": ".py",
   "mimetype": "text/x-python",
   "name": "python",
   "nbconvert_exporter": "python",
   "pygments_lexer": "ipython3",
   "version": "3.10.8"
  }
 },
 "nbformat": 4,
 "nbformat_minor": 5
}
