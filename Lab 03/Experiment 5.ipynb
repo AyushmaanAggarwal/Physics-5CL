{
 "cells": [
  {
   "cell_type": "code",
   "execution_count": 16,
   "id": "4747ff5f-a4e9-494d-b903-ed982fec5aeb",
   "metadata": {},
   "outputs": [
    {
     "data": {
      "text/plain": [
       "0.1111111111111111"
      ]
     },
     "execution_count": 16,
     "metadata": {},
     "output_type": "execute_result"
    }
   ],
   "source": [
    "1/9"
   ]
  },
  {
   "cell_type": "code",
   "execution_count": 17,
   "id": "a46ac568-58f6-4c8d-9be8-997a0b9a5a1c",
   "metadata": {},
   "outputs": [
    {
     "name": "stdout",
     "output_type": "stream",
     "text": [
      "[0.01, 0.0044444444444444444, 0.002]\n",
      "[0.001, 0.0004938271604938272, 0.0002]\n"
     ]
    }
   ],
   "source": [
    "cmbox = [.1/10, 0.04/9, .02/10]\n",
    "cm = [0.1,0.04,0.02]\n",
    "mina = [10, 9, 10]\n",
    "box_error = 1\n",
    "cmbox_err_func = lambda args: args[0]*box_error/args[1]**2\n",
    "cmbox_err = list(map(cmbox_err_func, zip(cm, mina)))\n",
    "print(cmbox)\n",
    "print(cmbox_err)"
   ]
  },
  {
   "cell_type": "code",
   "execution_count": 18,
   "id": "d6b895a7-4080-46b3-9724-45364273ca82",
   "metadata": {},
   "outputs": [],
   "source": [
    "L = .679\n",
    "wavelength = 634.6e-9\n",
    "a = list(map(lambda y: L*wavelength/y, cmbox))"
   ]
  },
  {
   "cell_type": "code",
   "execution_count": 19,
   "id": "dbda8b03-4995-48b4-a699-b7a10599a195",
   "metadata": {},
   "outputs": [
    {
     "data": {
      "text/plain": [
       "[4.3089340000000004e-05, 9.695101500000001e-05, 0.00021544670000000002]"
      ]
     },
     "execution_count": 19,
     "metadata": {},
     "output_type": "execute_result"
    }
   ],
   "source": [
    "a"
   ]
  },
  {
   "cell_type": "code",
   "execution_count": 20,
   "id": "83d9df94-e7fc-414f-824f-1668150db2d3",
   "metadata": {},
   "outputs": [
    {
     "name": "stdout",
     "output_type": "stream",
     "text": [
      "[4.308934000000001e-06, 1.0772335000000003e-05, 2.1544670000000005e-05]\n"
     ]
    }
   ],
   "source": [
    "error_a_func = lambda args: L*wavelength*args[1]/args[0]**2\n",
    "a_err = list(map(error_a_func, zip(cmbox, cmbox_err)))\n",
    "print(a_err)"
   ]
  },
  {
   "cell_type": "code",
   "execution_count": 9,
   "id": "3513f724-b2e0-4e9b-957d-f9c22dfe427f",
   "metadata": {},
   "outputs": [
    {
     "name": "stdout",
     "output_type": "stream",
     "text": [
      "[1.09825e-05, 1.09825e-05, 1.09825e-05]\n"
     ]
    }
   ],
   "source": [
    "width_of_1_8_slit = 0.04393e-3\n",
    "slit_widths_in_pts = [1./2,1./2,1./2]\n",
    "slit_widths = [width_of_1_8_slit*((1/pts)/8) for pts in slit_widths_in_pts]\n",
    "print(slit_widths)\n"
   ]
  },
  {
   "cell_type": "code",
   "execution_count": 29,
   "id": "cb0294f4-63ff-47c5-9091-2cfb92ef52b3",
   "metadata": {},
   "outputs": [
    {
     "name": "stdout",
     "output_type": "stream",
     "text": [
      "[0.00021544670000000002, 0.00014363113333333335, 9.575408888888892e-05, 6.15562e-05]\n"
     ]
    }
   ],
   "source": [
    "d_func = lambda y: wavelength*L/y\n",
    "max_width = [.002,.003,.0045,.007,.003]\n",
    "d = list(map(d_func, max_width))\n",
    "print(d)"
   ]
  },
  {
   "cell_type": "code",
   "execution_count": 31,
   "id": "46f16877-91bb-4022-b7e4-d0a0baa8b255",
   "metadata": {},
   "outputs": [
    {
     "name": "stdout",
     "output_type": "stream",
     "text": [
      "[0.00010772335000000004, 4.787704444444445e-05, 2.1278686419753095e-05, 8.793742857142858e-06]\n"
     ]
    }
   ],
   "source": [
    "box_err = .001\n",
    "d_err_func = lambda y: wavelength*L*box_err/y**2\n",
    "d_err = list(map(d_err_func, max_width))\n",
    "print(d_err)"
   ]
  },
  {
   "cell_type": "code",
   "execution_count": null,
   "id": "cce881e3-34b6-4750-9e32-4b94b573cd04",
   "metadata": {},
   "outputs": [
    {
     "name": "stdout",
     "output_type": "stream",
     "text": [
      "[0.000153755, 0.000461265, 0.001076285, 0.0023063249999999997]\n"
     ]
    }
   ],
   "source": [
    "width_of_1_8_slit = 0.04393e-3\n",
    "slit_widths_in_pts = [1./2,1./6, 1./14, 1./30]\n",
    "slit_widths = [14*width_of_1_8_slit*((1/pts)/8) for pts in slit_widths_in_pts]\n",
    "print(slit_widths)"
   ]
  },
  {
   "cell_type": "code",
   "execution_count": null,
   "id": "b1fb329f-2154-4d7d-b34f-25ecbedfcb33",
   "metadata": {},
   "outputs": [],
   "source": []
  }
 ],
 "metadata": {
  "kernelspec": {
   "display_name": "Python 3 (ipykernel)",
   "language": "python",
   "name": "python3"
  },
  "language_info": {
   "codemirror_mode": {
    "name": "ipython",
    "version": 3
   },
   "file_extension": ".py",
   "mimetype": "text/x-python",
   "name": "python",
   "nbconvert_exporter": "python",
   "pygments_lexer": "ipython3",
   "version": "3.10.8"
  }
 },
 "nbformat": 4,
 "nbformat_minor": 5
}
