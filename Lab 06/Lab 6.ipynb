{
 "cells": [
  {
   "cell_type": "code",
   "execution_count": 2,
   "id": "7a93403c-ab42-4226-97ad-f0d96378a03d",
   "metadata": {},
   "outputs": [],
   "source": [
    "import sys\n",
    "sys.path.insert(0, '../')"
   ]
  },
  {
   "cell_type": "code",
   "execution_count": 3,
   "id": "75a057c0-160a-4b11-a97d-aec55d214708",
   "metadata": {},
   "outputs": [],
   "source": [
    "import numpy as np\n",
    "import pandas as pd\n",
    "import csv\n",
    "import DataAnalysis as da\n",
    "import scipy.optimize as opt\n",
    "import matplotlib.pyplot as plt"
   ]
  },
  {
   "cell_type": "markdown",
   "id": "6148e531-1ba4-4987-90da-56178a87c4c5",
   "metadata": {
    "tags": []
   },
   "source": [
    "# Experiment 1"
   ]
  },
  {
   "cell_type": "code",
   "execution_count": 12,
   "id": "944ec485-f279-4247-9cf6-13416466e178",
   "metadata": {},
   "outputs": [],
   "source": [
    "def weighted_average_with_error(weight1, temp1, weight2, temp2, temp_err=.2, mass_err=1):\n",
    "    total_weight = weight1 + weight2\n",
    "    per1 = weight1/total_weight\n",
    "    per2 = weight2/total_weight\n",
    "    per1_err = weight2/total_weight**2\n",
    "    per2_err = weight1/total_weight**2\n",
    "    \n",
    "    weighted_average = temp1*per1 + temp2*per2\n",
    "    partial_t1 = per1\n",
    "    partial_t2 = per2\n",
    "    partial_p1 = temp1\n",
    "    partial_p2 = temp2\n",
    "    return weighted_average, da.quartrature_sum([partial_t1*temp_err, partial_t2*temp_err, partial_p1*per1_err, partial_p2*per2_err])\n"
   ]
  },
  {
   "cell_type": "code",
   "execution_count": 13,
   "id": "fd53c403-0fa9-45cc-b9f2-9f42a104d14d",
   "metadata": {},
   "outputs": [
    {
     "data": {
      "text/plain": [
       "(36.6875, 0.15188561825136584)"
      ]
     },
     "execution_count": 13,
     "metadata": {},
     "output_type": "execute_result"
    }
   ],
   "source": [
    "weighted_average_with_error(190, 21.1, 290, 46.9)"
   ]
  },
  {
   "cell_type": "code",
   "execution_count": 14,
   "id": "88ba7c51-1485-43ce-a1d4-2c3e59eb53a8",
   "metadata": {},
   "outputs": [
    {
     "data": {
      "text/plain": [
       "(36.54033613445378, 0.15765055196968697)"
      ]
     },
     "execution_count": 14,
     "metadata": {},
     "output_type": "execute_result"
    }
   ],
   "source": [
    "weighted_average_with_error(123, 15.5, 234, 47.6)"
   ]
  },
  {
   "cell_type": "code",
   "execution_count": 15,
   "id": "d17d35a8-578f-40d0-a8fb-8c8b8b75162b",
   "metadata": {},
   "outputs": [
    {
     "data": {
      "text/plain": [
       "(26.733103448275862, 0.16225069035661693)"
      ]
     },
     "execution_count": 15,
     "metadata": {},
     "output_type": "execute_result"
    }
   ],
   "source": [
    "weighted_average_with_error(276, 15, 159, 47.1)"
   ]
  },
  {
   "cell_type": "code",
   "execution_count": 16,
   "id": "0e2e5048-5334-447f-9362-1074c472102d",
   "metadata": {},
   "outputs": [
    {
     "data": {
      "text/plain": [
       "(30.62064516129032, 0.15209853257031655)"
      ]
     },
     "execution_count": 16,
     "metadata": {},
     "output_type": "execute_result"
    }
   ],
   "source": [
    "weighted_average_with_error(243, 15.2, 222, 47.5)"
   ]
  },
  {
   "cell_type": "code",
   "execution_count": 17,
   "id": "1a33822b-0a50-4887-87b1-05b994348705",
   "metadata": {},
   "outputs": [
    {
     "data": {
      "text/plain": [
       "(29.064651162790696, 0.15683493220464675)"
      ]
     },
     "execution_count": 17,
     "metadata": {},
     "output_type": "execute_result"
    }
   ],
   "source": [
    "weighted_average_with_error(246, 15.5, 184, 47.2)"
   ]
  },
  {
   "cell_type": "code",
   "execution_count": 19,
   "id": "6a9b5b4a-5354-4109-a5c0-90815d966f4b",
   "metadata": {},
   "outputs": [
    {
     "data": {
      "text/plain": [
       "0.25"
      ]
     },
     "execution_count": 19,
     "metadata": {},
     "output_type": "execute_result"
    }
   ],
   "source": [
    "da.quartrature_sum([.2,.15])"
   ]
  },
  {
   "cell_type": "code",
   "execution_count": 20,
   "id": "4f55b65d-1563-4ea7-8c79-6878e8151beb",
   "metadata": {},
   "outputs": [
    {
     "data": {
      "text/plain": [
       "0.25612496949731395"
      ]
     },
     "execution_count": 20,
     "metadata": {},
     "output_type": "execute_result"
    }
   ],
   "source": [
    "da.quartrature_sum([.2,.16])"
   ]
  },
  {
   "cell_type": "markdown",
   "id": "00c38f41-4414-4658-a8b4-d2f047524f00",
   "metadata": {
    "tags": []
   },
   "source": [
    "# Experiment 2"
   ]
  },
  {
   "cell_type": "code",
   "execution_count": 17,
   "id": "7644af6b-0ad5-4506-a4ef-303828be411e",
   "metadata": {},
   "outputs": [
    {
     "data": {
      "text/plain": [
       "77.98693932584261"
      ]
     },
     "execution_count": 17,
     "metadata": {},
     "output_type": "execute_result"
    }
   ],
   "source": [
    "latenent_heat(47.6, .3, 17.8, 340, 105)"
   ]
  },
  {
   "cell_type": "code",
   "execution_count": 25,
   "id": "841a6c22-0037-421f-8f09-6718da347961",
   "metadata": {},
   "outputs": [
    {
     "data": {
      "text/plain": [
       "106.57048862275435"
      ]
     },
     "execution_count": 25,
     "metadata": {},
     "output_type": "execute_result"
    }
   ],
   "source": [
    "latenent_heat(47.2, .3, 5.3, 217, 117)"
   ]
  },
  {
   "cell_type": "code",
   "execution_count": 19,
   "id": "633865f9-035f-41d3-ac12-62cffb02ad06",
   "metadata": {},
   "outputs": [
    {
     "data": {
      "text/plain": [
       "74.91333584905674"
      ]
     },
     "execution_count": 19,
     "metadata": {},
     "output_type": "execute_result"
    }
   ],
   "source": [
    "latenent_heat(47, .3, 17.2, 237, 81)"
   ]
  },
  {
   "cell_type": "code",
   "execution_count": 15,
   "id": "b6d93d9c-b411-4f76-8807-581f60d2361b",
   "metadata": {},
   "outputs": [
    {
     "data": {
      "text/plain": [
       "82.0862886731392"
      ]
     },
     "execution_count": 15,
     "metadata": {},
     "output_type": "execute_result"
    }
   ],
   "source": [
    "latenent_heat(47.2, .2, 14.5, 223, 86)"
   ]
  },
  {
   "cell_type": "code",
   "execution_count": null,
   "id": "f6aa173b-e93e-4117-b1c9-cfef7f4b4186",
   "metadata": {},
   "outputs": [],
   "source": []
  },
  {
   "cell_type": "markdown",
   "id": "ca172336-2ba7-4752-b613-0926407ee31f",
   "metadata": {
    "tags": []
   },
   "source": [
    "# Experiment 3"
   ]
  },
  {
   "cell_type": "code",
   "execution_count": 8,
   "id": "03b5a510-bf5b-4cf7-9f0f-ac69be7377ed",
   "metadata": {},
   "outputs": [],
   "source": [
    "diameter=6.3-.2533*2"
   ]
  },
  {
   "cell_type": "code",
   "execution_count": 16,
   "id": "71ed9f21-00b0-48c6-a61b-e182ccf2f383",
   "metadata": {},
   "outputs": [],
   "source": [
    "area = (diameter/2)**2*np.pi"
   ]
  },
  {
   "cell_type": "code",
   "execution_count": 20,
   "id": "2d2a658c-50f7-4840-87b2-6d6ec81dedd1",
   "metadata": {},
   "outputs": [],
   "source": [
    "height = 106/area"
   ]
  },
  {
   "cell_type": "code",
   "execution_count": 23,
   "id": "276a7ffc-9ec0-41a3-b960-32277d77a142",
   "metadata": {},
   "outputs": [],
   "source": [
    "sa = height*np.pi*diameter + area"
   ]
  },
  {
   "cell_type": "code",
   "execution_count": 24,
   "id": "29290794-4c6e-4c27-819e-2760c5614afe",
   "metadata": {},
   "outputs": [
    {
     "data": {
      "text/plain": [
       "99.54742807217508"
      ]
     },
     "execution_count": 24,
     "metadata": {},
     "output_type": "execute_result"
    }
   ],
   "source": [
    "sa"
   ]
  },
  {
   "cell_type": "code",
   "execution_count": 25,
   "id": "f7cc4832-e047-4a01-9f7a-f75c46282c96",
   "metadata": {},
   "outputs": [],
   "source": [
    "def sa_func(mass=106):\n",
    "    diameter=6.3-.2533*2\n",
    "    area = (diameter/2)**2*np.pi\n",
    "    height = mass/area\n",
    "    sa = height*np.pi*diameter + area\n",
    "    return sa"
   ]
  },
  {
   "cell_type": "code",
   "execution_count": 30,
   "id": "d04abb92-96fb-4dac-97d2-e9a6958b9277",
   "metadata": {},
   "outputs": [],
   "source": [
    "sa = sa_func(101)"
   ]
  },
  {
   "cell_type": "code",
   "execution_count": 29,
   "id": "4241428d-3dd7-46d2-a91f-2b3262b86bf0",
   "metadata": {},
   "outputs": [],
   "source": [
    "def k_func(m, sa, tc1, tc2, th, c=4.184, thickness=.002533):\n",
    "    const = m*c*thickness/sa\n",
    "    differencial=(tc2-tc1)/(th-tc1)\n",
    "    return const*differencial"
   ]
  },
  {
   "cell_type": "code",
   "execution_count": 30,
   "id": "2eb1e2b5-71d2-4405-9b18-974d0de1b135",
   "metadata": {},
   "outputs": [],
   "source": [
    "def k_val(data, m, th):\n",
    "    sa = sa_func(m)*(1e-2)**2\n",
    "    k = [k_func(m, sa, data[i], data[i+1], th) for i in range(len(data)-1)]\n",
    "    return k"
   ]
  },
  {
   "cell_type": "code",
   "execution_count": 31,
   "id": "7bcfb12e-3c93-48a5-92e8-861cbbf55a54",
   "metadata": {},
   "outputs": [
    {
     "ename": "FileNotFoundError",
     "evalue": "[Errno 2] No such file or directory: 'filename.csv'",
     "output_type": "error",
     "traceback": [
      "\u001b[0;31m---------------------------------------------------------------------------\u001b[0m",
      "\u001b[0;31mFileNotFoundError\u001b[0m                         Traceback (most recent call last)",
      "\u001b[0;32m/tmp/ipykernel_4345/4290270449.py\u001b[0m in \u001b[0;36m<module>\u001b[0;34m\u001b[0m\n\u001b[0;32m----> 1\u001b[0;31m \u001b[0;32mwith\u001b[0m \u001b[0mopen\u001b[0m\u001b[0;34m(\u001b[0m\u001b[0;34m'filename.csv'\u001b[0m\u001b[0;34m)\u001b[0m \u001b[0;32mas\u001b[0m \u001b[0mcsv_file\u001b[0m\u001b[0;34m:\u001b[0m\u001b[0;34m\u001b[0m\u001b[0;34m\u001b[0m\u001b[0m\n\u001b[0m\u001b[1;32m      2\u001b[0m     \u001b[0mcsv_read\u001b[0m\u001b[0;34m=\u001b[0m\u001b[0mcsv\u001b[0m\u001b[0;34m.\u001b[0m\u001b[0mreader\u001b[0m\u001b[0;34m(\u001b[0m\u001b[0mcsv_file\u001b[0m\u001b[0;34m,\u001b[0m \u001b[0mdelimiter\u001b[0m\u001b[0;34m=\u001b[0m\u001b[0;34m','\u001b[0m\u001b[0;34m)\u001b[0m\u001b[0;34m\u001b[0m\u001b[0;34m\u001b[0m\u001b[0m\n",
      "\u001b[0;31mFileNotFoundError\u001b[0m: [Errno 2] No such file or directory: 'filename.csv'"
     ]
    }
   ],
   "source": [
    "with open('filename.csv') as csv_file:\n",
    "    csv_read=csv.reader(csv_file, delimiter=',')"
   ]
  },
  {
   "cell_type": "code",
   "execution_count": 32,
   "id": "3fe7104c-2cae-4714-ba3b-dd92b44c9570",
   "metadata": {},
   "outputs": [],
   "source": [
    "lab = pd.read_csv(\"Lab 6 Exp 3.csv\")"
   ]
  },
  {
   "cell_type": "code",
   "execution_count": 33,
   "id": "8f5fc43e-ef0c-40bb-9825-887a30157052",
   "metadata": {},
   "outputs": [],
   "source": [
    "data = np.array(lab[\"Temp\"])\n"
   ]
  },
  {
   "cell_type": "code",
   "execution_count": 53,
   "id": "fb6f01d0-007f-4968-a2a4-03a62b943dcd",
   "metadata": {},
   "outputs": [
    {
     "data": {
      "text/plain": [
       "0       0.000000\n",
       "1       0.033333\n",
       "2       0.066667\n",
       "3       0.100000\n",
       "4       0.133333\n",
       "         ...    \n",
       "296     9.866667\n",
       "297     9.900000\n",
       "298     9.933333\n",
       "299     9.966667\n",
       "300    10.000000\n",
       "Name: Time, Length: 301, dtype: float64"
      ]
     },
     "execution_count": 53,
     "metadata": {},
     "output_type": "execute_result"
    }
   ],
   "source": [
    "lab[\"Time\"][:-1]"
   ]
  },
  {
   "cell_type": "code",
   "execution_count": 88,
   "id": "86a2c14c-ab1c-4f46-80f6-1cf29f0bb340",
   "metadata": {},
   "outputs": [],
   "source": [
    "def log(x, a, b, c):\n",
    "    x = np.array(x)\n",
    "    return np.exp(-(a*x + b)) + c"
   ]
  },
  {
   "cell_type": "code",
   "execution_count": 82,
   "id": "36841860-e901-4725-9137-711a3f3c706b",
   "metadata": {},
   "outputs": [
    {
     "data": {
      "text/plain": [
       "array([ 4.25324287,  1.62567987, 11.05649516,  1.41928407])"
      ]
     },
     "execution_count": 82,
     "metadata": {},
     "output_type": "execute_result"
    }
   ],
   "source": [
    "pov"
   ]
  },
  {
   "cell_type": "code",
   "execution_count": 89,
   "id": "901864a8-6b7d-4f03-9c09-c7db8f673e48",
   "metadata": {},
   "outputs": [
    {
     "name": "stderr",
     "output_type": "stream",
     "text": [
      "/home/ayushmaan/.local/lib/python3.10/site-packages/scipy/optimize/_minpack_py.py:833: OptimizeWarning: Covariance of the parameters could not be estimated\n",
      "  warnings.warn('Covariance of the parameters could not be estimated',\n"
     ]
    }
   ],
   "source": [
    "time = lab[\"Time\"][20:-20]\n",
    "temp = lab[\"Temp\"][20:-20]\n",
    "pov, cov = opt.curve_fit(log, time, temp, [1,1,1])\n",
    "a, b, c = pov\n",
    "y = log(time, a, b, c)"
   ]
  },
  {
   "cell_type": "code",
   "execution_count": 90,
   "id": "21f32b10-1feb-451f-ac41-d45f7d0f975a",
   "metadata": {},
   "outputs": [
    {
     "data": {
      "text/plain": [
       "[<matplotlib.lines.Line2D at 0x7f58da8b8910>]"
      ]
     },
     "execution_count": 90,
     "metadata": {},
     "output_type": "execute_result"
    },
    {
     "data": {
      "image/png": "[encoded data removed]",
      "text/plain": [
       "<Figure size 432x288 with 1 Axes>"
      ]
     },
     "metadata": {
      "needs_background": "light"
     },
     "output_type": "display_data"
    }
   ],
   "source": [
    "plt.plot(time, np.array(temp))\n",
    "plt.plot(time, y)"
   ]
  },
  {
   "cell_type": "code",
   "execution_count": 85,
   "id": "853d8f63-ecd9-4f9e-b8b0-39949026025c",
   "metadata": {},
   "outputs": [
    {
     "data": {
      "text/plain": [
       "<matplotlib.collections.PathCollection at 0x7f58da88d8a0>"
      ]
     },
     "execution_count": 85,
     "metadata": {},
     "output_type": "execute_result"
    },
    {
     "data": {
      "image/png": "[encoded data removed]",
      "text/plain": [
       "<Figure size 432x288 with 1 Axes>"
      ]
     },
     "metadata": {
      "needs_background": "light"
     },
     "output_type": "display_data"
    }
   ],
   "source": [
    "plt.scatter(time, y - temp)"
   ]
  },
  {
   "cell_type": "code",
   "execution_count": 86,
   "id": "ceaaaee0-788f-417f-b1f5-7e188ef85b91",
   "metadata": {},
   "outputs": [
    {
     "ename": "NameError",
     "evalue": "name 'sa_func' is not defined",
     "output_type": "error",
     "traceback": [
      "\u001b[0;31m---------------------------------------------------------------------------\u001b[0m",
      "\u001b[0;31mNameError\u001b[0m                                 Traceback (most recent call last)",
      "\u001b[0;32m/tmp/ipykernel_4345/345883087.py\u001b[0m in \u001b[0;36m<module>\u001b[0;34m\u001b[0m\n\u001b[0;32m----> 1\u001b[0;31m \u001b[0mk\u001b[0m \u001b[0;34m=\u001b[0m \u001b[0mk_val\u001b[0m\u001b[0;34m(\u001b[0m\u001b[0mdata\u001b[0m\u001b[0;34m,\u001b[0m \u001b[0;36m223\u001b[0m\u001b[0;34m,\u001b[0m \u001b[0;36m48.1\u001b[0m\u001b[0;34m)\u001b[0m\u001b[0;34m\u001b[0m\u001b[0;34m\u001b[0m\u001b[0m\n\u001b[0m",
      "\u001b[0;32m/tmp/ipykernel_4345/1960959348.py\u001b[0m in \u001b[0;36mk_val\u001b[0;34m(data, m, th)\u001b[0m\n\u001b[1;32m      1\u001b[0m \u001b[0;32mdef\u001b[0m \u001b[0mk_val\u001b[0m\u001b[0;34m(\u001b[0m\u001b[0mdata\u001b[0m\u001b[0;34m,\u001b[0m \u001b[0mm\u001b[0m\u001b[0;34m,\u001b[0m \u001b[0mth\u001b[0m\u001b[0;34m)\u001b[0m\u001b[0;34m:\u001b[0m\u001b[0;34m\u001b[0m\u001b[0;34m\u001b[0m\u001b[0m\n\u001b[0;32m----> 2\u001b[0;31m     \u001b[0msa\u001b[0m \u001b[0;34m=\u001b[0m \u001b[0msa_func\u001b[0m\u001b[0;34m(\u001b[0m\u001b[0mm\u001b[0m\u001b[0;34m)\u001b[0m\u001b[0;34m*\u001b[0m\u001b[0;34m(\u001b[0m\u001b[0;36m1e-2\u001b[0m\u001b[0;34m)\u001b[0m\u001b[0;34m**\u001b[0m\u001b[0;36m2\u001b[0m\u001b[0;34m\u001b[0m\u001b[0;34m\u001b[0m\u001b[0m\n\u001b[0m\u001b[1;32m      3\u001b[0m     \u001b[0mk\u001b[0m \u001b[0;34m=\u001b[0m \u001b[0;34m[\u001b[0m\u001b[0mk_func\u001b[0m\u001b[0;34m(\u001b[0m\u001b[0mm\u001b[0m\u001b[0;34m,\u001b[0m \u001b[0msa\u001b[0m\u001b[0;34m,\u001b[0m \u001b[0mdata\u001b[0m\u001b[0;34m[\u001b[0m\u001b[0mi\u001b[0m\u001b[0;34m]\u001b[0m\u001b[0;34m,\u001b[0m \u001b[0mdata\u001b[0m\u001b[0;34m[\u001b[0m\u001b[0mi\u001b[0m\u001b[0;34m+\u001b[0m\u001b[0;36m1\u001b[0m\u001b[0;34m]\u001b[0m\u001b[0;34m,\u001b[0m \u001b[0mth\u001b[0m\u001b[0;34m)\u001b[0m \u001b[0;32mfor\u001b[0m \u001b[0mi\u001b[0m \u001b[0;32min\u001b[0m \u001b[0mrange\u001b[0m\u001b[0;34m(\u001b[0m\u001b[0mlen\u001b[0m\u001b[0;34m(\u001b[0m\u001b[0mdata\u001b[0m\u001b[0;34m)\u001b[0m\u001b[0;34m-\u001b[0m\u001b[0;36m1\u001b[0m\u001b[0;34m)\u001b[0m\u001b[0;34m]\u001b[0m\u001b[0;34m\u001b[0m\u001b[0;34m\u001b[0m\u001b[0m\n\u001b[1;32m      4\u001b[0m     \u001b[0;32mreturn\u001b[0m \u001b[0mk\u001b[0m\u001b[0;34m\u001b[0m\u001b[0;34m\u001b[0m\u001b[0m\n",
      "\u001b[0;31mNameError\u001b[0m: name 'sa_func' is not defined"
     ]
    }
   ],
   "source": [
    "k = k_val(data, 223, 48.1)"
   ]
  },
  {
   "cell_type": "code",
   "execution_count": 72,
   "id": "3a82b93a-5741-4d2c-8da7-c4db192fcb13",
   "metadata": {},
   "outputs": [
    {
     "data": {
      "text/html": [
       "<div>\n",
       "<style scoped>\n",
       "    .dataframe tbody tr th:only-of-type {\n",
       "        vertical-align: middle;\n",
       "    }\n",
       "\n",
       "    .dataframe tbody tr th {\n",
       "        vertical-align: top;\n",
       "    }\n",
       "\n",
       "    .dataframe thead th {\n",
       "        text-align: right;\n",
       "    }\n",
       "</style>\n",
       "<table border=\"1\" class=\"dataframe\">\n",
       "  <thead>\n",
       "    <tr style=\"text-align: right;\">\n",
       "      <th></th>\n",
       "      <th>0</th>\n",
       "    </tr>\n",
       "  </thead>\n",
       "  <tbody>\n",
       "    <tr>\n",
       "      <th>count</th>\n",
       "      <td>300.000000</td>\n",
       "    </tr>\n",
       "    <tr>\n",
       "      <th>mean</th>\n",
       "      <td>0.106221</td>\n",
       "    </tr>\n",
       "    <tr>\n",
       "      <th>std</th>\n",
       "      <td>0.054550</td>\n",
       "    </tr>\n",
       "    <tr>\n",
       "      <th>min</th>\n",
       "      <td>-0.065140</td>\n",
       "    </tr>\n",
       "    <tr>\n",
       "      <th>25%</th>\n",
       "      <td>0.076803</td>\n",
       "    </tr>\n",
       "    <tr>\n",
       "      <th>50%</th>\n",
       "      <td>0.097106</td>\n",
       "    </tr>\n",
       "    <tr>\n",
       "      <th>75%</th>\n",
       "      <td>0.121925</td>\n",
       "    </tr>\n",
       "    <tr>\n",
       "      <th>max</th>\n",
       "      <td>0.473126</td>\n",
       "    </tr>\n",
       "  </tbody>\n",
       "</table>\n",
       "</div>"
      ],
      "text/plain": [
       "                0\n",
       "count  300.000000\n",
       "mean     0.106221\n",
       "std      0.054550\n",
       "min     -0.065140\n",
       "25%      0.076803\n",
       "50%      0.097106\n",
       "75%      0.121925\n",
       "max      0.473126"
      ]
     },
     "execution_count": 72,
     "metadata": {},
     "output_type": "execute_result"
    }
   ],
   "source": [
    "pd.DataFrame(k).describe()"
   ]
  },
  {
   "cell_type": "code",
   "execution_count": 73,
   "id": "6910c912-5730-4c13-b60e-7cb720222b61",
   "metadata": {},
   "outputs": [
    {
     "data": {
      "text/plain": [
       "[<matplotlib.lines.Line2D at 0x7fdacc65b400>]"
      ]
     },
     "execution_count": 73,
     "metadata": {},
     "output_type": "execute_result"
    },
    {
     "data": {
      "image/png": "[encoded data removed]",
      "text/plain": [
       "<Figure size 432x288 with 1 Axes>"
      ]
     },
     "metadata": {
      "needs_background": "light"
     },
     "output_type": "display_data"
    }
   ],
   "source": [
    "plt.plot(k)"
   ]
  },
  {
   "cell_type": "code",
   "execution_count": 73,
   "id": "2952b933-f9e6-4d79-a8f8-f23d7b99c0a2",
   "metadata": {},
   "outputs": [],
   "source": [
    "# Import the csv file\n",
    "lab = pd.read_csv(\"Lab 6 Exp 4 Aluminum Rod.csv\")"
   ]
  },
  {
   "cell_type": "code",
   "execution_count": 73,
   "id": "c03f8d05-8270-49e9-9b51-3d7d42fe7cd2",
   "metadata": {},
   "outputs": [],
   "source": [
    "# Save the data into time and temp variables\n",
    "# Cut out the inital data(first 100 points) \n",
    "# where the thermoprobe is just getting warmed up\n",
    "time = lab[\"Latest: Time (min)\"][100:-1]\n",
    "temp = lab[\"Latest: Temperature (°C)\"][100:-1]"
   ]
  },
  {
   "cell_type": "code",
   "execution_count": 73,
   "id": "da162f3d-e054-47ae-a638-744e0cb2a359",
   "metadata": {},
   "outputs": [
    {
     "data": {
      "text/plain": [
       "[<matplotlib.lines.Line2D at 0x7f11629cfd30>]"
      ]
     },
     "execution_count": 73,
     "metadata": {},
     "output_type": "execute_result"
    },
    {
     "data": {
      "image/png": "[encoded data removed]",
      "text/plain": [
       "<Figure size 432x288 with 1 Axes>"
      ]
     },
     "metadata": {
      "needs_background": "light"
     },
     "output_type": "display_data"
    }
   ],
   "source": [
    "# Plot the data where the orange line is the data\n",
    "# being used in the fit after cutting out the data\n",
    "plt.plot(lab[\"Latest: Time (min)\"], lab[\"Latest: Temperature (°C)\"], color='blue')\n",
    "plt.plot(time, temp, color ='orange')"
   ]
  },
  {
   "cell_type": "code",
   "execution_count": 74,
   "id": "2605cd61-e50d-4f41-a25a-726818000031",
   "metadata": {},
   "outputs": [],
   "source": [
    "# Model with a few additional variables to help\n",
    "# fit the data\n",
    "def model_al(x, v, T0=24, t0=0, c=0):\n",
    "    x = np.array(x) + t0\n",
    "    return (4*T0/np.pi)* np.exp(-v*x/2) + c"
   ]
  },
  {
   "cell_type": "code",
   "execution_count": 78,
   "id": "4e482f2e-526e-4689-9783-cf49cf97d819",
   "metadata": {},
   "outputs": [
    {
     "name": "stdout",
     "output_type": "stream",
     "text": [
      "Gamma: 0.31372750885034023\n",
      "Initial Temp: 6.429981404786842\n",
      "Time Offset: -2.4461157026847955\n",
      "Temp Offset: 13.260315484422021\n"
     ]
    }
   ],
   "source": [
    "# fit the data using some initial parameters\n",
    "pov, cov = opt.curve_fit(model_al, time, temp, [.25, 24, 0, 0], maxfev = 100000)\n",
    "v, T, t, c = pov\n",
    "y = model_al(time, v, T, t, c)\n",
    "print(f\"Gamma: {v}\")\n",
    "print(f\"Initial Temp: {T}\")\n",
    "print(f\"Time Offset: {t}\")\n",
    "print(f\"Temp Offset: {c}\")"
   ]
  },
  {
   "cell_type": "code",
   "execution_count": 76,
   "id": "efdc3fa6-c230-4d04-9865-fc93b977ddb6",
   "metadata": {},
   "outputs": [
    {
     "data": {
      "image/png": "[encoded data removed]",
      "text/plain": [
       "<Figure size 432x288 with 1 Axes>"
      ]
     },
     "metadata": {
      "needs_background": "light"
     },
     "output_type": "display_data"
    }
   ],
   "source": [
    "# Plot the fitted curve\n",
    "plt.plot(time, np.array(temp))\n",
    "plt.plot(time, y)\n",
    "plt.show()"
   ]
  },
  {
   "cell_type": "code",
   "execution_count": 6,
   "id": "11866151-834a-47bd-957d-a73fb41a51d6",
   "metadata": {},
   "outputs": [],
   "source": [
    "def latenent_heat(th, tc, tf, mh, mc):\n",
    "    Qh = mh*4.184*(th+273.15)\n",
    "    Qc = mc*4.184*(tc+273.15)\n",
    "    Qf = (mh+mc)*4.184*(tf+273.15)\n",
    "    diff = Qh+Qc-Qf\n",
    "    return diff/(mh+mc)\n",
    "    "
   ]
  }
 ],
 "metadata": {
  "kernelspec": {
   "display_name": "Python 3 (ipykernel)",
   "language": "python",
   "name": "python3"
  },
  "language_info": {
   "codemirror_mode": {
    "name": "ipython",
    "version": 3
   },
   "file_extension": ".py",
   "mimetype": "text/x-python",
   "name": "python",
   "nbconvert_exporter": "python",
   "pygments_lexer": "ipython3",
   "version": "3.10.8"
  }
 },
 "nbformat": 4,
 "nbformat_minor": 5
}
