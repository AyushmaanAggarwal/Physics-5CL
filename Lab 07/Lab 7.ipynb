{
 "cells": [
  {
   "cell_type": "code",
   "execution_count": 1,
   "id": "a2b0f523-578d-49fa-9c5c-ad3e1f8a8db2",
   "metadata": {},
   "outputs": [],
   "source": [
    "import sys\n",
    "sys.path.insert(0, '../')"
   ]
  },
  {
   "cell_type": "code",
   "execution_count": 2,
   "id": "fc4ead5c-441c-457d-b05c-95cd17d1f17e",
   "metadata": {},
   "outputs": [
    {
     "ename": "ModuleNotFoundError",
     "evalue": "No module named 'DataAnalysis'",
     "output_type": "error",
     "traceback": [
      "\u001b[0;31m---------------------------------------------------------------------------\u001b[0m",
      "\u001b[0;31mModuleNotFoundError\u001b[0m                       Traceback (most recent call last)",
      "\u001b[0;32m/tmp/ipykernel_43183/4198260243.py\u001b[0m in \u001b[0;36m<module>\u001b[0;34m\u001b[0m\n\u001b[1;32m      1\u001b[0m \u001b[0;32mimport\u001b[0m \u001b[0mnumpy\u001b[0m \u001b[0;32mas\u001b[0m \u001b[0mnp\u001b[0m\u001b[0;34m\u001b[0m\u001b[0;34m\u001b[0m\u001b[0m\n\u001b[1;32m      2\u001b[0m \u001b[0;32mimport\u001b[0m \u001b[0mmatplotlib\u001b[0m\u001b[0;34m.\u001b[0m\u001b[0mpyplot\u001b[0m \u001b[0;32mas\u001b[0m \u001b[0mplt\u001b[0m\u001b[0;34m\u001b[0m\u001b[0;34m\u001b[0m\u001b[0m\n\u001b[0;32m----> 3\u001b[0;31m \u001b[0;32mimport\u001b[0m \u001b[0mDataAnalysis\u001b[0m \u001b[0;32mas\u001b[0m \u001b[0mda\u001b[0m\u001b[0;34m\u001b[0m\u001b[0;34m\u001b[0m\u001b[0m\n\u001b[0m",
      "\u001b[0;31mModuleNotFoundError\u001b[0m: No module named 'DataAnalysis'"
     ]
    }
   ],
   "source": [
    "import numpy as np\n",
    "import matplotlib.pyplot as plt\n",
    "import DataAnalysis as da"
   ]
  },
  {
   "cell_type": "code",
   "execution_count": 15,
   "id": "bf182305-ab42-473f-892e-41b28d95af02",
   "metadata": {},
   "outputs": [],
   "source": [
    "metalTubeVolume = 157.6\n",
    "tubeOffset = 7.4 # revise as needed\n",
    "volumeInGlass = lambda x: (3.32/2)**2*np.pi*(x+.64)\n",
    "volume_func = lambda x: volumeInGlass(x) +  tubeOffset + metalTubeVolume"
   ]
  },
  {
   "cell_type": "code",
   "execution_count": 11,
   "id": "69d0c579-3e7d-42ef-9046-fc5d3f7a0363",
   "metadata": {},
   "outputs": [],
   "source": [
    "height_markers = [40.5, 50, 36.5, 12, 15]\n",
    "volume = [volume_func(x/10) for x in height_markers]\n",
    "temp = [x+273.15 for x in [23.6, 48.7, 27.7, 1.3, 14.9]]"
   ]
  },
  {
   "cell_type": "code",
   "execution_count": 5,
   "id": "89ea0c6a-870b-4ad4-9dc0-e33f5ed0db9d",
   "metadata": {},
   "outputs": [
    {
     "data": {
      "text/plain": [
       "[205.60120203912822,\n",
       " 213.82532611954866,\n",
       " 202.1384129526354,\n",
       " 180.92882979786694,\n",
       " 183.52592161273654]"
      ]
     },
     "execution_count": 5,
     "metadata": {},
     "output_type": "execute_result"
    }
   ],
   "source": [
    "volume"
   ]
  },
  {
   "cell_type": "code",
   "execution_count": 14,
   "id": "892c6c1d-a4de-46cd-9a38-6ad42a01124a",
   "metadata": {},
   "outputs": [
    {
     "data": {
      "text/plain": [
       "([1.1169491319596754, 76.12323206850002],\n",
       " [0.0348556719430609, 6.8882086797934114],\n",
       " [array([305.76931622, 314.95524447, 301.90155695, 278.21153146,\n",
       "         281.11235091]),\n",
       "  array([ 9.01931622, -6.89475553,  1.05155695,  3.76153146, -6.93764909])],\n",
       " [192.2715847218414])"
      ]
     },
     "execution_count": 14,
     "metadata": {},
     "output_type": "execute_result"
    }
   ],
   "source": [
    "da.weighted_least_squares_linear(volume, temp, np.ones(len(temp)))"
   ]
  },
  {
   "cell_type": "code",
   "execution_count": 6,
   "id": "38197bcd-6078-495a-ae2b-6ca38b127fce",
   "metadata": {},
   "outputs": [
    {
     "data": {
      "text/plain": [
       "<ErrorbarContainer object of 3 artists>"
      ]
     },
     "execution_count": 6,
     "metadata": {},
     "output_type": "execute_result"
    },
    {
     "data": {
      "image/png": "[encoded data removed]",
      "text/plain": [
       "<Figure size 432x288 with 1 Axes>"
      ]
     },
     "metadata": {
      "needs_background": "light"
     },
     "output_type": "display_data"
    }
   ],
   "source": [
    "plt.errorbar(temp, volume, fmt=\"o\", yerr= 5)"
   ]
  },
  {
   "cell_type": "code",
   "execution_count": 7,
   "id": "2fe2bd65-19a9-4d79-b304-151412c3d692",
   "metadata": {},
   "outputs": [
    {
     "data": {
      "text/plain": [
       "0.9177639781092983"
      ]
     },
     "execution_count": 7,
     "metadata": {},
     "output_type": "execute_result"
    }
   ],
   "source": [
    "da.correlation_coefficients(temp, volume)"
   ]
  },
  {
   "cell_type": "code",
   "execution_count": 22,
   "id": "0812ccb6-dc28-4c46-a6e5-6c1724c2306b",
   "metadata": {},
   "outputs": [],
   "source": [
    "height_markers2 = [37, 46.5, 40.5, 23, 19.5]\n",
    "volume2 = [volume_func(x/10) for x in height_markers2]\n",
    "temp2 = [x+273.15 for x in [24, 41.9, 29.7, 6.5, 5.3]]"
   ]
  },
  {
   "cell_type": "code",
   "execution_count": 18,
   "id": "c98df097-8cb4-4a70-8b18-626feb859916",
   "metadata": {},
   "outputs": [
    {
     "data": {
      "text/plain": [
       "<ErrorbarContainer object of 3 artists>"
      ]
     },
     "execution_count": 18,
     "metadata": {},
     "output_type": "execute_result"
    },
    {
     "data": {
      "image/png": "[encoded data removed]",
      "text/plain": [
       "<Figure size 432x288 with 1 Axes>"
      ]
     },
     "metadata": {
      "needs_background": "light"
     },
     "output_type": "display_data"
    }
   ],
   "source": [
    "plt.errorbar(temp2, volume2, fmt=\"o\", yerr= 5)"
   ]
  },
  {
   "cell_type": "code",
   "execution_count": 20,
   "id": "ddfba21f-b985-48c4-a6a5-e9fa95e64384",
   "metadata": {},
   "outputs": [
    {
     "data": {
      "text/plain": [
       "0.988593612592359"
      ]
     },
     "execution_count": 20,
     "metadata": {},
     "output_type": "execute_result"
    }
   ],
   "source": [
    "da.correlation_coefficients(temp2, volume2)"
   ]
  },
  {
   "cell_type": "code",
   "execution_count": 23,
   "id": "b4d6d8da-bf32-4ea5-a614-a79e93ad8404",
   "metadata": {},
   "outputs": [
    {
     "data": {
      "text/plain": [
       "([1.5413976504068432, -12.675646812740842],\n",
       " [0.04988041438398786, 9.954618179878972],\n",
       " [array([299.56721984, 312.24386537, 304.23756293, 280.88584747,\n",
       "         276.21550438]),\n",
       "  array([ 2.41721984, -2.80613463,  1.38756293,  1.23584747, -2.23449562])],\n",
       " [22.16296382621656])"
      ]
     },
     "execution_count": 23,
     "metadata": {},
     "output_type": "execute_result"
    }
   ],
   "source": [
    "da.weighted_least_squares_linear(volume2, temp2, np.ones(len(temp)))"
   ]
  },
  {
   "cell_type": "code",
   "execution_count": 24,
   "id": "be930749-5b91-4a9c-9dd0-e166c215aa7b",
   "metadata": {},
   "outputs": [
    {
     "data": {
      "text/plain": [
       "[202.57126158844702,\n",
       " 210.79538566886745,\n",
       " 205.60120203912822,\n",
       " 190.45149978572218,\n",
       " 187.42155933504097]"
      ]
     },
     "execution_count": 24,
     "metadata": {},
     "output_type": "execute_result"
    }
   ],
   "source": [
    "volume2"
   ]
  },
  {
   "cell_type": "code",
   "execution_count": null,
   "id": "de57e6a4-68f6-4346-ad35-453756ce5753",
   "metadata": {},
   "outputs": [],
   "source": []
  },
  {
   "cell_type": "code",
   "execution_count": 26,
   "id": "b1d2e5aa-f8f1-41a2-9419-7f72e91bfb06",
   "metadata": {},
   "outputs": [],
   "source": [
    "height_markers3 = [44, 42, 39, 36, 32, 28]\n",
    "volume3 = [volume_func(x/10) for x in height_markers3]\n",
    "weight = [0, 50, 100, 150, 200, 300]"
   ]
  },
  {
   "cell_type": "code",
   "execution_count": 27,
   "id": "8df69e2f-8375-4c4c-a697-0fb6976a254b",
   "metadata": {},
   "outputs": [
    {
     "data": {
      "text/plain": [
       "<matplotlib.collections.PathCollection at 0x7f05538ec1c0>"
      ]
     },
     "execution_count": 27,
     "metadata": {},
     "output_type": "execute_result"
    },
    {
     "data": {
      "image/png": "[encoded data removed]",
      "text/plain": [
       "<Figure size 432x288 with 1 Axes>"
      ]
     },
     "metadata": {
      "needs_background": "light"
     },
     "output_type": "display_data"
    }
   ],
   "source": [
    "plt.scatter(volume3, weight)"
   ]
  },
  {
   "cell_type": "code",
   "execution_count": 28,
   "id": "0b9cfd55-0a03-4698-b5a4-6f880775dbfa",
   "metadata": {},
   "outputs": [
    {
     "data": {
      "text/plain": [
       "-0.9948469575220568"
      ]
     },
     "execution_count": 28,
     "metadata": {},
     "output_type": "execute_result"
    }
   ],
   "source": [
    "da.correlation_coefficients(volume3, weight)"
   ]
  },
  {
   "cell_type": "code",
   "execution_count": 31,
   "id": "06d66848-3c9a-44d1-aa6d-5e4d23db619d",
   "metadata": {},
   "outputs": [
    {
     "data": {
      "text/plain": [
       "([-20.415427402788257, 4265.9666215499],\n",
       " [0.08496573200572331, 17.20420088406292],\n",
       " [array([  6.67267809,  42.01983769,  95.0405771 , 148.0613165 ,\n",
       "         218.75563571, 289.44995491]),\n",
       "  array([  6.67267809,  -7.98016231,  -4.9594229 ,  -1.9386835 ,\n",
       "          18.75563571, -10.55004509])],\n",
       " [599.6393146979193])"
      ]
     },
     "execution_count": 31,
     "metadata": {},
     "output_type": "execute_result"
    }
   ],
   "source": [
    "da.weighted_least_squares_linear(volume3, weight, np.ones(len(volume3)))"
   ]
  },
  {
   "cell_type": "code",
   "execution_count": 33,
   "id": "fd88f9fd-ceab-4225-beb8-8228aa83c2dc",
   "metadata": {},
   "outputs": [],
   "source": [
    "height_markers4 = [69, 67, 65, 62, 59, 54]\n",
    "volume4 = [volume_func(x/10) for x in height_markers4]\n",
    "weight = [0, 50, 100, 150, 200, 300]"
   ]
  },
  {
   "cell_type": "code",
   "execution_count": 35,
   "id": "7275baa4-de3c-459a-a3df-ff32193f6580",
   "metadata": {},
   "outputs": [
    {
     "data": {
      "text/plain": [
       "<matplotlib.collections.PathCollection at 0x7f055304ae30>"
      ]
     },
     "execution_count": 35,
     "metadata": {},
     "output_type": "execute_result"
    },
    {
     "data": {
      "image/png": "[encoded data removed]",
      "text/plain": [
       "<Figure size 432x288 with 1 Axes>"
      ]
     },
     "metadata": {
      "needs_background": "light"
     },
     "output_type": "display_data"
    }
   ],
   "source": [
    "plt.scatter(volume4, weight)"
   ]
  },
  {
   "cell_type": "code",
   "execution_count": 36,
   "id": "6958e344-494a-492b-9e8a-67e7ae3eba1b",
   "metadata": {},
   "outputs": [
    {
     "data": {
      "text/plain": [
       "-0.9975280005098816"
      ]
     },
     "execution_count": 36,
     "metadata": {},
     "output_type": "execute_result"
    }
   ],
   "source": [
    "da.correlation_coefficients(volume4, weight)"
   ]
  },
  {
   "cell_type": "code",
   "execution_count": 4,
   "id": "7d50c661-6553-485c-b2df-ab65bad6ad96",
   "metadata": {},
   "outputs": [
    {
     "data": {
      "text/plain": [
       "0.03342059822870829"
      ]
     },
     "execution_count": 4,
     "metadata": {},
     "output_type": "execute_result"
    }
   ],
   "source": [
    "1/np.mean([26.19, 28.28, 31.2, 28.38, 33.05, 32.43])"
   ]
  },
  {
   "cell_type": "code",
   "execution_count": 6,
   "id": "ace5c5ce-de51-42a3-85d9-9710ece81b6d",
   "metadata": {},
   "outputs": [
    {
     "data": {
      "text/plain": [
       "0.09727626459143968"
      ]
     },
     "execution_count": 6,
     "metadata": {},
     "output_type": "execute_result"
    }
   ],
   "source": [
    "1/np.mean([8.31,\n",
    "9.18,\n",
    "11.83,\n",
    "10.05,\n",
    "9.84,\n",
    "11.66,\n",
    "10.55,\n",
    "10.82])"
   ]
  },
  {
   "cell_type": "code",
   "execution_count": 8,
   "id": "44374d0f-15e7-4604-887e-28b4efa03055",
   "metadata": {},
   "outputs": [
    {
     "data": {
      "text/plain": [
       "0.18446402951424473"
      ]
     },
     "execution_count": 8,
     "metadata": {},
     "output_type": "execute_result"
    }
   ],
   "source": [
    "9/48.79"
   ]
  },
  {
   "cell_type": "code",
   "execution_count": null,
   "id": "9c69059b-f0b4-4e2c-91a7-4f6dd2eaf269",
   "metadata": {},
   "outputs": [],
   "source": []
  }
 ],
 "metadata": {
  "kernelspec": {
   "display_name": "Python 3 (ipykernel)",
   "language": "python",
   "name": "python3"
  },
  "language_info": {
   "codemirror_mode": {
    "name": "ipython",
    "version": 3
   },
   "file_extension": ".py",
   "mimetype": "text/x-python",
   "name": "python",
   "nbconvert_exporter": "python",
   "pygments_lexer": "ipython3",
   "version": "3.10.8"
  }
 },
 "nbformat": 4,
 "nbformat_minor": 5
}
